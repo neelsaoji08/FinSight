{
 "cells": [
  {
   "cell_type": "code",
   "execution_count": 1,
   "metadata": {},
   "outputs": [
    {
     "name": "stderr",
     "output_type": "stream",
     "text": [
      "c:\\Python312\\Lib\\site-packages\\tqdm\\auto.py:21: TqdmWarning: IProgress not found. Please update jupyter and ipywidgets. See https://ipywidgets.readthedocs.io/en/stable/user_install.html\n",
      "  from .autonotebook import tqdm as notebook_tqdm\n"
     ]
    }
   ],
   "source": [
    "from transformers import AutoTokenizer,AutoModelForSequenceClassification\n",
    "from peft import get_peft_model, LoraConfig  "
   ]
  },
  {
   "cell_type": "code",
   "execution_count": 3,
   "metadata": {},
   "outputs": [],
   "source": [
    "import yfinance as yf\n",
    "import pandas as pd \n",
    "import numpy as np\n",
    "import datetime\n",
    "\n",
    "\n",
    "def data_download(ticker):\n",
    "    end_date = datetime.datetime.now().date()\n",
    "    start_date = end_date - datetime.timedelta(days=365)\n",
    "    data = yf.download(ticker, start=start_date, end=end_date)\n",
    "    return data"
   ]
  },
  {
   "cell_type": "code",
   "execution_count": 5,
   "metadata": {},
   "outputs": [
    {
     "name": "stderr",
     "output_type": "stream",
     "text": [
      "[*********************100%%**********************]  1 of 1 completed\n"
     ]
    }
   ],
   "source": [
    "data=data_download('^NSEI')"
   ]
  },
  {
   "cell_type": "code",
   "execution_count": 6,
   "metadata": {},
   "outputs": [
    {
     "data": {
      "text/html": [
       "<div>\n",
       "<style scoped>\n",
       "    .dataframe tbody tr th:only-of-type {\n",
       "        vertical-align: middle;\n",
       "    }\n",
       "\n",
       "    .dataframe tbody tr th {\n",
       "        vertical-align: top;\n",
       "    }\n",
       "\n",
       "    .dataframe thead th {\n",
       "        text-align: right;\n",
       "    }\n",
       "</style>\n",
       "<table border=\"1\" class=\"dataframe\">\n",
       "  <thead>\n",
       "    <tr style=\"text-align: right;\">\n",
       "      <th></th>\n",
       "      <th>Open</th>\n",
       "      <th>High</th>\n",
       "      <th>Low</th>\n",
       "      <th>Close</th>\n",
       "      <th>Adj Close</th>\n",
       "      <th>Volume</th>\n",
       "    </tr>\n",
       "    <tr>\n",
       "      <th>Date</th>\n",
       "      <th></th>\n",
       "      <th></th>\n",
       "      <th></th>\n",
       "      <th></th>\n",
       "      <th></th>\n",
       "      <th></th>\n",
       "    </tr>\n",
       "  </thead>\n",
       "  <tbody>\n",
       "    <tr>\n",
       "      <th>2014-04-21</th>\n",
       "      <td>6789.250000</td>\n",
       "      <td>6825.450195</td>\n",
       "      <td>6786.899902</td>\n",
       "      <td>6817.649902</td>\n",
       "      <td>6817.649902</td>\n",
       "      <td>111800</td>\n",
       "    </tr>\n",
       "    <tr>\n",
       "      <th>2014-04-22</th>\n",
       "      <td>6822.899902</td>\n",
       "      <td>6838.000000</td>\n",
       "      <td>6806.250000</td>\n",
       "      <td>6815.350098</td>\n",
       "      <td>6815.350098</td>\n",
       "      <td>114700</td>\n",
       "    </tr>\n",
       "    <tr>\n",
       "      <th>2014-04-23</th>\n",
       "      <td>6823.250000</td>\n",
       "      <td>6861.600098</td>\n",
       "      <td>6820.750000</td>\n",
       "      <td>6840.799805</td>\n",
       "      <td>6840.799805</td>\n",
       "      <td>183000</td>\n",
       "    </tr>\n",
       "    <tr>\n",
       "      <th>2014-04-25</th>\n",
       "      <td>6855.799805</td>\n",
       "      <td>6869.850098</td>\n",
       "      <td>6772.850098</td>\n",
       "      <td>6782.750000</td>\n",
       "      <td>6782.750000</td>\n",
       "      <td>154300</td>\n",
       "    </tr>\n",
       "    <tr>\n",
       "      <th>2014-04-28</th>\n",
       "      <td>6778.549805</td>\n",
       "      <td>6786.250000</td>\n",
       "      <td>6750.299805</td>\n",
       "      <td>6761.250000</td>\n",
       "      <td>6761.250000</td>\n",
       "      <td>118200</td>\n",
       "    </tr>\n",
       "  </tbody>\n",
       "</table>\n",
       "</div>"
      ],
      "text/plain": [
       "                   Open         High          Low        Close    Adj Close  \\\n",
       "Date                                                                          \n",
       "2014-04-21  6789.250000  6825.450195  6786.899902  6817.649902  6817.649902   \n",
       "2014-04-22  6822.899902  6838.000000  6806.250000  6815.350098  6815.350098   \n",
       "2014-04-23  6823.250000  6861.600098  6820.750000  6840.799805  6840.799805   \n",
       "2014-04-25  6855.799805  6869.850098  6772.850098  6782.750000  6782.750000   \n",
       "2014-04-28  6778.549805  6786.250000  6750.299805  6761.250000  6761.250000   \n",
       "\n",
       "            Volume  \n",
       "Date                \n",
       "2014-04-21  111800  \n",
       "2014-04-22  114700  \n",
       "2014-04-23  183000  \n",
       "2014-04-25  154300  \n",
       "2014-04-28  118200  "
      ]
     },
     "execution_count": 6,
     "metadata": {},
     "output_type": "execute_result"
    }
   ],
   "source": [
    "data.head()"
   ]
  },
  {
   "cell_type": "code",
   "execution_count": 7,
   "metadata": {},
   "outputs": [],
   "source": [
    "data['10-day SMA'] = data['Adj Close'].rolling(window=5).mean()"
   ]
  },
  {
   "cell_type": "code",
   "execution_count": 8,
   "metadata": {},
   "outputs": [
    {
     "data": {
      "text/html": [
       "<div>\n",
       "<style scoped>\n",
       "    .dataframe tbody tr th:only-of-type {\n",
       "        vertical-align: middle;\n",
       "    }\n",
       "\n",
       "    .dataframe tbody tr th {\n",
       "        vertical-align: top;\n",
       "    }\n",
       "\n",
       "    .dataframe thead th {\n",
       "        text-align: right;\n",
       "    }\n",
       "</style>\n",
       "<table border=\"1\" class=\"dataframe\">\n",
       "  <thead>\n",
       "    <tr style=\"text-align: right;\">\n",
       "      <th></th>\n",
       "      <th>Open</th>\n",
       "      <th>High</th>\n",
       "      <th>Low</th>\n",
       "      <th>Close</th>\n",
       "      <th>Adj Close</th>\n",
       "      <th>Volume</th>\n",
       "      <th>10-day SMA</th>\n",
       "    </tr>\n",
       "    <tr>\n",
       "      <th>Date</th>\n",
       "      <th></th>\n",
       "      <th></th>\n",
       "      <th></th>\n",
       "      <th></th>\n",
       "      <th></th>\n",
       "      <th></th>\n",
       "      <th></th>\n",
       "    </tr>\n",
       "  </thead>\n",
       "  <tbody>\n",
       "    <tr>\n",
       "      <th>2014-04-21</th>\n",
       "      <td>6789.250000</td>\n",
       "      <td>6825.450195</td>\n",
       "      <td>6786.899902</td>\n",
       "      <td>6817.649902</td>\n",
       "      <td>6817.649902</td>\n",
       "      <td>111800</td>\n",
       "      <td>NaN</td>\n",
       "    </tr>\n",
       "    <tr>\n",
       "      <th>2014-04-22</th>\n",
       "      <td>6822.899902</td>\n",
       "      <td>6838.000000</td>\n",
       "      <td>6806.250000</td>\n",
       "      <td>6815.350098</td>\n",
       "      <td>6815.350098</td>\n",
       "      <td>114700</td>\n",
       "      <td>NaN</td>\n",
       "    </tr>\n",
       "    <tr>\n",
       "      <th>2014-04-23</th>\n",
       "      <td>6823.250000</td>\n",
       "      <td>6861.600098</td>\n",
       "      <td>6820.750000</td>\n",
       "      <td>6840.799805</td>\n",
       "      <td>6840.799805</td>\n",
       "      <td>183000</td>\n",
       "      <td>NaN</td>\n",
       "    </tr>\n",
       "    <tr>\n",
       "      <th>2014-04-25</th>\n",
       "      <td>6855.799805</td>\n",
       "      <td>6869.850098</td>\n",
       "      <td>6772.850098</td>\n",
       "      <td>6782.750000</td>\n",
       "      <td>6782.750000</td>\n",
       "      <td>154300</td>\n",
       "      <td>NaN</td>\n",
       "    </tr>\n",
       "    <tr>\n",
       "      <th>2014-04-28</th>\n",
       "      <td>6778.549805</td>\n",
       "      <td>6786.250000</td>\n",
       "      <td>6750.299805</td>\n",
       "      <td>6761.250000</td>\n",
       "      <td>6761.250000</td>\n",
       "      <td>118200</td>\n",
       "      <td>6803.559961</td>\n",
       "    </tr>\n",
       "    <tr>\n",
       "      <th>2014-04-29</th>\n",
       "      <td>6769.000000</td>\n",
       "      <td>6779.700195</td>\n",
       "      <td>6708.649902</td>\n",
       "      <td>6715.250000</td>\n",
       "      <td>6715.250000</td>\n",
       "      <td>115500</td>\n",
       "      <td>6783.079980</td>\n",
       "    </tr>\n",
       "    <tr>\n",
       "      <th>2014-04-30</th>\n",
       "      <td>6724.950195</td>\n",
       "      <td>6780.149902</td>\n",
       "      <td>6656.799805</td>\n",
       "      <td>6696.399902</td>\n",
       "      <td>6696.399902</td>\n",
       "      <td>161100</td>\n",
       "      <td>6759.289941</td>\n",
       "    </tr>\n",
       "    <tr>\n",
       "      <th>2014-05-02</th>\n",
       "      <td>6709.950195</td>\n",
       "      <td>6737.649902</td>\n",
       "      <td>6689.500000</td>\n",
       "      <td>6694.799805</td>\n",
       "      <td>6694.799805</td>\n",
       "      <td>114300</td>\n",
       "      <td>6730.089941</td>\n",
       "    </tr>\n",
       "    <tr>\n",
       "      <th>2014-05-05</th>\n",
       "      <td>6681.649902</td>\n",
       "      <td>6741.049805</td>\n",
       "      <td>6680.450195</td>\n",
       "      <td>6699.350098</td>\n",
       "      <td>6699.350098</td>\n",
       "      <td>105000</td>\n",
       "      <td>6713.409961</td>\n",
       "    </tr>\n",
       "    <tr>\n",
       "      <th>2014-05-06</th>\n",
       "      <td>6719.250000</td>\n",
       "      <td>6743.450195</td>\n",
       "      <td>6701.899902</td>\n",
       "      <td>6715.299805</td>\n",
       "      <td>6715.299805</td>\n",
       "      <td>88300</td>\n",
       "      <td>6704.219922</td>\n",
       "    </tr>\n",
       "  </tbody>\n",
       "</table>\n",
       "</div>"
      ],
      "text/plain": [
       "                   Open         High          Low        Close    Adj Close  \\\n",
       "Date                                                                          \n",
       "2014-04-21  6789.250000  6825.450195  6786.899902  6817.649902  6817.649902   \n",
       "2014-04-22  6822.899902  6838.000000  6806.250000  6815.350098  6815.350098   \n",
       "2014-04-23  6823.250000  6861.600098  6820.750000  6840.799805  6840.799805   \n",
       "2014-04-25  6855.799805  6869.850098  6772.850098  6782.750000  6782.750000   \n",
       "2014-04-28  6778.549805  6786.250000  6750.299805  6761.250000  6761.250000   \n",
       "2014-04-29  6769.000000  6779.700195  6708.649902  6715.250000  6715.250000   \n",
       "2014-04-30  6724.950195  6780.149902  6656.799805  6696.399902  6696.399902   \n",
       "2014-05-02  6709.950195  6737.649902  6689.500000  6694.799805  6694.799805   \n",
       "2014-05-05  6681.649902  6741.049805  6680.450195  6699.350098  6699.350098   \n",
       "2014-05-06  6719.250000  6743.450195  6701.899902  6715.299805  6715.299805   \n",
       "\n",
       "            Volume   10-day SMA  \n",
       "Date                             \n",
       "2014-04-21  111800          NaN  \n",
       "2014-04-22  114700          NaN  \n",
       "2014-04-23  183000          NaN  \n",
       "2014-04-25  154300          NaN  \n",
       "2014-04-28  118200  6803.559961  \n",
       "2014-04-29  115500  6783.079980  \n",
       "2014-04-30  161100  6759.289941  \n",
       "2014-05-02  114300  6730.089941  \n",
       "2014-05-05  105000  6713.409961  \n",
       "2014-05-06   88300  6704.219922  "
      ]
     },
     "execution_count": 8,
     "metadata": {},
     "output_type": "execute_result"
    }
   ],
   "source": [
    "data.head(10)"
   ]
  },
  {
   "cell_type": "code",
   "execution_count": 2,
   "metadata": {},
   "outputs": [],
   "source": [
    "tokenizer_sentiment = AutoTokenizer.from_pretrained(\"ahmedrachid/FinancialBERT-Sentiment-Analysis\")\n",
    "model_sentiment = AutoModelForSequenceClassification.from_pretrained(\"ahmedrachid/FinancialBERT-Sentiment-Analysis\", num_labels=3)\n",
    "lora_config = LoraConfig.from_pretrained('models/FinancialBert')\n",
    "model_sentiment = get_peft_model(model_sentiment, lora_config)"
   ]
  },
  {
   "cell_type": "code",
   "execution_count": 3,
   "metadata": {},
   "outputs": [],
   "source": [
    "text='Raute reported a loss per share of EUR 0.86 for the first half of 2009 , against EPS of EUR 0.74 in the corresponding period of 2008.'\n",
    "encoded_input = tokenizer_sentiment(text,padding=True,truncation=True ,return_tensors='pt')\n",
    "output = model_sentiment(**encoded_input)\n",
    "scores = output[0][0].detach().numpy()\n",
    "# scores = softmax(scores)"
   ]
  },
  {
   "cell_type": "code",
   "execution_count": 4,
   "metadata": {},
   "outputs": [
    {
     "data": {
      "text/plain": [
       "array([ 3.9228015, -2.6699772, -0.5829254], dtype=float32)"
      ]
     },
     "execution_count": 4,
     "metadata": {},
     "output_type": "execute_result"
    }
   ],
   "source": [
    "scores"
   ]
  },
  {
   "cell_type": "code",
   "execution_count": null,
   "metadata": {},
   "outputs": [],
   "source": []
  }
 ],
 "metadata": {
  "kernelspec": {
   "display_name": "base",
   "language": "python",
   "name": "python3"
  },
  "language_info": {
   "codemirror_mode": {
    "name": "ipython",
    "version": 3
   },
   "file_extension": ".py",
   "mimetype": "text/x-python",
   "name": "python",
   "nbconvert_exporter": "python",
   "pygments_lexer": "ipython3",
   "version": "3.12.0"
  }
 },
 "nbformat": 4,
 "nbformat_minor": 2
}
