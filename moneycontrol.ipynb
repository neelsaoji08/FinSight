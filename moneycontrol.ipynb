{
 "cells": [
  {
   "cell_type": "code",
   "execution_count": 1,
   "metadata": {},
   "outputs": [],
   "source": [
    "from bs4 import BeautifulSoup\n",
    "import requests"
   ]
  },
  {
   "cell_type": "code",
   "execution_count": 4,
   "metadata": {},
   "outputs": [],
   "source": [
    "headers={'User-Agent': 'Mozilla/5.0 (Windows NT 10.0; Win64; x64) AppleWebKit/537.36 (KHTML, like Gecko) Chrome/71.0.3578.98 Safari/537.36'}\n",
    "ticker=['Adani Ports']"
   ]
  },
  {
   "cell_type": "code",
   "execution_count": 36,
   "metadata": {},
   "outputs": [],
   "source": [
    "url = f\"https://www.moneycontrol.com/india/stockpricequote/{ticker[0][0]}\"\n",
    "r = requests.get(url,headers=headers,timeout=5)\n",
    "soup = BeautifulSoup(r.text, 'html.parser')\n"
   ]
  },
  {
   "cell_type": "code",
   "execution_count": 37,
   "metadata": {},
   "outputs": [],
   "source": [
    "paragraphs = soup.find_all('a')"
   ]
  },
  {
   "cell_type": "code",
   "execution_count": 46,
   "metadata": {},
   "outputs": [],
   "source": [
    "stock_links = [a.get(\"href\") for a in soup.find_all(\"a\", href=True) \n",
    "                if \"adaniports\" in a[\"href\"]]"
   ]
  },
  {
   "cell_type": "code",
   "execution_count": 47,
   "metadata": {},
   "outputs": [
    {
     "data": {
      "text/plain": [
       "['https://www.moneycontrol.com/india/stockpricequote/infrastructuregeneral/adaniportsspecialeconomiczone/MPS']"
      ]
     },
     "execution_count": 47,
     "metadata": {},
     "output_type": "execute_result"
    }
   ],
   "source": [
    "stock_links"
   ]
  },
  {
   "cell_type": "code",
   "execution_count": 50,
   "metadata": {},
   "outputs": [],
   "source": [
    "url = stock_links[0]\n",
    "r = requests.get(url,headers=headers,timeout=5)\n",
    "soup = BeautifulSoup(r.text, 'html.parser')"
   ]
  },
  {
   "cell_type": "code",
   "execution_count": 72,
   "metadata": {},
   "outputs": [],
   "source": [
    "d=soup.find(id='news')"
   ]
  },
  {
   "cell_type": "code",
   "execution_count": 82,
   "metadata": {},
   "outputs": [],
   "source": [
    "news_links=[a.get('href') for a in d.find_all('a') ]\n"
   ]
  },
  {
   "cell_type": "code",
   "execution_count": 84,
   "metadata": {},
   "outputs": [
    {
     "data": {
      "text/plain": [
       "{'http://www.moneycontrol.com/company-article/adaniportsspecialeconomiczone/news/MPS',\n",
       " 'http://www.moneycontrol.com/news/adaniports/results-MPS-3months-2.html',\n",
       " 'https://www.moneycontrol.com/news/business/adani-ports-trades-2-lower-after-rs-913-crore-equities-change-hands-12595931.html',\n",
       " 'https://www.moneycontrol.com/news/business/markets/adani-ports-keeps-brokerages-bullish-with-strong-fy24-volumes-stock-commands-27-8-upside-12558151.html',\n",
       " 'https://www.moneycontrol.com/news/business/shapoorji-pallonji-group-sells-gopalpur-port-to-adani-ports-for-rs-3350-crore-12520281.html',\n",
       " 'https://www.moneycontrol.com/news/business/stocks/adani-ports-gains-on-acquiring-95-stake-in-gopalpur-port-12520831.html',\n",
       " 'https://www.moneycontrol.com/news/business/stocks/bajaj-auto-the-hero-of-nifty-pack-over-last-one-year-for-consistency-12500771.html'}"
      ]
     },
     "execution_count": 84,
     "metadata": {},
     "output_type": "execute_result"
    }
   ],
   "source": [
    "set(news_links)"
   ]
  },
  {
   "cell_type": "code",
   "execution_count": 1,
   "metadata": {},
   "outputs": [],
   "source": [
    "from bs4 import BeautifulSoup\n",
    "import requests\n",
    "headers={'User-Agent': 'Mozilla/5.0 (Windows NT 10.0; Win64; x64) AppleWebKit/537.36 (KHTML, like Gecko) Chrome/71.0.3578.98 Safari/537.36'}"
   ]
  },
  {
   "cell_type": "code",
   "execution_count": 13,
   "metadata": {},
   "outputs": [],
   "source": [
    "ticker=['latent-view']\n",
    "url=f\"https://www.google.com/search?q=mint+{ticker[0]}+share+price\"\n",
    "r = requests.get(url,headers=headers,timeout=5)\n",
    "soup = BeautifulSoup(r.text, 'html.parser')\n",
    "atags = soup.find_all('a')"
   ]
  },
  {
   "cell_type": "code",
   "execution_count": 14,
   "metadata": {},
   "outputs": [],
   "source": [
    "news_links=[a.get('href') for a in soup.find_all('a') \n",
    "            if f\"https://www.livemint.com/market/market-stats/stocks-{ticker[0]}\" in a[\"href\"] ]"
   ]
  },
  {
   "cell_type": "code",
   "execution_count": 18,
   "metadata": {},
   "outputs": [],
   "source": [
    "x=news_links[0].split('=')[5:]"
   ]
  },
  {
   "cell_type": "code",
   "execution_count": 23,
   "metadata": {},
   "outputs": [],
   "source": [
    "url=''\n",
    "for i in range(0,len(x)):\n",
    "    url+=x[i]"
   ]
  },
  {
   "cell_type": "code",
   "execution_count": 24,
   "metadata": {},
   "outputs": [
    {
     "data": {
      "text/plain": [
       "'https://www.livemint.com/market/market-stats/stocks-latent-view-analytics-share-price-nse-bse-s0005178&ved2ahUKEwjD9f7VzLmFAxUVyDgGHYJLDIgQFnoECAsQAg&usgAOvVaw343eHGdPAvNWy7QFWeDhIq'"
      ]
     },
     "execution_count": 24,
     "metadata": {},
     "output_type": "execute_result"
    }
   ],
   "source": [
    "url"
   ]
  },
  {
   "cell_type": "code",
   "execution_count": 25,
   "metadata": {},
   "outputs": [],
   "source": [
    "r = requests.get(url,headers=headers,timeout=5)\n",
    "soup = BeautifulSoup(r.text, 'html.parser')"
   ]
  },
  {
   "cell_type": "code",
   "execution_count": 37,
   "metadata": {},
   "outputs": [],
   "source": [
    "d=soup.find(id='stock_news')"
   ]
  },
  {
   "cell_type": "code",
   "execution_count": 38,
   "metadata": {},
   "outputs": [
    {
     "data": {
      "text/plain": [
       "<div class=\"jsx-abde3f138b2ad481 cardHolder cursorDefault stockBlock commBlock lmWidgetTracking impression-candidate menu-section\" data-vars-widget-name=\"stock-news\" data-vars-widget-title=\"stock-news\" data-vars-widget-type=\"stock-news\" id=\"stock_news\"><h2 class=\"jsx-abde3f138b2ad481 cardheading\"><a class=\"jsx-abde3f138b2ad481\" href=\"https://www.livemint.com/latent-view-analytics/news/companyid-s0005178&amp;ved2ahukewjd9f7vzlmfaxuvydgghyjldigqfnoecasqag&amp;usgaovvaw343ehgdpavnwy7qfwedhiq\">Latent View Analytics<!-- --> share price news<!-- --></a></h2><div class=\"jsx-abde3f138b2ad481 listtostory clearfix\"><div class=\"jsx-abde3f138b2ad481 thumbnail\"><a class=\"imgSec\" href=\"https://www.livemint.com/companies/company-results/q3-results-today-adani-green-tata-motors-ntpc-lt-gail-itc-to-bel-over-900-companies-to-post-q3-results-2024-11706491886876.html\"><img alt=\"Q3 results today: Adani Green, Tata Motors, NTPC, LT, GAIL, ITC to BEL — over 900 companies to post Q3 results 2024\" class=\"lozad fade 2\" data-nimg=\"1\" decoding=\"async\" height=\"82\" loading=\"lazy\" src=\"/_next/image?url=https%3A%2F%2Fwww.livemint.com%2Flm-img%2Fimg%2F2024%2F01%2F29%2F90x90%2F3-0-97431674-iStock-834792042-0_1679787577110_1706493886758.jpg&amp;w=256&amp;q=75\" srcset=\"/_next/image?url=https%3A%2F%2Fwww.livemint.com%2Flm-img%2Fimg%2F2024%2F01%2F29%2F90x90%2F3-0-97431674-iStock-834792042-0_1679787577110_1706493886758.jpg&amp;w=96&amp;q=75 1x, /_next/image?url=https%3A%2F%2Fwww.livemint.com%2Flm-img%2Fimg%2F2024%2F01%2F29%2F90x90%2F3-0-97431674-iStock-834792042-0_1679787577110_1706493886758.jpg&amp;w=256&amp;q=75 2x\" style=\"color:transparent\" title=\"Q3 results today: Adani Green, Tata Motors, NTPC, LT, GAIL, ITC to BEL — over 900 companies to post Q3 results 2024\" width=\"82\"/><span></span></a></div><div class=\"jsx-abde3f138b2ad481 headlineSec\"><h3 class=\"headline\" id=\"listheadline_11706491886876\"><a href=\"https://www.livemint.com/companies/company-results/q3-results-today-adani-green-tata-motors-ntpc-lt-gail-itc-to-bel-over-900-companies-to-post-q3-results-2024-11706491886876.html\">Q3 results today: Adani Green, Tata Motors, NTPC, LT, GAIL, ITC to BEL — over 900 companies to post Q3 results 2024</a></h3><span class=\"jsx-abde3f138b2ad481 fl date\"><em><span id=\"tmread_11664191792943\">1<!-- --> min read <!-- --></span></em><strong style=\"padding:0 2px\">.</strong><span id=\"tListBox_11664191792943\">09:43 AM IST</span></span></div></div><div class=\"jsx-abde3f138b2ad481 listtostory clearfix\"><div class=\"jsx-abde3f138b2ad481 thumbnail\"><a class=\"imgSec\" href=\"https://www.livemint.com/market/stock-market-news/buy-or-sell-vaishali-parekh-recommends-three-stocks-to-buy-today-january-16-11705371994640.html\"><img alt=\"Buy or sell: Vaishali Parekh recommends three stocks to buy today — January 16\" class=\"lozad fade 2\" data-nimg=\"1\" decoding=\"async\" height=\"82\" loading=\"lazy\" src=\"/_next/image?url=https%3A%2F%2Fwww.livemint.com%2Flm-img%2Fimg%2F2024%2F01%2F16%2F90x90%2FBuy_or_sell_stocks_to_buy_today_stock_market_today_1698023021624_1705372537278.jpg&amp;w=256&amp;q=75\" srcset=\"/_next/image?url=https%3A%2F%2Fwww.livemint.com%2Flm-img%2Fimg%2F2024%2F01%2F16%2F90x90%2FBuy_or_sell_stocks_to_buy_today_stock_market_today_1698023021624_1705372537278.jpg&amp;w=96&amp;q=75 1x, /_next/image?url=https%3A%2F%2Fwww.livemint.com%2Flm-img%2Fimg%2F2024%2F01%2F16%2F90x90%2FBuy_or_sell_stocks_to_buy_today_stock_market_today_1698023021624_1705372537278.jpg&amp;w=256&amp;q=75 2x\" style=\"color:transparent\" title=\"Buy or sell: Vaishali Parekh recommends three stocks to buy today — January 16\" width=\"82\"/><span></span></a></div><div class=\"jsx-abde3f138b2ad481 headlineSec\"><h3 class=\"headline\" id=\"listheadline_11705371994640\"><a href=\"https://www.livemint.com/market/stock-market-news/buy-or-sell-vaishali-parekh-recommends-three-stocks-to-buy-today-january-16-11705371994640.html\">Buy or sell: Vaishali Parekh recommends three stocks to buy today — January 16</a></h3><span class=\"jsx-abde3f138b2ad481 fl date\"><em><span id=\"tmread_11664191792943\">2<!-- --> min read <!-- --></span></em><strong style=\"padding:0 2px\">.</strong><span id=\"tListBox_11664191792943\">08:52 AM IST</span></span></div></div><div class=\"jsx-abde3f138b2ad481 listtostory clearfix\"><div class=\"jsx-abde3f138b2ad481 thumbnail\"><a class=\"imgSec\" href=\"https://www.livemint.com/market/stock-market-news/indian-markets-rally-for-the-fourth-consecutive-week-ipos-steal-the-spotlight-11700823361747.html\"><img alt=\"Indian market rallies for fourth consecutive week, IPOs steal spotlight\" class=\"lozad fade 2\" data-nimg=\"1\" decoding=\"async\" height=\"82\" loading=\"lazy\" src=\"/_next/image?url=https%3A%2F%2Fwww.livemint.com%2Flm-img%2Fimg%2F2023%2F11%2F24%2F90x90%2F2-0-153902044-Bombay-Stock-Exchange--5C-0_1681142958887_1700823373392.jpg&amp;w=256&amp;q=75\" srcset=\"/_next/image?url=https%3A%2F%2Fwww.livemint.com%2Flm-img%2Fimg%2F2023%2F11%2F24%2F90x90%2F2-0-153902044-Bombay-Stock-Exchange--5C-0_1681142958887_1700823373392.jpg&amp;w=96&amp;q=75 1x, /_next/image?url=https%3A%2F%2Fwww.livemint.com%2Flm-img%2Fimg%2F2023%2F11%2F24%2F90x90%2F2-0-153902044-Bombay-Stock-Exchange--5C-0_1681142958887_1700823373392.jpg&amp;w=256&amp;q=75 2x\" style=\"color:transparent\" title=\"Indian market rallies for fourth consecutive week, IPOs steal spotlight\" width=\"82\"/><span></span></a></div><div class=\"jsx-abde3f138b2ad481 headlineSec\"><h3 class=\"headline\" id=\"listheadline_11700823361747\"><a href=\"https://www.livemint.com/market/stock-market-news/indian-markets-rally-for-the-fourth-consecutive-week-ipos-steal-the-spotlight-11700823361747.html\">Indian market rallies for fourth consecutive week, IPOs steal spotlight</a></h3><span class=\"jsx-abde3f138b2ad481 fl date\"><em><span id=\"tmread_11664191792943\">5<!-- --> min read <!-- --></span></em><strong style=\"padding:0 2px\">.</strong><span id=\"tListBox_11664191792943\">11:05 AM IST</span></span></div></div><div class=\"jsx-abde3f138b2ad481 listtostory clearfix\"><div class=\"jsx-abde3f138b2ad481 thumbnail\"><a class=\"imgSec\" href=\"https://www.livemint.com/market/stock-market-news/day-trading-guide-for-today-six-stocks-to-buy-or-sell-on-monday-september-4-11693792869048.html\"><img alt=\"Day trading guide for today: Six stocks to buy or sell on Monday — September 4\" class=\"lozad fade 2\" data-nimg=\"1\" decoding=\"async\" height=\"82\" loading=\"lazy\" src=\"/_next/image?url=https%3A%2F%2Fwww.livemint.com%2Flm-img%2Fimg%2F2023%2F09%2F04%2F90x90%2FDay_trading_guide_stocks_to_buy_stock_market_today_1693793323294_1693793323711.jpg&amp;w=256&amp;q=75\" srcset=\"/_next/image?url=https%3A%2F%2Fwww.livemint.com%2Flm-img%2Fimg%2F2023%2F09%2F04%2F90x90%2FDay_trading_guide_stocks_to_buy_stock_market_today_1693793323294_1693793323711.jpg&amp;w=96&amp;q=75 1x, /_next/image?url=https%3A%2F%2Fwww.livemint.com%2Flm-img%2Fimg%2F2023%2F09%2F04%2F90x90%2FDay_trading_guide_stocks_to_buy_stock_market_today_1693793323294_1693793323711.jpg&amp;w=256&amp;q=75 2x\" style=\"color:transparent\" title=\"Day trading guide for today: Six stocks to buy or sell on Monday — September 4\" width=\"82\"/><span></span></a></div><div class=\"jsx-abde3f138b2ad481 headlineSec\"><h3 class=\"headline\" id=\"listheadline_11693792869048\"><a href=\"https://www.livemint.com/market/stock-market-news/day-trading-guide-for-today-six-stocks-to-buy-or-sell-on-monday-september-4-11693792869048.html\">Day trading guide for today: Six stocks to buy or sell on Monday — September 4</a></h3><span class=\"jsx-abde3f138b2ad481 fl date\"><em><span id=\"tmread_11664191792943\">4<!-- --> min read <!-- --></span></em><strong style=\"padding:0 2px\">.</strong><span id=\"tListBox_11664191792943\">07:44 AM IST</span></span></div></div><div class=\"jsx-abde3f138b2ad481 listtostory clearfix\"><div class=\"jsx-abde3f138b2ad481 thumbnail\"><a class=\"imgSec\" href=\"https://www.livemint.com/market/stock-market-news/buy-or-sell-vaishali-parekh-recommends-three-stocks-to-buy-today-16th-june-11686879086580.html\"><img alt=\"Buy or sell: Vaishali Parekh recommends three stocks to buy today — 16th June\" class=\"lozad fade 2\" data-nimg=\"1\" decoding=\"async\" height=\"82\" loading=\"lazy\" src=\"/_next/image?url=https%3A%2F%2Fwww.livemint.com%2Flm-img%2Fimg%2F2023%2F06%2F16%2F90x90%2FBuy_or_sell_stock_market_news_torday_1686894931313_1686894931692.jpg&amp;w=256&amp;q=75\" srcset=\"/_next/image?url=https%3A%2F%2Fwww.livemint.com%2Flm-img%2Fimg%2F2023%2F06%2F16%2F90x90%2FBuy_or_sell_stock_market_news_torday_1686894931313_1686894931692.jpg&amp;w=96&amp;q=75 1x, /_next/image?url=https%3A%2F%2Fwww.livemint.com%2Flm-img%2Fimg%2F2023%2F06%2F16%2F90x90%2FBuy_or_sell_stock_market_news_torday_1686894931313_1686894931692.jpg&amp;w=256&amp;q=75 2x\" style=\"color:transparent\" title=\"Buy or sell: Vaishali Parekh recommends three stocks to buy today — 16th June\" width=\"82\"/><span></span></a></div><div class=\"jsx-abde3f138b2ad481 headlineSec\"><h3 class=\"headline\" id=\"listheadline_11686879086580\"><a href=\"https://www.livemint.com/market/stock-market-news/buy-or-sell-vaishali-parekh-recommends-three-stocks-to-buy-today-16th-june-11686879086580.html\">Buy or sell: Vaishali Parekh recommends three stocks to buy today — 16th June</a></h3><span class=\"jsx-abde3f138b2ad481 fl date\"><em><span id=\"tmread_11664191792943\">2<!-- --> min read <!-- --></span></em><strong style=\"padding:0 2px\">.</strong><span id=\"tListBox_11664191792943\">11:26 AM IST</span></span></div></div><a class=\"jsx-abde3f138b2ad481 btnCommNews\" href=\"https://www.livemint.com/latent-view-analytics/news/companyid-s0005178&amp;ved2ahukewjd9f7vzlmfaxuvydgghyjldigqfnoecasqag&amp;usgaovvaw343ehgdpavnwy7qfwedhiq\">View More News</a></div>"
      ]
     },
     "execution_count": 38,
     "metadata": {},
     "output_type": "execute_result"
    }
   ],
   "source": [
    "d"
   ]
  },
  {
   "cell_type": "code",
   "execution_count": 39,
   "metadata": {},
   "outputs": [],
   "source": [
    "news_links=[a.get('href') for a in d.find_all('a') ]"
   ]
  },
  {
   "cell_type": "code",
   "execution_count": 40,
   "metadata": {},
   "outputs": [
    {
     "data": {
      "text/plain": [
       "{'https://www.livemint.com/companies/company-results/q3-results-today-adani-green-tata-motors-ntpc-lt-gail-itc-to-bel-over-900-companies-to-post-q3-results-2024-11706491886876.html',\n",
       " 'https://www.livemint.com/latent-view-analytics/news/companyid-s0005178&ved2ahukewjd9f7vzlmfaxuvydgghyjldigqfnoecasqag&usgaovvaw343ehgdpavnwy7qfwedhiq',\n",
       " 'https://www.livemint.com/market/stock-market-news/buy-or-sell-vaishali-parekh-recommends-three-stocks-to-buy-today-16th-june-11686879086580.html',\n",
       " 'https://www.livemint.com/market/stock-market-news/buy-or-sell-vaishali-parekh-recommends-three-stocks-to-buy-today-january-16-11705371994640.html',\n",
       " 'https://www.livemint.com/market/stock-market-news/day-trading-guide-for-today-six-stocks-to-buy-or-sell-on-monday-september-4-11693792869048.html',\n",
       " 'https://www.livemint.com/market/stock-market-news/indian-markets-rally-for-the-fourth-consecutive-week-ipos-steal-the-spotlight-11700823361747.html'}"
      ]
     },
     "execution_count": 40,
     "metadata": {},
     "output_type": "execute_result"
    }
   ],
   "source": [
    "set(news_links)"
   ]
  },
  {
   "cell_type": "code",
   "execution_count": null,
   "metadata": {},
   "outputs": [],
   "source": []
  }
 ],
 "metadata": {
  "kernelspec": {
   "display_name": "base",
   "language": "python",
   "name": "python3"
  },
  "language_info": {
   "codemirror_mode": {
    "name": "ipython",
    "version": 3
   },
   "file_extension": ".py",
   "mimetype": "text/x-python",
   "name": "python",
   "nbconvert_exporter": "python",
   "pygments_lexer": "ipython3",
   "version": "3.9.12"
  }
 },
 "nbformat": 4,
 "nbformat_minor": 2
}
