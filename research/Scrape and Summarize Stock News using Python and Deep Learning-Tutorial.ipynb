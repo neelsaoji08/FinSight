{
 "cells": [
  {
   "cell_type": "markdown",
   "metadata": {},
   "source": [
    "# 1. Install and Import Baseline Dependencies"
   ]
  },
  {
   "cell_type": "code",
   "execution_count": 3,
   "metadata": {
    "collapsed": true
   },
   "outputs": [
    {
     "name": "stdout",
     "output_type": "stream",
     "text": [
      "Requirement already satisfied: transformers in c:\\programdata\\anaconda3\\lib\\site-packages (4.2.2)\n",
      "Requirement already satisfied: regex!=2019.12.17 in c:\\programdata\\anaconda3\\lib\\site-packages (from transformers) (2020.11.13)\n",
      "Requirement already satisfied: packaging in c:\\programdata\\anaconda3\\lib\\site-packages (from transformers) (19.0)\n",
      "Requirement already satisfied: requests in c:\\users\\user\\appdata\\roaming\\python\\python37\\site-packages (from transformers) (2.25.1)\n",
      "Requirement already satisfied: importlib-metadata; python_version < \"3.8\" in c:\\programdata\\anaconda3\\lib\\site-packages (from transformers) (0.17)\n",
      "Requirement already satisfied: numpy in c:\\users\\user\\appdata\\roaming\\python\\python37\\site-packages (from transformers) (1.18.5)\n",
      "Requirement already satisfied: tokenizers==0.9.4 in c:\\programdata\\anaconda3\\lib\\site-packages (from transformers) (0.9.4)\n",
      "Requirement already satisfied: sacremoses in c:\\programdata\\anaconda3\\lib\\site-packages (from transformers) (0.0.43)\n",
      "Requirement already satisfied: tqdm>=4.27 in c:\\users\\user\\appdata\\roaming\\python\\python37\\site-packages (from transformers) (4.56.0)\n",
      "Requirement already satisfied: filelock in c:\\programdata\\anaconda3\\lib\\site-packages (from transformers) (3.0.12)\n",
      "Requirement already satisfied: pyparsing>=2.0.2 in c:\\programdata\\anaconda3\\lib\\site-packages (from packaging->transformers) (2.4.0)\n",
      "Requirement already satisfied: six in c:\\users\\user\\appdata\\roaming\\python\\python37\\site-packages (from packaging->transformers) (1.15.0)\n",
      "Requirement already satisfied: chardet<5,>=3.0.2 in c:\\programdata\\anaconda3\\lib\\site-packages (from requests->transformers) (3.0.4)\n",
      "Requirement already satisfied: urllib3<1.27,>=1.21.1 in c:\\programdata\\anaconda3\\lib\\site-packages (from requests->transformers) (1.24.2)\n",
      "Requirement already satisfied: idna<3,>=2.5 in c:\\programdata\\anaconda3\\lib\\site-packages (from requests->transformers) (2.8)\n",
      "Requirement already satisfied: certifi>=2017.4.17 in c:\\programdata\\anaconda3\\lib\\site-packages (from requests->transformers) (2019.6.16)\n",
      "Requirement already satisfied: zipp>=0.5 in c:\\programdata\\anaconda3\\lib\\site-packages (from importlib-metadata; python_version < \"3.8\"->transformers) (0.5.1)\n",
      "Requirement already satisfied: joblib in c:\\programdata\\anaconda3\\lib\\site-packages (from sacremoses->transformers) (0.13.2)\n",
      "Requirement already satisfied: click in c:\\users\\user\\appdata\\roaming\\python\\python37\\site-packages (from sacremoses->transformers) (7.1.2)\n"
     ]
    }
   ],
   "source": [
    "#%pip install transformers"
   ]
  },
  {
   "cell_type": "code",
   "execution_count": 4,
   "metadata": {},
   "outputs": [],
   "source": [
    "from transformers import PegasusTokenizer, PegasusForConditionalGeneration\n",
    "from bs4 import BeautifulSoup\n",
    "import requests"
   ]
  },
  {
   "cell_type": "markdown",
   "metadata": {},
   "source": [
    "# 2. Setup Summarization Model"
   ]
  },
  {
   "cell_type": "code",
   "execution_count": 5,
   "metadata": {},
   "outputs": [],
   "source": [
    "model_name = \"human-centered-summarization/financial-summarization-pegasus\"\n",
    "tokenizer = PegasusTokenizer.from_pretrained(model_name)\n",
    "model = PegasusForConditionalGeneration.from_pretrained(model_name)"
   ]
  },
  {
   "cell_type": "markdown",
   "metadata": {},
   "source": [
    "# 3. Summarize a Single Article"
   ]
  },
  {
   "cell_type": "code",
   "execution_count": 6,
   "metadata": {},
   "outputs": [],
   "source": [
    "url = \"https://au.finance.yahoo.com/news/china-restricting-tesla-use-uncovers-a-significant-challenge-for-elon-musk-expert-161921664.html\"\n",
    "r = requests.get(url)\n",
    "soup = BeautifulSoup(r.text, 'html.parser')\n",
    "paragraphs = soup.find_all('p')"
   ]
  },
  {
   "cell_type": "code",
   "execution_count": 13,
   "metadata": {},
   "outputs": [
    {
     "data": {
      "text/plain": [
       "\"Stay in the loop every day with Yahoo Finance's free Fully Briefed newsletter.\""
      ]
     },
     "execution_count": 13,
     "metadata": {},
     "output_type": "execute_result"
    }
   ],
   "source": [
    "paragraphs[0].text"
   ]
  },
  {
   "cell_type": "code",
   "execution_count": 26,
   "metadata": {},
   "outputs": [],
   "source": [
    "text = [paragraph.text for paragraph in paragraphs]\n",
    "words = ' '.join(text).split(' ')[:400]\n",
    "ARTICLE = ' '.join(words)"
   ]
  },
  {
   "cell_type": "code",
   "execution_count": 27,
   "metadata": {},
   "outputs": [
    {
     "data": {
      "text/plain": [
       "'Stay in the loop every day with Yahoo Finance\\'s free Fully Briefed newsletter. Renewed political tensions between the U.S. and China — which came to light this week as the Biden administration sat down with their Chinese counterparts for the first time to discuss a range of issues — could ensnarl vehicle maker Tesla (TSLA), which has pushed successfully into China in recent years. In fact, the heightened rhetoric between the two super economic superpowers may have already had blowback on Elon Musk\\'s electric car company. The Chinese government is restricting the use of Tesla vehicles by military staff and employees of vital state-owned companies, The Wall Street Journal reported Friday. Chinese officials reportedly have concerns that Tesla\\'s cars — outfitted with various data collecting capabilities — could serve as leakers of national security secrets. \"I have been saying for months now that Tesla\\'s level of integration of their business, of their research, of their sort of geo-tracking for which there is integration with Chinese maps, their development of A.I. with Chinese firms, and electric battery technology that\\'s not sustainable in China given the trajectory [on policy] that we are now on,\" policy expert and Eurasia Group founder Ian Bremmer said on Yahoo Finance Live. \"Most American A.I. and technology companies are seen as critical for national security, they don\\'t have access in China — companies like Amazon, Google and Facebook. Tesla is the outlier.\" That outlier status has made China an incredibly important market for Tesla, and a key part of the investment thesis in the stock. Tesla\\'s sales in China clocked in at $6.66 billion in 2020, up 123% from a year earlier powered by strength in the Model 3. The business made up about 21% of Tesla\\'s overall 2020 sales. Tesla began deliveries of its China-made Model Y to Chinese consumers earlier this year. Bremmer warns Tesla now has a challenging road ahead in China in light of the recent development by the military. Musk\\'s response to the Chinese actions are important for investors to watch, suggests Bremmer. \"At a moment of some white knuckle tensions between the U.S. and China, Musk & Co. find themselves in a unique position (along with Apple) of being caught in the crossfire,\" Wedbush tech analyst Dan Ives said. Tesla shares fell about 2% on the report, as investors pondered if China will take a harder line on Tesla\\'s sales to'"
      ]
     },
     "execution_count": 27,
     "metadata": {},
     "output_type": "execute_result"
    }
   ],
   "source": [
    "ARTICLE"
   ]
  },
  {
   "cell_type": "code",
   "execution_count": 28,
   "metadata": {},
   "outputs": [],
   "source": [
    "input_ids = tokenizer.encode(ARTICLE, return_tensors='pt')\n",
    "output = model.generate(input_ids, max_length=55, num_beams=5, early_stopping=True)\n",
    "summary = tokenizer.decode(output[0], skip_special_tokens=True)"
   ]
  },
  {
   "cell_type": "code",
   "execution_count": 29,
   "metadata": {},
   "outputs": [
    {
     "data": {
      "text/plain": [
       "'Tensions between U.S. and China may have already had blowback. Tesla has been successful in China in recent years'"
      ]
     },
     "execution_count": 29,
     "metadata": {},
     "output_type": "execute_result"
    }
   ],
   "source": [
    "summary"
   ]
  },
  {
   "cell_type": "markdown",
   "metadata": {},
   "source": [
    "# 4. Building a News and Sentiment Pipeline"
   ]
  },
  {
   "cell_type": "code",
   "execution_count": 30,
   "metadata": {},
   "outputs": [],
   "source": [
    "monitored_tickers = ['GME', 'TSLA', 'BTC']"
   ]
  },
  {
   "cell_type": "markdown",
   "metadata": {},
   "source": [
    "## 4.1. Search for Stock News using Google and Yahoo Finance"
   ]
  },
  {
   "cell_type": "code",
   "execution_count": 43,
   "metadata": {},
   "outputs": [],
   "source": [
    "def search_for_stock_news_urls(ticker):\n",
    "    search_url = \"https://www.google.com/search?q=yahoo+finance+{}&tbm=nws\".format(ticker)\n",
    "    r = requests.get(search_url)\n",
    "    soup = BeautifulSoup(r.text, 'html.parser')\n",
    "    atags = soup.find_all('a')\n",
    "    hrefs = [link['href'] for link in atags]\n",
    "    return hrefs "
   ]
  },
  {
   "cell_type": "code",
   "execution_count": 46,
   "metadata": {
    "collapsed": true
   },
   "outputs": [
    {
     "data": {
      "text/plain": [
       "{'GME': ['/?sa=X&ved=0ahUKEwjtkM-dr8DvAhUDqXEKHe7wCNMQOwgC',\n",
       "  '/?output=search&ie=UTF-8&tbm=nws&sa=X&ved=0ahUKEwjtkM-dr8DvAhUDqXEKHe7wCNMQPAgE',\n",
       "  '/search?q=yahoo+finance+GME&tbm=nws&ie=UTF-8&gbv=1&sei=c7NWYK2LGYPSxgPu4aOYDQ',\n",
       "  '/search?q=yahoo+finance+GME&ie=UTF-8&source=lnms&sa=X&ved=0ahUKEwjtkM-dr8DvAhUDqXEKHe7wCNMQ_AUIBygA',\n",
       "  '/search?q=yahoo+finance+GME&ie=UTF-8&tbm=shop&source=lnms&sa=X&ved=0ahUKEwjtkM-dr8DvAhUDqXEKHe7wCNMQ_AUICSgC',\n",
       "  '/search?q=yahoo+finance+GME&ie=UTF-8&tbm=vid&source=lnms&sa=X&ved=0ahUKEwjtkM-dr8DvAhUDqXEKHe7wCNMQ_AUICigD',\n",
       "  '/search?q=yahoo+finance+GME&ie=UTF-8&tbm=isch&source=lnms&sa=X&ved=0ahUKEwjtkM-dr8DvAhUDqXEKHe7wCNMQ_AUICygE',\n",
       "  'https://maps.google.com/maps?q=yahoo+finance+GME&um=1&ie=UTF-8&sa=X&ved=0ahUKEwjtkM-dr8DvAhUDqXEKHe7wCNMQ_AUIDCgF',\n",
       "  '/search?q=yahoo+finance+GME&ie=UTF-8&tbm=bks&source=lnms&sa=X&ved=0ahUKEwjtkM-dr8DvAhUDqXEKHe7wCNMQ_AUIDSgG',\n",
       "  '/advanced_search',\n",
       "  '/search?q=yahoo+finance+GME&ie=UTF-8&tbm=nws&source=lnt&tbs=qdr:h&sa=X&ved=0ahUKEwjtkM-dr8DvAhUDqXEKHe7wCNMQpwUIDw',\n",
       "  '/search?q=yahoo+finance+GME&ie=UTF-8&tbm=nws&source=lnt&tbs=qdr:d&sa=X&ved=0ahUKEwjtkM-dr8DvAhUDqXEKHe7wCNMQpwUIEA',\n",
       "  '/search?q=yahoo+finance+GME&ie=UTF-8&tbm=nws&source=lnt&tbs=qdr:w&sa=X&ved=0ahUKEwjtkM-dr8DvAhUDqXEKHe7wCNMQpwUIEQ',\n",
       "  '/search?q=yahoo+finance+GME&ie=UTF-8&tbm=nws&source=lnt&tbs=qdr:m&sa=X&ved=0ahUKEwjtkM-dr8DvAhUDqXEKHe7wCNMQpwUIEg',\n",
       "  '/search?q=yahoo+finance+GME&ie=UTF-8&tbm=nws&source=lnt&tbs=qdr:y&sa=X&ved=0ahUKEwjtkM-dr8DvAhUDqXEKHe7wCNMQpwUIEw',\n",
       "  '/search?q=yahoo+finance+GME&ie=UTF-8&tbm=nws&source=lnt&tbs=ar:1&sa=X&ved=0ahUKEwjtkM-dr8DvAhUDqXEKHe7wCNMQpwUIFA',\n",
       "  '/search?q=yahoo+finance+GME&ie=UTF-8&tbm=nws&source=lnt&tbs=sbd:1&sa=X&ved=0ahUKEwjtkM-dr8DvAhUDqXEKHe7wCNMQpwUIFg',\n",
       "  '/url?q=https://au.finance.yahoo.com/news/we-should-see-the-gme-short-squeeze-continuing-s-3-partners-174542296.html&sa=U&ved=2ahUKEwjtkM-dr8DvAhUDqXEKHe7wCNMQxfQBMAB6BAgGEAE&usg=AOvVaw3BlKOnWiNBcDLLboCAcmgt',\n",
       "  '/url?q=https://au.finance.yahoo.com/news/we-should-see-the-gme-short-squeeze-continuing-s-3-partners-174542296.html&sa=U&ved=2ahUKEwjtkM-dr8DvAhUDqXEKHe7wCNMQ0Y8FMAB6BAgGEAI&usg=AOvVaw1_byo8AqknrkaqJ81qj40E',\n",
       "  '/url?q=https://finance.yahoo.com/news/gamestop-gme-outpaces-stock-market-214509325.html&sa=U&ved=2ahUKEwjtkM-dr8DvAhUDqXEKHe7wCNMQxfQBMAF6BAgHEAE&usg=AOvVaw1dP9IPqPXC-B9_K_jFoDhd',\n",
       "  '/url?q=https://finance.yahoo.com/news/gamestop-gme-outpaces-stock-market-214509325.html&sa=U&ved=2ahUKEwjtkM-dr8DvAhUDqXEKHe7wCNMQ0Y8FMAF6BAgHEAI&usg=AOvVaw3DLxEWVuaas6grcbBsHiU_',\n",
       "  '/url?q=https://au.finance.yahoo.com/news/gme-gamestop-surge-230431651.html&sa=U&ved=2ahUKEwjtkM-dr8DvAhUDqXEKHe7wCNMQxfQBMAJ6BAgIEAE&usg=AOvVaw1mmngwkqppdQnqsm_U3cFf',\n",
       "  '/url?q=https://au.finance.yahoo.com/news/gme-gamestop-surge-230431651.html&sa=U&ved=2ahUKEwjtkM-dr8DvAhUDqXEKHe7wCNMQ0Y8FMAJ6BAgIEAI&usg=AOvVaw1UPvghXo48VfWJoL3ldNSN',\n",
       "  '/url?q=https://au.finance.yahoo.com/news/gamestop-gme-earnings-expected-grow-163004341.html&sa=U&ved=2ahUKEwjtkM-dr8DvAhUDqXEKHe7wCNMQxfQBMAN6BAgJEAE&usg=AOvVaw0jdauzWPxrKfs3vF3Tkp6e',\n",
       "  '/url?q=https://au.finance.yahoo.com/news/gamestop-gme-earnings-expected-grow-163004341.html&sa=U&ved=2ahUKEwjtkM-dr8DvAhUDqXEKHe7wCNMQ0Y8FMAN6BAgJEAI&usg=AOvVaw0ePMtXA6x_U0lLcMPUPLAQ',\n",
       "  '/url?q=https://finance.yahoo.com/news/gamestop-2-460-roller-coaster-131733513.html&sa=U&ved=2ahUKEwjtkM-dr8DvAhUDqXEKHe7wCNMQxfQBMAR6BAgFEAE&usg=AOvVaw37EfgvEgSsBJpmwgq_pu7h',\n",
       "  '/url?q=https://finance.yahoo.com/news/gamestop-2-460-roller-coaster-131733513.html&sa=U&ved=2ahUKEwjtkM-dr8DvAhUDqXEKHe7wCNMQ0Y8FMAR6BAgFEAI&usg=AOvVaw2fMUbU5VItf70jb2BM28Mb',\n",
       "  '/url?q=https://finance.yahoo.com/news/redditors-ryan-cohen-needs-help-183202679.html&sa=U&ved=2ahUKEwjtkM-dr8DvAhUDqXEKHe7wCNMQxfQBMAV6BAgBEAE&usg=AOvVaw383NXujR01Oucwjd9lrp_-',\n",
       "  '/url?q=https://finance.yahoo.com/news/redditors-ryan-cohen-needs-help-183202679.html&sa=U&ved=2ahUKEwjtkM-dr8DvAhUDqXEKHe7wCNMQ0Y8FMAV6BAgBEAI&usg=AOvVaw3rI0pkTSo2mLPLD2WvO6IO',\n",
       "  '/url?q=https://finance.yahoo.com/news/gamestop-gme-stock-sinks-market-224510746.html&sa=U&ved=2ahUKEwjtkM-dr8DvAhUDqXEKHe7wCNMQxfQBMAZ6BAgEEAE&usg=AOvVaw248zl7zQgL5DWDuOvEPtxu',\n",
       "  '/url?q=https://finance.yahoo.com/news/gamestop-gme-stock-sinks-market-224510746.html&sa=U&ved=2ahUKEwjtkM-dr8DvAhUDqXEKHe7wCNMQ0Y8FMAZ6BAgEEAI&usg=AOvVaw25pJzTLxWJbprC7782EFeV',\n",
       "  '/url?q=https://finance.yahoo.com/news/gamestop-bull-roaring-kitty-isnt-060454056.html&sa=U&ved=2ahUKEwjtkM-dr8DvAhUDqXEKHe7wCNMQxfQBMAd6BAgDEAE&usg=AOvVaw3tSfdr-2EinydDsggMS501',\n",
       "  '/url?q=https://finance.yahoo.com/news/gamestop-bull-roaring-kitty-isnt-060454056.html&sa=U&ved=2ahUKEwjtkM-dr8DvAhUDqXEKHe7wCNMQ0Y8FMAd6BAgDEAI&usg=AOvVaw3ksw_95tkoJ3NcUsIhAedw',\n",
       "  '/url?q=https://finance.yahoo.com/news/bill-gross-says-made-10-184652396.html&sa=U&ved=2ahUKEwjtkM-dr8DvAhUDqXEKHe7wCNMQxfQBMAh6BAgAEAE&usg=AOvVaw2wWcqQQRPVldKjlgShbJIH',\n",
       "  '/url?q=https://finance.yahoo.com/news/bill-gross-says-made-10-184652396.html&sa=U&ved=2ahUKEwjtkM-dr8DvAhUDqXEKHe7wCNMQ0Y8FMAh6BAgAEAI&usg=AOvVaw2_oM1OWmZAo3gI9HZ8kBHh',\n",
       "  '/url?q=https://finance.yahoo.com/news/gamestop-gme-dips-more-broader-224510835.html&sa=U&ved=2ahUKEwjtkM-dr8DvAhUDqXEKHe7wCNMQxfQBMAl6BAgCEAE&usg=AOvVaw1tgxg_26MP-xCVXCsTtu62',\n",
       "  '/url?q=https://finance.yahoo.com/news/gamestop-gme-dips-more-broader-224510835.html&sa=U&ved=2ahUKEwjtkM-dr8DvAhUDqXEKHe7wCNMQ0Y8FMAl6BAgCEAI&usg=AOvVaw0l0mBmPul-9wK85LkNNBRH',\n",
       "  '/search?q=yahoo+finance+GME&ie=UTF-8&tbm=nws&ei=c7NWYK2LGYPSxgPu4aOYDQ&start=10&sa=N',\n",
       "  '/url?q=https://support.google.com/websearch%3Fp%3Dws_settings_location%26hl%3Den-AU&sa=U&ved=0ahUKEwjtkM-dr8DvAhUDqXEKHe7wCNMQty4IVQ&usg=AOvVaw223We1OP2qq-DLOcDql66q',\n",
       "  '/url?q=https://accounts.google.com/ServiceLogin%3Fcontinue%3Dhttps://www.google.com/search%253Fq%253Dyahoo%252Bfinance%252BGME%2526tbm%253Dnws%26hl%3Den&sa=U&ved=0ahUKEwjtkM-dr8DvAhUDqXEKHe7wCNMQxs8CCFY&usg=AOvVaw0Q0LjsrJGV9BEaSOBzYkyW',\n",
       "  'https://www.google.com/preferences?hl=en-AU&fg=1&sa=X&ved=0ahUKEwjtkM-dr8DvAhUDqXEKHe7wCNMQ5fUCCFc',\n",
       "  'https://policies.google.com/privacy?hl=en-AU&fg=1',\n",
       "  'https://policies.google.com/terms?hl=en-AU&fg=1'],\n",
       " 'TSLA': ['/?sa=X&ved=0ahUKEwijqYaer8DvAhXksnEKHcENDj8QOwgC',\n",
       "  '/?output=search&ie=UTF-8&tbm=nws&sa=X&ved=0ahUKEwijqYaer8DvAhXksnEKHcENDj8QPAgE',\n",
       "  '/search?q=yahoo+finance+TSLA&tbm=nws&ie=UTF-8&gbv=1&sei=dLNWYKOfE-TlxgPBm7j4Aw',\n",
       "  '/search?q=yahoo+finance+TSLA&ie=UTF-8&source=lnms&sa=X&ved=0ahUKEwijqYaer8DvAhXksnEKHcENDj8Q_AUIBygA',\n",
       "  '/search?q=yahoo+finance+TSLA&ie=UTF-8&tbm=shop&source=lnms&sa=X&ved=0ahUKEwijqYaer8DvAhXksnEKHcENDj8Q_AUICSgC',\n",
       "  '/search?q=yahoo+finance+TSLA&ie=UTF-8&tbm=vid&source=lnms&sa=X&ved=0ahUKEwijqYaer8DvAhXksnEKHcENDj8Q_AUICigD',\n",
       "  '/search?q=yahoo+finance+TSLA&ie=UTF-8&tbm=isch&source=lnms&sa=X&ved=0ahUKEwijqYaer8DvAhXksnEKHcENDj8Q_AUICygE',\n",
       "  'https://maps.google.com/maps?q=yahoo+finance+TSLA&um=1&ie=UTF-8&sa=X&ved=0ahUKEwijqYaer8DvAhXksnEKHcENDj8Q_AUIDCgF',\n",
       "  '/search?q=yahoo+finance+TSLA&ie=UTF-8&tbm=bks&source=lnms&sa=X&ved=0ahUKEwijqYaer8DvAhXksnEKHcENDj8Q_AUIDSgG',\n",
       "  '/advanced_search',\n",
       "  '/search?q=yahoo+finance+TSLA&ie=UTF-8&tbm=nws&source=lnt&tbs=qdr:h&sa=X&ved=0ahUKEwijqYaer8DvAhXksnEKHcENDj8QpwUIDw',\n",
       "  '/search?q=yahoo+finance+TSLA&ie=UTF-8&tbm=nws&source=lnt&tbs=qdr:d&sa=X&ved=0ahUKEwijqYaer8DvAhXksnEKHcENDj8QpwUIEA',\n",
       "  '/search?q=yahoo+finance+TSLA&ie=UTF-8&tbm=nws&source=lnt&tbs=qdr:w&sa=X&ved=0ahUKEwijqYaer8DvAhXksnEKHcENDj8QpwUIEQ',\n",
       "  '/search?q=yahoo+finance+TSLA&ie=UTF-8&tbm=nws&source=lnt&tbs=qdr:m&sa=X&ved=0ahUKEwijqYaer8DvAhXksnEKHcENDj8QpwUIEg',\n",
       "  '/search?q=yahoo+finance+TSLA&ie=UTF-8&tbm=nws&source=lnt&tbs=qdr:y&sa=X&ved=0ahUKEwijqYaer8DvAhXksnEKHcENDj8QpwUIEw',\n",
       "  '/search?q=yahoo+finance+TSLA&ie=UTF-8&tbm=nws&source=lnt&tbs=ar:1&sa=X&ved=0ahUKEwijqYaer8DvAhXksnEKHcENDj8QpwUIFA',\n",
       "  '/search?q=yahoo+finance+TSLA&ie=UTF-8&tbm=nws&source=lnt&tbs=sbd:1&sa=X&ved=0ahUKEwijqYaer8DvAhXksnEKHcENDj8QpwUIFg',\n",
       "  '/url?q=https://au.finance.yahoo.com/news/china-restricting-tesla-use-uncovers-a-significant-challenge-for-elon-musk-expert-161921664.html&sa=U&ved=2ahUKEwijqYaer8DvAhXksnEKHcENDj8QxfQBMAB6BAgBEAE&usg=AOvVaw2R8n2cEQ4jxFmswELqHyak',\n",
       "  '/url?q=https://au.finance.yahoo.com/news/china-restricting-tesla-use-uncovers-a-significant-challenge-for-elon-musk-expert-161921664.html&sa=U&ved=2ahUKEwijqYaer8DvAhXksnEKHcENDj8Q0Y8FMAB6BAgBEAI&usg=AOvVaw0-TqYz5wVGTQqNxHwHr768',\n",
       "  '/url?q=https://finance.yahoo.com/news/cathie-wood-ark-price-target-171141755.html&sa=U&ved=2ahUKEwijqYaer8DvAhXksnEKHcENDj8QxfQBMAF6BAgIEAE&usg=AOvVaw0gPhzNh7mja-i5eAzPFP3x',\n",
       "  '/url?q=https://finance.yahoo.com/news/cathie-wood-ark-price-target-171141755.html&sa=U&ved=2ahUKEwijqYaer8DvAhXksnEKHcENDj8Q0Y8FMAF6BAgIEAI&usg=AOvVaw3iFAKKXP4rGGyjwHOYF7I6',\n",
       "  '/url?q=https://finance.yahoo.com/news/tesla-tsla-gains-market-dips-214509034.html&sa=U&ved=2ahUKEwijqYaer8DvAhXksnEKHcENDj8QxfQBMAJ6BAgJEAE&usg=AOvVaw1Bn7GIfOekwdmkq8wDbdi-',\n",
       "  '/url?q=https://finance.yahoo.com/news/tesla-tsla-gains-market-dips-214509034.html&sa=U&ved=2ahUKEwijqYaer8DvAhXksnEKHcENDj8Q0Y8FMAJ6BAgJEAI&usg=AOvVaw1a8eebhvblVS9KUj0JJ_hX',\n",
       "  '/url?q=https://finance.yahoo.com/news/tesla-tsla-stock-buy-sell-165650439.html&sa=U&ved=2ahUKEwijqYaer8DvAhXksnEKHcENDj8QxfQBMAN6BAgHEAE&usg=AOvVaw2al_hLgSo4nsjcnRVw8I46',\n",
       "  '/url?q=https://finance.yahoo.com/news/tesla-tsla-stock-buy-sell-165650439.html&sa=U&ved=2ahUKEwijqYaer8DvAhXksnEKHcENDj8Q0Y8FMAN6BAgHEAI&usg=AOvVaw1-gZEd_mxvjn7gCgVF0DMh',\n",
       "  '/url?q=https://finance.yahoo.com/news/u-investigating-suspected-autopilot-tesla-234850458.html&sa=U&ved=2ahUKEwijqYaer8DvAhXksnEKHcENDj8QxfQBMAR6BAgAEAE&usg=AOvVaw0N9_BGRgxdGQ7xzoBp3EJk',\n",
       "  '/url?q=https://finance.yahoo.com/news/u-investigating-suspected-autopilot-tesla-234850458.html&sa=U&ved=2ahUKEwijqYaer8DvAhXksnEKHcENDj8Q0Y8FMAR6BAgAEAI&usg=AOvVaw0EYzkodWV68wtThNNm1GjC',\n",
       "  '/url?q=https://finance.yahoo.com/news/proposed-bitcoin-ban-becomes-x-060853701.html&sa=U&ved=2ahUKEwijqYaer8DvAhXksnEKHcENDj8QxfQBMAV6BAgGEAE&usg=AOvVaw00I2ItKuUuRhYXAfsI9oTG',\n",
       "  '/url?q=https://finance.yahoo.com/news/proposed-bitcoin-ban-becomes-x-060853701.html&sa=U&ved=2ahUKEwijqYaer8DvAhXksnEKHcENDj8Q0Y8FMAV6BAgGEAI&usg=AOvVaw2l61ozDEph4jHwZzwbzzMI',\n",
       "  '/url?q=https://finance.yahoo.com/news/tesla-faces-yet-another-nhtsa-005645804.html&sa=U&ved=2ahUKEwijqYaer8DvAhXksnEKHcENDj8QxfQBMAZ6BAgFEAE&usg=AOvVaw09_a8E-vZKx-idpFybI-9r',\n",
       "  '/url?q=https://finance.yahoo.com/news/tesla-faces-yet-another-nhtsa-005645804.html&sa=U&ved=2ahUKEwijqYaer8DvAhXksnEKHcENDj8Q0Y8FMAZ6BAgFEAI&usg=AOvVaw0k1iJ4PzN-QWS6E8Kk0KBK',\n",
       "  '/url?q=https://finance.yahoo.com/video/getting-technical-dont-buy-tesla-171230741.html&sa=U&ved=2ahUKEwijqYaer8DvAhXksnEKHcENDj8QxfQBMAd6BAgCEAE&usg=AOvVaw3h-si70lDn3SXrT6xZd8yZ',\n",
       "  '/url?q=https://finance.yahoo.com/video/getting-technical-dont-buy-tesla-171230741.html&sa=U&ved=2ahUKEwijqYaer8DvAhXksnEKHcENDj8Q0Y8FMAd6BAgCEAI&usg=AOvVaw33ZS_pbTcomhGvMjvg3hsk',\n",
       "  '/url?q=https://finance.yahoo.com/news/buy-tesla-tsla-stock-too-173026416.html&sa=U&ved=2ahUKEwijqYaer8DvAhXksnEKHcENDj8QxfQBMAh6BAgEEAE&usg=AOvVaw2JMLOvP_uf4xc21JxYP6J2',\n",
       "  '/url?q=https://finance.yahoo.com/news/buy-tesla-tsla-stock-too-173026416.html&sa=U&ved=2ahUKEwijqYaer8DvAhXksnEKHcENDj8Q0Y8FMAh6BAgEEAI&usg=AOvVaw2f2TfZCX9Es9R4OS3in7SN',\n",
       "  '/url?q=https://finance.yahoo.com/news/tesla-apple-power-component-supplier-061042699.html&sa=U&ved=2ahUKEwijqYaer8DvAhXksnEKHcENDj8QxfQBMAl6BAgDEAE&usg=AOvVaw2wvIeHHqG8BdknSPDjOyoF',\n",
       "  '/url?q=https://finance.yahoo.com/news/tesla-apple-power-component-supplier-061042699.html&sa=U&ved=2ahUKEwijqYaer8DvAhXksnEKHcENDj8Q0Y8FMAl6BAgDEAI&usg=AOvVaw1yylGa_vmdh06EXqea944w',\n",
       "  '/search?q=yahoo+finance+TSLA&ie=UTF-8&tbm=nws&ei=dLNWYKOfE-TlxgPBm7j4Aw&start=10&sa=N',\n",
       "  '/url?q=https://support.google.com/websearch%3Fp%3Dws_settings_location%26hl%3Den-AU&sa=U&ved=0ahUKEwijqYaer8DvAhXksnEKHcENDj8Qty4IVQ&usg=AOvVaw3LvjMas_KAHSXMGEewjYQb',\n",
       "  '/url?q=https://accounts.google.com/ServiceLogin%3Fcontinue%3Dhttps://www.google.com/search%253Fq%253Dyahoo%252Bfinance%252BTSLA%2526tbm%253Dnws%26hl%3Den&sa=U&ved=0ahUKEwijqYaer8DvAhXksnEKHcENDj8Qxs8CCFY&usg=AOvVaw2c1nV3JLU4G96cQzZQFlqR',\n",
       "  'https://www.google.com/preferences?hl=en-AU&fg=1&sa=X&ved=0ahUKEwijqYaer8DvAhXksnEKHcENDj8Q5fUCCFc',\n",
       "  'https://policies.google.com/privacy?hl=en-AU&fg=1',\n",
       "  'https://policies.google.com/terms?hl=en-AU&fg=1'],\n",
       " 'BTC': ['/?sa=X&ved=0ahUKEwj1p8Cer8DvAhVmSxUIHVS4AGUQOwgC',\n",
       "  '/?output=search&ie=UTF-8&tbm=nws&sa=X&ved=0ahUKEwj1p8Cer8DvAhVmSxUIHVS4AGUQPAgE',\n",
       "  '/search?q=yahoo+finance+BTC&tbm=nws&ie=UTF-8&gbv=1&sei=dbNWYLWZEOaW1fAP1PCCqAY',\n",
       "  '/search?q=yahoo+finance+BTC&ie=UTF-8&source=lnms&sa=X&ved=0ahUKEwj1p8Cer8DvAhVmSxUIHVS4AGUQ_AUIBygA',\n",
       "  '/search?q=yahoo+finance+BTC&ie=UTF-8&tbm=shop&source=lnms&sa=X&ved=0ahUKEwj1p8Cer8DvAhVmSxUIHVS4AGUQ_AUICSgC',\n",
       "  '/search?q=yahoo+finance+BTC&ie=UTF-8&tbm=vid&source=lnms&sa=X&ved=0ahUKEwj1p8Cer8DvAhVmSxUIHVS4AGUQ_AUICigD',\n",
       "  '/search?q=yahoo+finance+BTC&ie=UTF-8&tbm=isch&source=lnms&sa=X&ved=0ahUKEwj1p8Cer8DvAhVmSxUIHVS4AGUQ_AUICygE',\n",
       "  'https://maps.google.com/maps?q=yahoo+finance+BTC&um=1&ie=UTF-8&sa=X&ved=0ahUKEwj1p8Cer8DvAhVmSxUIHVS4AGUQ_AUIDCgF',\n",
       "  '/search?q=yahoo+finance+BTC&ie=UTF-8&tbm=bks&source=lnms&sa=X&ved=0ahUKEwj1p8Cer8DvAhVmSxUIHVS4AGUQ_AUIDSgG',\n",
       "  '/advanced_search',\n",
       "  '/search?q=yahoo+finance+BTC&ie=UTF-8&tbm=nws&source=lnt&tbs=qdr:h&sa=X&ved=0ahUKEwj1p8Cer8DvAhVmSxUIHVS4AGUQpwUIDw',\n",
       "  '/search?q=yahoo+finance+BTC&ie=UTF-8&tbm=nws&source=lnt&tbs=qdr:d&sa=X&ved=0ahUKEwj1p8Cer8DvAhVmSxUIHVS4AGUQpwUIEA',\n",
       "  '/search?q=yahoo+finance+BTC&ie=UTF-8&tbm=nws&source=lnt&tbs=qdr:w&sa=X&ved=0ahUKEwj1p8Cer8DvAhVmSxUIHVS4AGUQpwUIEQ',\n",
       "  '/search?q=yahoo+finance+BTC&ie=UTF-8&tbm=nws&source=lnt&tbs=qdr:m&sa=X&ved=0ahUKEwj1p8Cer8DvAhVmSxUIHVS4AGUQpwUIEg',\n",
       "  '/search?q=yahoo+finance+BTC&ie=UTF-8&tbm=nws&source=lnt&tbs=qdr:y&sa=X&ved=0ahUKEwj1p8Cer8DvAhVmSxUIHVS4AGUQpwUIEw',\n",
       "  '/search?q=yahoo+finance+BTC&ie=UTF-8&tbm=nws&source=lnt&tbs=ar:1&sa=X&ved=0ahUKEwj1p8Cer8DvAhVmSxUIHVS4AGUQpwUIFA',\n",
       "  '/search?q=yahoo+finance+BTC&ie=UTF-8&tbm=nws&source=lnt&tbs=sbd:1&sa=X&ved=0ahUKEwj1p8Cer8DvAhVmSxUIHVS4AGUQpwUIFg',\n",
       "  '/url?q=https://au.sports.yahoo.com/bill-gates-bitcoin-025753416.html&sa=U&ved=2ahUKEwj1p8Cer8DvAhVmSxUIHVS4AGUQxfQBMAB6BAgCEAE&usg=AOvVaw3ZPEDXcbu14-mcjYmjYDGQ',\n",
       "  '/url?q=https://au.sports.yahoo.com/bill-gates-bitcoin-025753416.html&sa=U&ved=2ahUKEwj1p8Cer8DvAhVmSxUIHVS4AGUQ0Y8FMAB6BAgCEAI&usg=AOvVaw0i7nlYBbehSOtVlQhrOFaK',\n",
       "  '/url?q=https://au.finance.yahoo.com/news/bitcoin-passes-60-000-first-121821843.html&sa=U&ved=2ahUKEwj1p8Cer8DvAhVmSxUIHVS4AGUQxfQBMAF6BAgHEAE&usg=AOvVaw2QxKGk4wtsJ9pDKKl349sR',\n",
       "  '/url?q=https://au.finance.yahoo.com/news/bitcoin-passes-60-000-first-121821843.html&sa=U&ved=2ahUKEwj1p8Cer8DvAhVmSxUIHVS4AGUQ0Y8FMAF6BAgHEAI&usg=AOvVaw0pVL65LY_3XOlktCIS8ILv',\n",
       "  '/url?q=https://au.finance.yahoo.com/news/bitcoin-price-15-march-india-ban-094151343.html&sa=U&ved=2ahUKEwj1p8Cer8DvAhVmSxUIHVS4AGUQxfQBMAJ6BAgJEAE&usg=AOvVaw2RuZOyobDE6C0t6CENuwqK',\n",
       "  '/url?q=https://au.finance.yahoo.com/news/bitcoin-price-15-march-india-ban-094151343.html&sa=U&ved=2ahUKEwj1p8Cer8DvAhVmSxUIHVS4AGUQ0Y8FMAJ6BAgJEAI&usg=AOvVaw04rZKcgfgE2QP6jprr6_mk',\n",
       "  '/url?q=https://finance.yahoo.com/news/bitcoin-could-boom-430-ethereum-133606997.html&sa=U&ved=2ahUKEwj1p8Cer8DvAhVmSxUIHVS4AGUQxfQBMAN6BAgIEAE&usg=AOvVaw1kGdzTPaAnF9hv9lFARCgr',\n",
       "  '/url?q=https://finance.yahoo.com/news/bitcoin-could-boom-430-ethereum-133606997.html&sa=U&ved=2ahUKEwj1p8Cer8DvAhVmSxUIHVS4AGUQ0Y8FMAN6BAgIEAI&usg=AOvVaw3f0N8HQ7TZkNxq-RJ2eX0O',\n",
       "  '/url?q=https://finance.yahoo.com/news/bitcoin-not-stock-171335224.html&sa=U&ved=2ahUKEwj1p8Cer8DvAhVmSxUIHVS4AGUQxfQBMAR6BAgFEAE&usg=AOvVaw3ppJJQZCx4xg3XAyttq7CZ',\n",
       "  '/url?q=https://finance.yahoo.com/news/bitcoin-not-stock-171335224.html&sa=U&ved=2ahUKEwj1p8Cer8DvAhVmSxUIHVS4AGUQ0Y8FMAR6BAgFEAI&usg=AOvVaw0ta9a2Yhhz9Sq-EZnvcqOV',\n",
       "  '/url?q=https://finance.yahoo.com/news/crypto-mining-stocks-could-keep-182757647.html&sa=U&ved=2ahUKEwj1p8Cer8DvAhVmSxUIHVS4AGUQxfQBMAV6BAgDEAE&usg=AOvVaw13ffpSe1xZk3AEjJ0i-3gy',\n",
       "  '/url?q=https://finance.yahoo.com/news/crypto-mining-stocks-could-keep-182757647.html&sa=U&ved=2ahUKEwj1p8Cer8DvAhVmSxUIHVS4AGUQ0Y8FMAV6BAgDEAI&usg=AOvVaw1ZFQjH0QXA1Z2qUGQNVe-M',\n",
       "  '/url?q=https://finance.yahoo.com/news/first-advisor-scaramucci-led-skybridge-221535694.html&sa=U&ved=2ahUKEwj1p8Cer8DvAhVmSxUIHVS4AGUQxfQBMAZ6BAgGEAE&usg=AOvVaw1Sm4vlPSvz4s9cQVMBYx2j',\n",
       "  '/url?q=https://finance.yahoo.com/news/first-advisor-scaramucci-led-skybridge-221535694.html&sa=U&ved=2ahUKEwj1p8Cer8DvAhVmSxUIHVS4AGUQ0Y8FMAZ6BAgGEAI&usg=AOvVaw0PY54D8oJKoYYB5cOqlB0o',\n",
       "  '/url?q=https://finance.yahoo.com/news/market-wrap-bitcoin-near-58k-202428527.html&sa=U&ved=2ahUKEwj1p8Cer8DvAhVmSxUIHVS4AGUQxfQBMAd6BAgAEAE&usg=AOvVaw0nDVBi3JJBG2KO9_ceg1om',\n",
       "  '/url?q=https://finance.yahoo.com/news/market-wrap-bitcoin-near-58k-202428527.html&sa=U&ved=2ahUKEwj1p8Cer8DvAhVmSxUIHVS4AGUQ0Y8FMAd6BAgAEAI&usg=AOvVaw3KGfMfIrMbstVe4ht6lNb0',\n",
       "  '/url?q=https://finance.yahoo.com/news/blockchain-indicator-might-show-bitcoin-200359598.html&sa=U&ved=2ahUKEwj1p8Cer8DvAhVmSxUIHVS4AGUQxfQBMAh6BAgBEAE&usg=AOvVaw0YvvQpFRT4rXHlKTek1Bzq',\n",
       "  '/url?q=https://finance.yahoo.com/news/blockchain-indicator-might-show-bitcoin-200359598.html&sa=U&ved=2ahUKEwj1p8Cer8DvAhVmSxUIHVS4AGUQ0Y8FMAh6BAgBEAI&usg=AOvVaw3XsLEssMUi8AL6o0NEEA2z',\n",
       "  '/url?q=https://au.finance.yahoo.com/news/bitcoin-price-chart-shows-bull-175628828.html&sa=U&ved=2ahUKEwj1p8Cer8DvAhVmSxUIHVS4AGUQxfQBMAl6BAgEEAE&usg=AOvVaw3Qk3K8iXtu92hJkuBIva1Y',\n",
       "  '/url?q=https://au.finance.yahoo.com/news/bitcoin-price-chart-shows-bull-175628828.html&sa=U&ved=2ahUKEwj1p8Cer8DvAhVmSxUIHVS4AGUQ0Y8FMAl6BAgEEAI&usg=AOvVaw1kk_0pGKow0CHjPuRZv9pz',\n",
       "  '/search?q=yahoo+finance+BTC&ie=UTF-8&tbm=nws&ei=dbNWYLWZEOaW1fAP1PCCqAY&start=10&sa=N',\n",
       "  '/url?q=https://support.google.com/websearch%3Fp%3Dws_settings_location%26hl%3Den-AU&sa=U&ved=0ahUKEwj1p8Cer8DvAhVmSxUIHVS4AGUQty4IVQ&usg=AOvVaw2nZ7H4k5Hmxn8Zx4Dp7VMs',\n",
       "  '/url?q=https://accounts.google.com/ServiceLogin%3Fcontinue%3Dhttps://www.google.com/search%253Fq%253Dyahoo%252Bfinance%252BBTC%2526tbm%253Dnws%26hl%3Den&sa=U&ved=0ahUKEwj1p8Cer8DvAhVmSxUIHVS4AGUQxs8CCFY&usg=AOvVaw003R6Sk3ZL1YCaWdS0ZuSV',\n",
       "  'https://www.google.com/preferences?hl=en-AU&fg=1&sa=X&ved=0ahUKEwj1p8Cer8DvAhVmSxUIHVS4AGUQ5fUCCFc',\n",
       "  'https://policies.google.com/privacy?hl=en-AU&fg=1',\n",
       "  'https://policies.google.com/terms?hl=en-AU&fg=1']}"
      ]
     },
     "execution_count": 46,
     "metadata": {},
     "output_type": "execute_result"
    }
   ],
   "source": [
    "raw_urls = {ticker:search_for_stock_news_urls(ticker) for ticker in monitored_tickers}\n",
    "raw_urls"
   ]
  },
  {
   "cell_type": "code",
   "execution_count": 52,
   "metadata": {
    "collapsed": true
   },
   "outputs": [
    {
     "data": {
      "text/plain": [
       "['/?sa=X&ved=0ahUKEwjtkM-dr8DvAhUDqXEKHe7wCNMQOwgC',\n",
       " '/?output=search&ie=UTF-8&tbm=nws&sa=X&ved=0ahUKEwjtkM-dr8DvAhUDqXEKHe7wCNMQPAgE',\n",
       " '/search?q=yahoo+finance+GME&tbm=nws&ie=UTF-8&gbv=1&sei=c7NWYK2LGYPSxgPu4aOYDQ',\n",
       " '/search?q=yahoo+finance+GME&ie=UTF-8&source=lnms&sa=X&ved=0ahUKEwjtkM-dr8DvAhUDqXEKHe7wCNMQ_AUIBygA',\n",
       " '/search?q=yahoo+finance+GME&ie=UTF-8&tbm=shop&source=lnms&sa=X&ved=0ahUKEwjtkM-dr8DvAhUDqXEKHe7wCNMQ_AUICSgC',\n",
       " '/search?q=yahoo+finance+GME&ie=UTF-8&tbm=vid&source=lnms&sa=X&ved=0ahUKEwjtkM-dr8DvAhUDqXEKHe7wCNMQ_AUICigD',\n",
       " '/search?q=yahoo+finance+GME&ie=UTF-8&tbm=isch&source=lnms&sa=X&ved=0ahUKEwjtkM-dr8DvAhUDqXEKHe7wCNMQ_AUICygE',\n",
       " 'https://maps.google.com/maps?q=yahoo+finance+GME&um=1&ie=UTF-8&sa=X&ved=0ahUKEwjtkM-dr8DvAhUDqXEKHe7wCNMQ_AUIDCgF',\n",
       " '/search?q=yahoo+finance+GME&ie=UTF-8&tbm=bks&source=lnms&sa=X&ved=0ahUKEwjtkM-dr8DvAhUDqXEKHe7wCNMQ_AUIDSgG',\n",
       " '/advanced_search',\n",
       " '/search?q=yahoo+finance+GME&ie=UTF-8&tbm=nws&source=lnt&tbs=qdr:h&sa=X&ved=0ahUKEwjtkM-dr8DvAhUDqXEKHe7wCNMQpwUIDw',\n",
       " '/search?q=yahoo+finance+GME&ie=UTF-8&tbm=nws&source=lnt&tbs=qdr:d&sa=X&ved=0ahUKEwjtkM-dr8DvAhUDqXEKHe7wCNMQpwUIEA',\n",
       " '/search?q=yahoo+finance+GME&ie=UTF-8&tbm=nws&source=lnt&tbs=qdr:w&sa=X&ved=0ahUKEwjtkM-dr8DvAhUDqXEKHe7wCNMQpwUIEQ',\n",
       " '/search?q=yahoo+finance+GME&ie=UTF-8&tbm=nws&source=lnt&tbs=qdr:m&sa=X&ved=0ahUKEwjtkM-dr8DvAhUDqXEKHe7wCNMQpwUIEg',\n",
       " '/search?q=yahoo+finance+GME&ie=UTF-8&tbm=nws&source=lnt&tbs=qdr:y&sa=X&ved=0ahUKEwjtkM-dr8DvAhUDqXEKHe7wCNMQpwUIEw',\n",
       " '/search?q=yahoo+finance+GME&ie=UTF-8&tbm=nws&source=lnt&tbs=ar:1&sa=X&ved=0ahUKEwjtkM-dr8DvAhUDqXEKHe7wCNMQpwUIFA',\n",
       " '/search?q=yahoo+finance+GME&ie=UTF-8&tbm=nws&source=lnt&tbs=sbd:1&sa=X&ved=0ahUKEwjtkM-dr8DvAhUDqXEKHe7wCNMQpwUIFg',\n",
       " '/url?q=https://au.finance.yahoo.com/news/we-should-see-the-gme-short-squeeze-continuing-s-3-partners-174542296.html&sa=U&ved=2ahUKEwjtkM-dr8DvAhUDqXEKHe7wCNMQxfQBMAB6BAgGEAE&usg=AOvVaw3BlKOnWiNBcDLLboCAcmgt',\n",
       " '/url?q=https://au.finance.yahoo.com/news/we-should-see-the-gme-short-squeeze-continuing-s-3-partners-174542296.html&sa=U&ved=2ahUKEwjtkM-dr8DvAhUDqXEKHe7wCNMQ0Y8FMAB6BAgGEAI&usg=AOvVaw1_byo8AqknrkaqJ81qj40E',\n",
       " '/url?q=https://finance.yahoo.com/news/gamestop-gme-outpaces-stock-market-214509325.html&sa=U&ved=2ahUKEwjtkM-dr8DvAhUDqXEKHe7wCNMQxfQBMAF6BAgHEAE&usg=AOvVaw1dP9IPqPXC-B9_K_jFoDhd',\n",
       " '/url?q=https://finance.yahoo.com/news/gamestop-gme-outpaces-stock-market-214509325.html&sa=U&ved=2ahUKEwjtkM-dr8DvAhUDqXEKHe7wCNMQ0Y8FMAF6BAgHEAI&usg=AOvVaw3DLxEWVuaas6grcbBsHiU_',\n",
       " '/url?q=https://au.finance.yahoo.com/news/gme-gamestop-surge-230431651.html&sa=U&ved=2ahUKEwjtkM-dr8DvAhUDqXEKHe7wCNMQxfQBMAJ6BAgIEAE&usg=AOvVaw1mmngwkqppdQnqsm_U3cFf',\n",
       " '/url?q=https://au.finance.yahoo.com/news/gme-gamestop-surge-230431651.html&sa=U&ved=2ahUKEwjtkM-dr8DvAhUDqXEKHe7wCNMQ0Y8FMAJ6BAgIEAI&usg=AOvVaw1UPvghXo48VfWJoL3ldNSN',\n",
       " '/url?q=https://au.finance.yahoo.com/news/gamestop-gme-earnings-expected-grow-163004341.html&sa=U&ved=2ahUKEwjtkM-dr8DvAhUDqXEKHe7wCNMQxfQBMAN6BAgJEAE&usg=AOvVaw0jdauzWPxrKfs3vF3Tkp6e',\n",
       " '/url?q=https://au.finance.yahoo.com/news/gamestop-gme-earnings-expected-grow-163004341.html&sa=U&ved=2ahUKEwjtkM-dr8DvAhUDqXEKHe7wCNMQ0Y8FMAN6BAgJEAI&usg=AOvVaw0ePMtXA6x_U0lLcMPUPLAQ',\n",
       " '/url?q=https://finance.yahoo.com/news/gamestop-2-460-roller-coaster-131733513.html&sa=U&ved=2ahUKEwjtkM-dr8DvAhUDqXEKHe7wCNMQxfQBMAR6BAgFEAE&usg=AOvVaw37EfgvEgSsBJpmwgq_pu7h',\n",
       " '/url?q=https://finance.yahoo.com/news/gamestop-2-460-roller-coaster-131733513.html&sa=U&ved=2ahUKEwjtkM-dr8DvAhUDqXEKHe7wCNMQ0Y8FMAR6BAgFEAI&usg=AOvVaw2fMUbU5VItf70jb2BM28Mb',\n",
       " '/url?q=https://finance.yahoo.com/news/redditors-ryan-cohen-needs-help-183202679.html&sa=U&ved=2ahUKEwjtkM-dr8DvAhUDqXEKHe7wCNMQxfQBMAV6BAgBEAE&usg=AOvVaw383NXujR01Oucwjd9lrp_-',\n",
       " '/url?q=https://finance.yahoo.com/news/redditors-ryan-cohen-needs-help-183202679.html&sa=U&ved=2ahUKEwjtkM-dr8DvAhUDqXEKHe7wCNMQ0Y8FMAV6BAgBEAI&usg=AOvVaw3rI0pkTSo2mLPLD2WvO6IO',\n",
       " '/url?q=https://finance.yahoo.com/news/gamestop-gme-stock-sinks-market-224510746.html&sa=U&ved=2ahUKEwjtkM-dr8DvAhUDqXEKHe7wCNMQxfQBMAZ6BAgEEAE&usg=AOvVaw248zl7zQgL5DWDuOvEPtxu',\n",
       " '/url?q=https://finance.yahoo.com/news/gamestop-gme-stock-sinks-market-224510746.html&sa=U&ved=2ahUKEwjtkM-dr8DvAhUDqXEKHe7wCNMQ0Y8FMAZ6BAgEEAI&usg=AOvVaw25pJzTLxWJbprC7782EFeV',\n",
       " '/url?q=https://finance.yahoo.com/news/gamestop-bull-roaring-kitty-isnt-060454056.html&sa=U&ved=2ahUKEwjtkM-dr8DvAhUDqXEKHe7wCNMQxfQBMAd6BAgDEAE&usg=AOvVaw3tSfdr-2EinydDsggMS501',\n",
       " '/url?q=https://finance.yahoo.com/news/gamestop-bull-roaring-kitty-isnt-060454056.html&sa=U&ved=2ahUKEwjtkM-dr8DvAhUDqXEKHe7wCNMQ0Y8FMAd6BAgDEAI&usg=AOvVaw3ksw_95tkoJ3NcUsIhAedw',\n",
       " '/url?q=https://finance.yahoo.com/news/bill-gross-says-made-10-184652396.html&sa=U&ved=2ahUKEwjtkM-dr8DvAhUDqXEKHe7wCNMQxfQBMAh6BAgAEAE&usg=AOvVaw2wWcqQQRPVldKjlgShbJIH',\n",
       " '/url?q=https://finance.yahoo.com/news/bill-gross-says-made-10-184652396.html&sa=U&ved=2ahUKEwjtkM-dr8DvAhUDqXEKHe7wCNMQ0Y8FMAh6BAgAEAI&usg=AOvVaw2_oM1OWmZAo3gI9HZ8kBHh',\n",
       " '/url?q=https://finance.yahoo.com/news/gamestop-gme-dips-more-broader-224510835.html&sa=U&ved=2ahUKEwjtkM-dr8DvAhUDqXEKHe7wCNMQxfQBMAl6BAgCEAE&usg=AOvVaw1tgxg_26MP-xCVXCsTtu62',\n",
       " '/url?q=https://finance.yahoo.com/news/gamestop-gme-dips-more-broader-224510835.html&sa=U&ved=2ahUKEwjtkM-dr8DvAhUDqXEKHe7wCNMQ0Y8FMAl6BAgCEAI&usg=AOvVaw0l0mBmPul-9wK85LkNNBRH',\n",
       " '/search?q=yahoo+finance+GME&ie=UTF-8&tbm=nws&ei=c7NWYK2LGYPSxgPu4aOYDQ&start=10&sa=N',\n",
       " '/url?q=https://support.google.com/websearch%3Fp%3Dws_settings_location%26hl%3Den-AU&sa=U&ved=0ahUKEwjtkM-dr8DvAhUDqXEKHe7wCNMQty4IVQ&usg=AOvVaw223We1OP2qq-DLOcDql66q',\n",
       " '/url?q=https://accounts.google.com/ServiceLogin%3Fcontinue%3Dhttps://www.google.com/search%253Fq%253Dyahoo%252Bfinance%252BGME%2526tbm%253Dnws%26hl%3Den&sa=U&ved=0ahUKEwjtkM-dr8DvAhUDqXEKHe7wCNMQxs8CCFY&usg=AOvVaw0Q0LjsrJGV9BEaSOBzYkyW',\n",
       " 'https://www.google.com/preferences?hl=en-AU&fg=1&sa=X&ved=0ahUKEwjtkM-dr8DvAhUDqXEKHe7wCNMQ5fUCCFc',\n",
       " 'https://policies.google.com/privacy?hl=en-AU&fg=1',\n",
       " 'https://policies.google.com/terms?hl=en-AU&fg=1']"
      ]
     },
     "execution_count": 52,
     "metadata": {},
     "output_type": "execute_result"
    }
   ],
   "source": [
    "raw_urls['GME']"
   ]
  },
  {
   "cell_type": "markdown",
   "metadata": {},
   "source": [
    "## 4.2. Strip out unwanted URLs"
   ]
  },
  {
   "cell_type": "code",
   "execution_count": 53,
   "metadata": {},
   "outputs": [],
   "source": [
    "import re"
   ]
  },
  {
   "cell_type": "code",
   "execution_count": 54,
   "metadata": {},
   "outputs": [],
   "source": [
    "exclude_list = ['maps', 'policies', 'preferences', 'accounts', 'support','googel.com']"
   ]
  },
  {
   "cell_type": "code",
   "execution_count": 56,
   "metadata": {},
   "outputs": [],
   "source": [
    "def strip_unwanted_urls(urls, exclude_list):\n",
    "    val = []\n",
    "    for url in urls: \n",
    "        if 'https://' in url and not any(exclude_word in url for exclude_word in exclude_list):\n",
    "            res = re.findall(r'(https?://\\S+)', url)[0].split('&')[0]\n",
    "            val.append(res)\n",
    "    return list(set(val))"
   ]
  },
  {
   "cell_type": "code",
   "execution_count": 59,
   "metadata": {
    "collapsed": true
   },
   "outputs": [
    {
     "data": {
      "text/plain": [
       "{'GME': ['https://finance.yahoo.com/news/gamestop-gme-dips-more-broader-224510835.html',\n",
       "  'https://finance.yahoo.com/news/gamestop-2-460-roller-coaster-131733513.html',\n",
       "  'https://au.finance.yahoo.com/news/gme-gamestop-surge-230431651.html',\n",
       "  'https://finance.yahoo.com/news/gamestop-gme-stock-sinks-market-224510746.html',\n",
       "  'https://au.finance.yahoo.com/news/we-should-see-the-gme-short-squeeze-continuing-s-3-partners-174542296.html',\n",
       "  'https://au.finance.yahoo.com/news/gamestop-gme-earnings-expected-grow-163004341.html',\n",
       "  'https://finance.yahoo.com/news/redditors-ryan-cohen-needs-help-183202679.html',\n",
       "  'https://finance.yahoo.com/news/gamestop-bull-roaring-kitty-isnt-060454056.html',\n",
       "  'https://finance.yahoo.com/news/bill-gross-says-made-10-184652396.html',\n",
       "  'https://finance.yahoo.com/news/gamestop-gme-outpaces-stock-market-214509325.html'],\n",
       " 'TSLA': ['https://au.finance.yahoo.com/news/china-restricting-tesla-use-uncovers-a-significant-challenge-for-elon-musk-expert-161921664.html',\n",
       "  'https://finance.yahoo.com/news/tesla-tsla-stock-buy-sell-165650439.html',\n",
       "  'https://finance.yahoo.com/news/tesla-apple-power-component-supplier-061042699.html',\n",
       "  'https://finance.yahoo.com/news/buy-tesla-tsla-stock-too-173026416.html',\n",
       "  'https://finance.yahoo.com/news/proposed-bitcoin-ban-becomes-x-060853701.html',\n",
       "  'https://finance.yahoo.com/news/u-investigating-suspected-autopilot-tesla-234850458.html',\n",
       "  'https://finance.yahoo.com/news/tesla-tsla-gains-market-dips-214509034.html',\n",
       "  'https://finance.yahoo.com/video/getting-technical-dont-buy-tesla-171230741.html',\n",
       "  'https://finance.yahoo.com/news/cathie-wood-ark-price-target-171141755.html',\n",
       "  'https://finance.yahoo.com/news/tesla-faces-yet-another-nhtsa-005645804.html'],\n",
       " 'BTC': ['https://au.finance.yahoo.com/news/bitcoin-price-15-march-india-ban-094151343.html',\n",
       "  'https://finance.yahoo.com/news/bitcoin-not-stock-171335224.html',\n",
       "  'https://au.sports.yahoo.com/bill-gates-bitcoin-025753416.html',\n",
       "  'https://finance.yahoo.com/news/market-wrap-bitcoin-near-58k-202428527.html',\n",
       "  'https://finance.yahoo.com/news/crypto-mining-stocks-could-keep-182757647.html',\n",
       "  'https://finance.yahoo.com/news/bitcoin-could-boom-430-ethereum-133606997.html',\n",
       "  'https://au.finance.yahoo.com/news/bitcoin-passes-60-000-first-121821843.html',\n",
       "  'https://finance.yahoo.com/news/blockchain-indicator-might-show-bitcoin-200359598.html',\n",
       "  'https://au.finance.yahoo.com/news/bitcoin-price-chart-shows-bull-175628828.html',\n",
       "  'https://finance.yahoo.com/news/first-advisor-scaramucci-led-skybridge-221535694.html']}"
      ]
     },
     "execution_count": 59,
     "metadata": {},
     "output_type": "execute_result"
    }
   ],
   "source": [
    "cleaned_urls = {ticker:strip_unwanted_urls(raw_urls[ticker], exclude_list) for ticker in monitored_tickers}\n",
    "cleaned_urls"
   ]
  },
  {
   "cell_type": "markdown",
   "metadata": {},
   "source": [
    "## 4.3. Search and Scrape Cleaned URLs"
   ]
  },
  {
   "cell_type": "code",
   "execution_count": 63,
   "metadata": {},
   "outputs": [],
   "source": [
    "def scrape_and_process(URLs):\n",
    "    ARTICLES = []\n",
    "    for url in URLs: \n",
    "        r = requests.get(url)\n",
    "        soup = BeautifulSoup(r.text, 'html.parser')\n",
    "        paragraphs = soup.find_all('p')\n",
    "        text = [paragraph.text for paragraph in paragraphs]\n",
    "        words = ' '.join(text).split(' ')[:350]\n",
    "        ARTICLE = ' '.join(words)\n",
    "        ARTICLES.append(ARTICLE)\n",
    "    return ARTICLES"
   ]
  },
  {
   "cell_type": "code",
   "execution_count": 64,
   "metadata": {},
   "outputs": [
    {
     "data": {
      "text/plain": [
       "{'GME': [\"GameStop (GME) closed at $118.18 in the latest trading session, marking a -1.84% move from the prior day. This move lagged the S&P 500's daily loss of 0.81%. At the same time, the Dow lost 0.46%, and the tech-heavy Nasdaq lost 1.69%. Heading into today, shares of the video game retailer had lost 68.7% over the past month, lagging the Retail-Wholesale sector's loss of 1.84% and the S&P 500's gain of 3.56% in that time. Investors will be hoping for strength from GME as it approaches its next earnings release. The company is expected to report EPS of $1.46, up 14.96% from the prior-year quarter. Our most recent consensus estimate is calling for quarterly revenue of $2.24 billion, up 2.19% from the year-ago period. Investors might also notice recent changes to analyst estimates for GME. These revisions typically reflect the latest short-term business trends, which can change frequently. With this in mind, we can consider positive estimate revisions a sign of optimism about the company's business outlook. Based on our research, we believe these estimate revisions are directly related to near-team stock moves. Investors can capitalize on this by using the Zacks Rank. This model considers these estimate changes and provides a simple, actionable rating system. Ranging from #1 (Strong Buy) to #5 (Strong Sell), the Zacks Rank system has a proven, outside-audited track record of outperformance, with #1 stocks returning an average of +25% annually since 1988. The Zacks Consensus EPS estimate remained stagnant within the past month. GME is currently a Zacks Rank #4 (Sell). The Retail - Consumer Electronics industry is part of the Retail-Wholesale sector. This industry currently has a Zacks Industry Rank of 110, which puts it in the top 44% of all 250+ industries. The Zacks Industry Rank includes is listed in order from best to worst in terms of the average Zacks Rank of the individual companies within each of these sectors. Our research shows that the top 50% rated industries outperform the bottom half by a factor of 2 to 1. You can find more information on all of these metrics, and\",\n",
       "  '(Bloomberg) -- In the wild, speculative ride known as GameStop Corp., traders are about to get a real-world dose of data when the video-game retailer reports earnings next week. Whether the results justify the company’s $14 billion market value is another issue entirely. While shares of the Grapevine, Texas-based company have given back a huge chunk of this year’s 2,460% gain after hitting a record intraday high of $483 in late January, they’re still up better than 900%, closing Thursday at $201.75. Skeptics are warning amateur investors who piled into the stock that this remnant of their euphoria could still come crashing down. “The current valuation far exceeds our high fundamental expectations and projected multiyear benefits from the transformation,” wrote Telsey’s Joseph Feldman, one of the stock’s bearish analysts. “The company has yet to show financial success in an industry that is rapidly shifting to digital.” GameStop gave back as much as 9.5% during Friday morning trading. volatile swings have been triggered by the frenzy of Reddit-fueled retail traders and optimism surrounding a shake-up led by Chewy Inc. co-founder and activist investor Ryan Cohen. With the first quarterly update of the year set for March 23, the options market indicates that investors should expect a wild session, with an implied one-day move of roughly 24%. At Thursday’s prices, that could mean a range of about $97 a share. GameStop’s market value soared to $33.7 billion, making it briefly the largest company in the Russell 2000, before tumbling to $2.68 billion and then recovering as a new wave of investors rushed in. A short squeeze may have fueled January’s rally, with bets against 140% of the shares available for trading. Since then, short interest as a percentage of the float has plummeted to 14%. Some of Wall Street’s marquee names came out on top, with Bill Gross, the billionaire investor and co-founder of Pacific Investment Management Co. better known for bonds, saying he made $10 million betting against the company. GameStop has been shunned by Wall Street for the better part of the past four years and remains unloved by analysts.',\n",
       "  \"Stay in the loop every day with Yahoo Finance's free Fully Briefed newsletter. Wall Street’s GameStop saga won’t stop. After weeks of going dormant, shares of GameStop (NYSE:GME) have suddenly shot higher again, rising 18.6 per cent Thursday after surging 75 per cent in the last hour of trading Wednesday. Thursday’s gain, which topped 101 per cent before shrinking, came even as most stocks across Wall Street fell sharply on worries about rising interest rates. The moves are reminiscent of the shocking 1,625 per cent surge for GameStop in January, when bands of smaller and novice investors communicating on social media launched the struggling video game retailer’s stock. That initial supernova heightened questions about whether the broader market was in a bubble and whether a new generation of traders should be able to take full advantage of the free trades available on their phones. Global markets swooned momentarily; US Congress held a hearing. No clear reason seems to be behind this most recent move, leaving market observers to grasp at what little news is out there, but it does demonstrate the increased power that regular investors suddenly have. One major piece that drove last month’s surge is not as big a player this time around: a huge build-up of what’s called “short interest,” or bets by investors that the stock is set to fall. After short-selling funds got badly burned by last month’s sudden surge, many fewer GameStop shares are being sold short now. That means this pop may not reach last month’s heights. “It’s like dropping a ping-pong ball on the table,” said Sam Stovall, chief investment strategist at CFRA. “The first bounce is the greatest while subsequent bounces are a bit more muted. We’re still getting a bounce, but it’s probably not going to drive up GameStop to US$500 a share.” Kitty roars again The most influential GameStop-backer may be Keith Gill, a colorful personality known for wearing a red headband and cat-themed T-shirts. He’s given regular updates of his GameStop holdings on Reddit’s WallStreetBets forum, going back to when a share cost just US 85 cents in\",\n",
       "  \"In the latest trading session, GameStop (GME) closed at $260, marking a -1.89% move from the previous day. This change lagged the S&P 500's daily gain of 1.04%. Meanwhile, the Dow gained 0.58%, and the Nasdaq, a tech-heavy index, added 2.52%. Heading into today, shares of the video game retailer had gained 417.58% over the past month, outpacing the Retail-Wholesale sector's loss of 6.54% and the S&P 500's loss of 0.15% in that time. GME will be looking to display strength as it nears its next earnings release, which is expected to be March 23, 2021. On that day, GME is projected to report earnings of $1.46 per share, which would represent year-over-year growth of 14.96%. Meanwhile, our latest consensus estimate is calling for revenue of $2.24 billion, up 2.19% from the prior-year quarter. Any recent changes to analyst estimates for GME should also be noted by investors. These revisions help to show the ever-changing nature of near-term business trends. As a result, we can interpret positive estimate revisions as a good sign for the company's business outlook. Our research shows that these estimate changes are directly correlated with near-term stock prices. We developed the Zacks Rank to capitalize on this phenomenon. Our system takes these estimate changes into account and delivers a clear, actionable rating model. Ranging from #1 (Strong Buy) to #5 (Strong Sell), the Zacks Rank system has a proven, outside-audited track record of outperformance, with #1 stocks returning an average of +25% annually since 1988. Within the past 30 days, our consensus EPS projection remained stagnant. GME is currently sporting a Zacks Rank of #4 (Sell). The Retail - Consumer Electronics industry is part of the Retail-Wholesale sector. This industry currently has a Zacks Industry Rank of 231, which puts it in the bottom 10% of all 250+ industries. The Zacks Industry Rank gauges the strength of our industry groups by measuring the average Zacks Rank of the individual stocks within the groups. Our research shows that the top 50% rated industries outperform the bottom half by a factor of 2 to 1. Make sure to\",\n",
       "  \"Stay in the loop every day with Yahoo Finance's free Fully Briefed newsletter. GameStop (GME) has already had quite the week, up almost 80% since Monday following news that board member and investor Ryan Cohen would play a key role in the business’s e-commerce strategy. Bulls expect the presence of Cohen, who founded pet goods retailer Chewy, to help the company fulfill the potential GameStop fans believe it has as it transforms from a brick-and-mortar focused business to something more modern. The GameStop bulls who see the company as an underrated, long-term value play may not be paying that much attention to the moves of the stock, but it’s hard to miss the roller-coaster ride. As the stock spiked on Wednesday, short interest continued to fall, perhaps after short-sellers learned their lesson in the late January squeeze, losing billions. But according to Ihor Dusaniwsky of analytics firm S3 Partners, the short squeeze will continue. “We should see the GME short squeeze continuing and more short covering in the stock as mark-to-market losses mount,” he told Yahoo Finance late Wednesday. “But as the stock continues its rapid climb, there will be short sellers waiting in the wings looking for entry points if this rally loses steam and GME’s stock price retraces.” Short interest may have fallen, but it’s still significant: $2.76 billion with 11.18 million shares shorted, 20.52% short interest percent of float or 17.02%, depending on how you calculate it, according to Dusaniwsky. (S3 prefers the latter, as it doesn’t count the synthetic longs created from a short sale. If this is confusing, S3 has a good explainer here.) To put this into context, fellow meme stock AMC Entertainment has a short interest percentage of float of 17.32%. Tesla, another famously shorted company, is at 5.98%, and Amazon at 1.03%. “This has not been a profitable trading week for GME short sellers, after being down -$1.36 billion on Monday and Tuesday,” Dusaniwsky said. “[Wednesday’s] +7% price move added another -$202 million in additional mark-to-market losses.” All in, GameStop shorts have now lost $6.8 billion year-to-date, Dusaniwsky said. — Ethan Wolff-Mann\",\n",
       "  \"Stay in the loop every day with Yahoo Finance's free Fully Briefed newsletter. Wall Street expects a year-over-year increase in earnings on higher revenues when GameStop (GME) reports results for the quarter ended January 2021. While this widely-known consensus outlook is important in gauging the company's earnings picture, a powerful factor that could impact its near-term stock price is how the actual results compare to these estimates. The earnings report, which is expected to be released on March 23, 2021, might help the stock move higher if these key numbers are better than expectations. On the other hand, if they miss, the stock may move lower. While management's discussion of business conditions on the earnings call will mostly determine the sustainability of the immediate price change and future earnings expectations, it's worth having a handicapping insight into the odds of a positive EPS surprise. Zacks Consensus Estimate This video game retailer is expected to post quarterly earnings of $1.46 per share in its upcoming report, which represents a year-over-year change of +15%. Revenues are expected to be $2.24 billion, up 2.2% from the year-ago quarter. Estimate Revisions Trend The consensus EPS estimate for the quarter has remained unchanged over the last 30 days. This is essentially a reflection of how the covering analysts have collectively reassessed their initial estimates over this period. Investors should keep in mind that an aggregate change may not always reflect the direction of estimate revisions by each of the covering analysts. Price, Consensus and EPS Surprise Earnings Whisper Estimate revisions ahead of a company's earnings release offer clues to the business conditions for the period whose results are coming out. This insight is at the core of our proprietary surprise prediction model -- the Zacks Earnings ESP (Expected Surprise Prediction). The Zacks Earnings ESP compares the Most Accurate Estimate to the Zacks Consensus Estimate for the quarter; the Most Accurate Estimate is a more recent version of the Zacks Consensus EPS estimate. The idea here is that analysts revising their estimates right before an earnings release have the latest information, which could potentially be more\",\n",
       "  'In 2015, the Financial Times joked that RadioShack, an ailing brick-and-mortar electronics chain, should consider selling fruit baskets or turning its stores into Zumba studios to survive. The retailer had ignored the threat of e-commerce for so long that few believed it could survive. Two years later, RadioShack was virtually no more. Source: TY Lim / Shutterstock.com Today, GameStop (NYSE:GME) stock sits at a similar juncture. Since the early 2010s, GME’s top brass had treated the retailer like drunks at an open bar — doling out a princely dividend to shareholders (and stock options to themselves) while cutting reinvestment into aging stores. But then something happened: A group of retail investors, driven by Reddit’s hedge-fund-hatin’ r/WallStreetBets decided to take GME stock from $10 to $480 in a matter of weeks. The people still love GameStop! InvestorPlace - Stock Market News, Stock Advice & Trading Tips This love for GameStop and disdain for Wall Street is an unusual combo. It means that, unlike RadioShack in 2015, the video game retailer still has a fighting chance. For the good of GameStop and its shareholders, Reddit investors need to finish the revolution they started. And if they do, Redditors and Chewy (NYSE:CHWY) founder Ryan Cohen can still send GME stock back to $500. Anyone who’s recently visited a GameStop store will tell you the same thing: They look old. And that’s by design. For over a decade, GameStop’s management has enriched shareholders at the expense of the firm. GameStop’s capital expenditure, the budget used to maintain its stores, peaked in 2011 at almost $200 million before getting cut in favor of larger dividends and share buybacks. Meanwhile, the company’s stores have continued to age, and layoffs have continued unabated. Yet, shareholders allowed then-CEO J. Paul Raines to maintain the course. Why? It made them money. Customers, employees and other stakeholders weren’t a priority. And after several failed acquisitions, including game developer Kongregate, GameStop’s management decided that milking the company for cash was a better bet. The firm’s blind commitment to mediocrity reached a peak at the April 2020 strategy meeting. There, GameStop management',\n",
       "  'Famed investor in GameStop Corporation (NYSE: GME), Keith Gill — also known as — Roaring Kitty — is more like Berkshire Hathaway Inc (NYSE: BRK-A) (NYSE: BRK-B) CEO Warren Buffett than most people might think. Here’s why. The Pudding’s Proof: Gill who goes by the handle “Deep F---ing Value” on the Reddit forum r/WallStreetBets limited his exposure to GameStop call options when the stock shot up in late January. He purchased more shares after they declined in February, according to the Wall Street Journal. GameStop shares have rallied 970.9% since 2021 began and have seen a net change of 4,715% over one year. The retailer’s shares closed 3.84% lower at $201.75 on Thursday and fell another 0.4% in the after-hours trading. See also: How\\u200c \\u200cto\\u200c \\u200cBuy\\u200c \\u200cGameStop\\u200c \\u200c(GME)\\u200c \\u200cStock\\u200c The investor has the habit of revealing his GameStop holdings on social media in a regular fashion. Gill’s uncanny ability to time the action would impress Buffett, as per a Bloomberg opinion piece by Tae Kim. Letting Go Of Euphoria And Despondency: Kim writes referring to a Buffett cited parable that “Mr. Market” “can swing from euphoria to despondency,” taking with it stock prices up or down based on “manic-depressive emotions” rather than on changes in a company’s fundamental business or outlook. Buffett attributes “the key to success” to exploiting this moodiness of the market and escaping getting trapped in the price action. Gill’s ability to execute GameStop trades to his profit is an illustration of this strategy. See Also: Beyond WallStreetBets, Analyst Sees GameStop Benefiting From These 3 Factors This Kitty Is A Value Investor: Buffett and Gill are akin when it comes to trading style, as per Kim. “Despite the prevailing narrative that Redditors are aggressive gambling day traders, Gill at least is more akin to an old-school value investor like Buffett when it comes to GameStop.” “Roaring Kitty” has repeatedly laid out the deeply researched investment case for the company on his YouTube channel and has been involved in the stock since the summer of 2019,” wrote Kim. In for The Long Haul: Pointing towards “positive signs” like',\n",
       "  '(Bloomberg) -- It wasn’t just retail traders who cashed in big during the GameStop Corp. stock mania. A legendary billionaire investor made a minor killing shorting the shares. Bill Gross, the erstwhile bond king and co-founder of Pacific Investment Management Co., said in an interview Tuesday on Bloomberg Television that he made about $10 million betting against the video game retailer’s shares. But the trade didn’t go off without a hitch. “I got in too early,” said Gross. “I was in the hole by about $10 million.” But he stuck with it to sell at a profit. GameStop stock, for months among the most heavily shorted on the New York Stock Exchange, surged more than 1,700% from Jan. 1 through Jan. 27 as a legion of Reddit users piled on, forcing bearish traders to scramble for shares and brokers to take the highly unusual step of curbing trading. Amid that mania, Gross took a shot to bet against the shares: “I got in with options like a good Robinhood trader, I guess.” He’s not done yet. “I’m still selling call options at $250 and $300,” said Gross. “I think this is the perfect opportunity for options sellers, not buyers, to take advantage.” Gross was largely known for his bond bets after four decades at Pimco, which he built into one of the world’s largest asset managers. For years he generated industry-leading returns as manager of the Pimco Total Return Fund and in 2013 the firm’s assets approached $2 trillion. He was ousted though a year later after feuding with his Pimco partners over strategy, succession and managerial control. Gross then joined Janus Henderson Group Plc as a money manager, switching his focus from pursuing relative return against a benchmark to an unconstrained strategy. The aim was to achieve positive results no matter the market conditions, but it didn’t work out. Returns were disappointing and Gross retired in March 2019. Gross continues to comment on central bank policy and deficits and speculate in the bond markets with his personal fortune. Read more: Bill Gross says he’s short Treasuries He said he',\n",
       "  \"GameStop (GME) closed at $209.81 in the latest trading session, marking a +0.79% move from the prior day. The stock outpaced the S&P 500's daily gain of 0.29%. Elsewhere, the Dow gained 0.58%, while the tech-heavy Nasdaq added 0.4%. Coming into today, shares of the video game retailer had gained 320.11% in the past month. In that same time, the Retail-Wholesale sector lost 4.91%, while the S&P 500 gained 0.91%. Investors will be hoping for strength from GME as it approaches its next earnings release, which is expected to be March 23, 2021. The company is expected to report EPS of $1.46, up 14.96% from the prior-year quarter. Meanwhile, the Zacks Consensus Estimate for revenue is projecting net sales of $2.24 billion, up 2.19% from the year-ago period. Investors should also note any recent changes to analyst estimates for GME. These revisions typically reflect the latest short-term business trends, which can change frequently. With this in mind, we can consider positive estimate revisions a sign of optimism about the company's business outlook. Our research shows that these estimate changes are directly correlated with near-term stock prices. Investors can capitalize on this by using the Zacks Rank. This model considers these estimate changes and provides a simple, actionable rating system. Ranging from #1 (Strong Buy) to #5 (Strong Sell), the Zacks Rank system has a proven, outside-audited track record of outperformance, with #1 stocks returning an average of +25% annually since 1988. Within the past 30 days, our consensus EPS projection remained stagnant. GME is currently a Zacks Rank #3 (Hold). The Retail - Consumer Electronics industry is part of the Retail-Wholesale sector. This industry currently has a Zacks Industry Rank of 187, which puts it in the bottom 27% of all 250+ industries. The Zacks Industry Rank gauges the strength of our industry groups by measuring the average Zacks Rank of the individual stocks within the groups. Our research shows that the top 50% rated industries outperform the bottom half by a factor of 2 to 1. Make sure to utilize Zacks. Com to follow all of these stock-moving metrics,\"],\n",
       " 'TSLA': ['Stay in the loop every day with Yahoo Finance\\'s free Fully Briefed newsletter. Renewed political tensions between the U.S. and China — which came to light this week as the Biden administration sat down with their Chinese counterparts for the first time to discuss a range of issues — could ensnarl vehicle maker Tesla (TSLA), which has pushed successfully into China in recent years. In fact, the heightened rhetoric between the two super economic superpowers may have already had blowback on Elon Musk\\'s electric car company. The Chinese government is restricting the use of Tesla vehicles by military staff and employees of vital state-owned companies, The Wall Street Journal reported Friday. Chinese officials reportedly have concerns that Tesla\\'s cars — outfitted with various data collecting capabilities — could serve as leakers of national security secrets. \"I have been saying for months now that Tesla\\'s level of integration of their business, of their research, of their sort of geo-tracking for which there is integration with Chinese maps, their development of A.I. with Chinese firms, and electric battery technology that\\'s not sustainable in China given the trajectory [on policy] that we are now on,\" policy expert and Eurasia Group founder Ian Bremmer said on Yahoo Finance Live. \"Most American A.I. and technology companies are seen as critical for national security, they don\\'t have access in China — companies like Amazon, Google and Facebook. Tesla is the outlier.\" That outlier status has made China an incredibly important market for Tesla, and a key part of the investment thesis in the stock. Tesla\\'s sales in China clocked in at $6.66 billion in 2020, up 123% from a year earlier powered by strength in the Model 3. The business made up about 21% of Tesla\\'s overall 2020 sales. Tesla began deliveries of its China-made Model Y to Chinese consumers earlier this year. Bremmer warns Tesla now has a challenging road ahead in China in light of the recent development by the military. Musk\\'s response to the Chinese actions are important for investors to watch, suggests Bremmer. \"At a moment of some white knuckle tensions between',\n",
       "  \"After several tireless days we have finished crunching the numbers from nearly 900 13F filings issued by the elite hedge funds and other investment firms that we track at Insider Monkey, which disclosed those firms' equity portfolios as of December 31st. The results of that effort will be put on display in this article, as we share valuable insight into the smart money sentiment towards Tesla Inc. (NASDAQ:TSLA). Is TSLA stock a buy or sell? Tesla Inc. (NASDAQ:TSLA) was in 68 hedge funds' portfolios at the end of the fourth quarter of 2020. The all time high for this statistic was previously 67. This means the bullish number of hedge fund positions in this stock currently sits at its all time high. TSLA investors should pay attention to an increase in hedge fund interest recently. There were 67 hedge funds in our database with TSLA positions at the end of the third quarter. Our calculations also showed that TSLA isn't among the 30 most popular stocks among hedge funds (click for Q4 rankings). In the financial world there are a large number of tools investors have at their disposal to grade stocks. A pair of the most under-the-radar tools are hedge fund and insider trading indicators. We have shown that, historically, those who follow the top picks of the best fund managers can outperform the broader indices by a solid amount. Insider Monkey's monthly stock picks returned 197% since March 2017 and outperformed the S&P 500 ETFs by more than 124 percentage points. Our short strategy outperformed the S&P 500 short ETFs by 20 percentage points annually (see the details here). That's why we believe hedge fund sentiment is a useful indicator that investors should pay attention to. Philippe Laffont of Coatue Management At Insider Monkey we leave no stone unturned when looking for the next great investment idea. For example, Federal Reserve has been creating trillions of dollars electronically to keep the interest rates near zero. We believe this will lead to inflation and boost real estate prices. So, we recommended this real estate stock to our monthly premium\",\n",
       "  'Delta Electronics Inc., a producer of power components for Tesla Inc. (NASDAQ: TSLA) and Apple Inc. (NASDAQ: AAPL), has cut its workforce in China by about half, the Financial Times reported Thursday. What Happened: Yancey Hai, Delta’s chairman, told Financial Times in an interview that the company’s target is to cut its direct labor force in China by 90 percent. Delta is a Taiwanese electronics company that manufactures power components such as cooling fans for notebook computers, solar inverters and motors for electric cars. In 2019, Delta relocated the production of telecom power equipment to Thailand and Taiwan after the U.S. imposed a 25% tax on such goods made in China as part of the trade war, according to FT. The company is now reportedly building four large factories in India to make photovoltaic inverters, industrial automation equipment, and information technology and communications gear. Why It Matters: The fallout from the U.S.-China trade war and soaring production costs in China have forced Delta and other electronic companies with strong manufacturing bases in China to relocate production to other countries in South-east Asia and India. Apple supplier Pegatron Corp. said in January that it planned to invest $150 million to set up an iPhone production facility in India. Apple had put the Taiwanese company on probation over labor violations in mainland China last November. See Also: Apple Looks To Make iPads in India This Year, In A Shift Away From China: Report Price Action: Apple shares closed almost 3.4% lower on Thursday at $120.53, while Tesla shares closed 6.9% lower at $653.16 and further declined 0.3% in the after-hours session. See more from Benzinga Click here for options trades from Benzinga Peloton Partners With Adidas To Create New Apparel Line: What You Need To Know Tesla Faces Federal Investigation Over Michigan State Police Vehicle Crash © 2021 Benzinga.com. Benzinga does not provide investment advice. All rights reserved. Related Quotes Now that CoinShares has gone public, more information about its shareholders is available. You get the best of both worlds: an electric SUV that can go anywhere, and a classic Range that',\n",
       "  'Baron Opportunity Fund recently published its fourth-quarter commentary – a copy of which can be downloaded here. During the fourth quarter of 2020, the Baron Opportunity Fund returned 23.02% (institutional shares). In comparison, the benchmark S&P 500 Index was up 12.15%, while the Russell 3000 Growth Index was up 12.41%. You should check out Baron’s top 5 stock picks for investors to buy right now, which could be the biggest winners of 2021. In the Q4 2020 Investor Letter, the fund highlighted a few stocks and Tesla Inc. (NASDAQ:TSLA) is one of them. Tesla Inc. (NASDAQ:TSLA) is an electric car company. In the last three months, Tesla Inc. (NASDAQ:TSLA) stock gained 8.3% and on March 16th it had a closing price of $676.88. Here is what the fund said: \"Tesla, Inc. designs, manufactures, and sells fully electric vehicles, solar products, and energy storage solutions. The stock increased on strong financial results, including profitability that exceeded market forecasts and strong growth across different geographies and vehicle programs. Indeed, in the third quarter, Tesla delivered almost 140,000 total vehicles – with strong unit level economics of 27.7% GAAP automotive gross profit margins – and another quarter of GAAP profitability and strong free cash flow (almost $1.4 billion). Recently, Tesla announced a record of over 180,000 total vehicle deliveries for the fourth quarter, effectively hitting its goal of 500,000 deliveries for the calendar year, a projection given before the COVID pandemic. In addition, we believe newly released full selfdriving functionality should yield further improvements in unit economics and open exciting new growth opportunities. Lastly, Tesla joined the S&P 500 Index, a meaningful milestone that significantly expands the potential shareholder base.\" Earlier this month, we published an article revealing that Tesla Inc. (NASDAQ:TSLA) was one of the 15 biggest renewable energy stocks to buy now. In Q4 2020, the number of bullish hedge fund positions on Tesla Inc. (NASDAQ:TSLA) stock increased by about 1% from the previous quarter (see the chart here), so a number of other hedge fund managers believe in Tesla\\'s growth potential. Our calculations showed that Tesla Inc. (NASDAQ:TSLA) isn\\'t ranked',\n",
       "  'The Indian government has an agenda to ban the possession, trading, transfer, and mining of all private virtual currencies through a proposed law, which is being dubbed as the world’s strictest measure on digital coins. At the same time, the government of the South Asian nation is pursuing foreign investment and wooing companies such as Tesla Inc (NASDAQ: TSLA) — which are bullish on Bitcoin (CRYPTO: BTC) — to open shop in the country. Will the cryptocurrency ban affect the Elon Musk-led company’s Indian foray considering Tesla’s exposure to Bitcoin? Laying Down The Law: Sources suggest that “The Cryptocurrency and Regulation of Official Digital Currency Bill, 2021” will be introduced in the current session of the Indian parliament, the second part of which commenced last week.” Cryptocurrency isn’t fiat currency backed by the Reserve Bank of India, and its usage in all forms will be banned through the new law that will be introduced in Parliament,” a person in the Indian finance ministry told BloombergQuint. To Bangalore Via Amsterdam: Musk, whose Tesla invested .5 billion in BTC in February, is planning entry into the Indian market through a circuitous corporate structure in order to save tax, Indian media reported earlier in the year. Tesla’s Indian arm was incorporated with $20,502 in authorized capital and $1,367 paid-up capital in Bangalore. Tesla’s Dutch subsidiary Tesla Motors is the parent of Tesla Motors and Energy India, according to the Economic Times. See also: How to Buy Bitcoin (BTC) Is Tesla In Hot Curry: There is no clarity whether the law has any implication on non-residents of India as the detailed provisions of the bill are not yet public knowledge. If non-residents are not impacted, then it is reasonable to believe that Tesla Netherlands or the parent headquartered in Palo, Alto, California have little to worry about. As long as the Indian subsidiary does not hold, transact, transfer, or trade cryptocurrencies, they would be in compliance with any such future law. However, if the law is extraterritorial in nature, Musk — a serial Dogecoin (CRYPTO: DOGE) tweeter — is in trouble. Article 245 of',\n",
       "  'By David Shepardson WASHINGTON (Reuters) - The U.S. auto safety agency said on Wednesday it will send a team to investigate a crash involving a Tesla suspected of being in Autopilot mode when it struck a parked Michigan State Police patrol car. The National Highway Traffic Safety Administration (NHTSA) said it was sending the Special Crash Investigation (SCI) team in line with its oversight and authority \"over the safety of all motor vehicles and equipment, including automated technologies.\" Tesla did not immediately comment. Michigan State Police said on Twitter a parked patrol car was struck at 1:12 am Wednesday, while investigating a traffic crash between a car and deer near Lansing on Interstate-96. \"While investigating that crash with their emergency lights on, a Tesla on autopilot strikes the patrol car,\" the agency said. No one was injured and the 22-year-old Tesla driver was issued traffic citations. Before this week, NHTSA previously launched at least 14 SCI teams following Tesla crashes that were suspected of being tied to its Autopilot driver assistance system. The agency has taken no action as a result of those probes. On Monday, NHTSA said it was sending another SCI team to investigate a \"violent\" March 11 crash in Detroit in which a Tesla became wedged underneath a tractor-trailer and left a passenger in critical condition. Detroit police said Tuesday they do not believe that Autopilot was in use the March 11 crash based on \"all indications.\" Autopilot has been engaged in at least three Tesla vehicles involved in fatal U.S. crashes since 2016. Concerns have grown about systems that can perform driving tasks for extended stretches with little or no human intervention, but cannot completely replace human drivers. Tesla advises drivers they must keep their hands on the steering wheel and pay attention while using Autopilot. However, some Tesla drivers say they are able to avoid putting their hands on the wheel for extended periods when using Autopilot. In February 2020, the National Transportation Safety Board (NTSB) sharply criticized Tesla\\'s lack of system safeguards in a fatal 2018 Autopilot crash in California. (Reporting by David Shepardson;',\n",
       "  \"In the latest trading session, Tesla (TSLA) closed at $654.87, marking a +0.26% move from the previous day. This move outpaced the S&P 500's daily loss of 0.06%. Meanwhile, the Dow lost 0.71%, and the Nasdaq, a tech-heavy index, added 0.76%. Coming into today, shares of the electric car maker had lost 17.05% in the past month. In that same time, the Auto-Tires-Trucks sector lost 6.89%, while the S&P 500 gained 0.17%. TSLA will be looking to display strength as it nears its next earnings release. On that day, TSLA is projected to report earnings of $0.75 per share, which would represent year-over-year growth of 200%. Meanwhile, our latest consensus estimate is calling for revenue of $9.49 billion, up 58.52% from the prior-year quarter. TSLA's full-year Zacks Consensus Estimates are calling for earnings of $4.07 per share and revenue of $47.11 billion. These results would represent year-over-year changes of +81.7% and +49.4%, respectively. Investors should also note any recent changes to analyst estimates for TSLA. These revisions help to show the ever-changing nature of near-term business trends. As such, positive estimate revisions reflect analyst optimism about the company's business and profitability. Based on our research, we believe these estimate revisions are directly related to near-team stock moves. We developed the Zacks Rank to capitalize on this phenomenon. Our system takes these estimate changes into account and delivers a clear, actionable rating model. The Zacks Rank system, which ranges from #1 (Strong Buy) to #5 (Strong Sell), has an impressive outside-audited track record of outperformance, with #1 stocks generating an average annual return of +25% since 1988. The Zacks Consensus EPS estimate has moved 3.38% lower within the past month. TSLA currently has a Zacks Rank of #4 (Sell). Valuation is also important, so investors should note that TSLA has a Forward P/E ratio of 160.51 right now. This represents a premium compared to its industry's average Forward P/E of 16.69. Also, we should mention that TSLA has a PEG ratio of 4.65. This metric is used similarly to the famous P/E ratio, but the PEG ratio also takes into account\",\n",
       "  \"Yahoo Finance's Jared Blikre and IBD Multimedia Content Editor Alissa Coram break down the latest market action. - Welcome back to Yahoo Finance Live on this Friday. Still got a mixed market here. It is time to get technical right now, and bring in Jared Blikre with a special guest. Jared. JARED BLIKRE: Thank you. As promised, we have this special guest from Investor's Business Daily, Alissa Coram. And you are a multimedia content editor there. I just want to start out-- ALISSA CORAM: Yeah. JARED BLIKRE: Yeah. It's great-- ALISSA CORAM: Thanks for having me. JARED BLIKRE: --seeing you, by the way. Thanks for making the travel distance into your own home. ALISSA CORAM: Exactly. JARED BLIKRE: I want to begin with Tesla here, because you sent me some charts earlier. We have them here. This is a 50-day moving average in the-- I'd call this chartreuse, maybe. And then in purple, we've got the 200. So what do you see in this? ALISSA CORAM: Yeah. So Tesla, of course, one of the big winners in 2020. It's a fan favorite out there for many investors. You know, a lot of people love the company, love the story here with Tesla, and may be tempted to, hey, Tesla has come way off of those highs, maybe I should buy the stock on sale here. But we would caution against that. We really want to take a cue from the technical action. And if you rewind the clock to last November, that strength out of a little consolidation there, over the 466 level, we would have considered that definitely an actual entry for the stock. Went on a huge move after that. We were pointing out, though, some climactic action at that point, the stock gapping up. We have a couple of different indicators that we look at to see when a stock is extended that you are drawing there, the gaps up in price, big weekly moves, getting really extended from the moving averages. And it was at that point that we were warning investors, maybe you want to\",\n",
       "  '(Bloomberg) -- Cathie Wood’s Ark Invest Management expects Tesla Inc. stock to hit $3,000 by 2025, up from its current price of $655. At that price, the company would be worth almost $3 trillion, based on the number of shares outstanding. Ark expects there’s a 50% chance of Tesla achieving fully autonomous driving within five years, which could allow the company to scale its planned robotaxi service quickly, according to a Friday note on Ark’s website. It also added Tesla’s insurance business into its model, believing the offering could be rolled out to more states in the next few years with better-than-average margins, thanks to “highly detailed driving data” the company collects. Wood has been among Tesla’s most ardent supporters, holding large stakes of the company in her flagship fund. When Tesla shares saw a pullback in February, she bought more. According to Ark’s new model, in the best case scenario, Tesla could reach $4,000 per share in 2025, and in the bear case, $1,500. The company forecasts Tesla’s unit sales to be between 5 million and 10 million vehicles in 2025, assuming increased capital efficiency. The $3,000 target is far higher than any analyst who covers the company, the highest being $1,200 among estimates compiled by Bloomberg. Fueled by zealous supporters, Tesla shares rose more than 740% last year, the best performance on the S&P 500. Elon Musk, its chief executive officer, became the richest person in the world in January, before Jeff Bezos reclaimed the title. Not Close Analysts have speculated about the prospect that Tesla will launch a robotaxi service since at least 2015, but there’s little indication its technology is close to making this possible anytime soon. Tesla recently told California authorities that human drivers will still need to constantly supervise a new city streets function within its “full self-driving” suite of features sold as part of its Autopilot package. As for the company’s insurance product, that began in August 2019 and is currently available only in California. The company includes vehicle insurance revenue within its “services and other” category, along with after-sales service, sales of',\n",
       "  'A “violent crash” involving a Tesla Inc (NASDAQ: TSLA) vehicle is under investigation by the National Highway Traffic Safety Administration, Reuters reported Monday. What Happened: The automobile safety agency in the United States said Monday that it had taken cognizance of the “violent crash that occurred on March 11 in Detroit involving a Tesla and a tractor trailer.\" NHTSA said it had launched a Special Crash Investigation (SCI) team to probe the crash. Why It Matters: The agency has already formed nearly a dozen SCI teams to look into previous Tesla crashes related to the vehicle’s Autopilot system, noted Reuters. There is no clarity whether the Autopilot was involved in the Detroit accident. The Elon Musk-led automaker is also under investigation in South Korea after a Tesla X crashed into a wall, causing a fatality. See Also: Elon Musk Says Safety \\'Primary Design Goal\\' For Tesla As NHTSA Expands Probe Last month, Tesla agreed to recall 134,951 Model S, X vehicles after the U.S. regulator found issues with the vehicles’ touch screen displays. Musk revealed this weekend that Tesla has been revoking access to its full-self driving software for drivers who have been found to not be paying enough attention to the road. Price Action: Tesla shares closed 2.05% higher at $707.94 on Monday and fell 0.84% in the after-hours trading. Click here to check out Benzinga’s EV Hub for the latest electric vehicles news. See more from Benzinga Click here for options trades from Benzinga Tesla Revokes FSD Beta Access For Driver Who Don\\'t Pay \\'Sufficient Attention To The Road\\' The World\\'s Grumpiest Cat Finds Love — Fetching ,000 In NFT Sale © 2021 Benzinga.com. Benzinga does not provide investment advice. All rights reserved. Related Quotes (Bloomberg) -- It’s the invisible force rocking Wall Street: An inflation revival for the post-lockdown era that could change everything in the world of cross-asset investing.As America’s dalliance with run-it-hot economics sends market-derived price expectations to the highest in more than a decade, Bloomberg solicited the views of top money managers on their make-or-break hedging strategies ahead.One takeaway: The economics of trading from'],\n",
       " 'BTC': ['Stay in the loop every day with Yahoo Finance\\'s free Fully Briefed newsletter. Bitcoin (BTC-USD) was in retreat on Monday morning after hitting a new record high over the weekend. It broke through $60,000 to reach a high of $61,674 on Saturday. The world\\'s biggest cryptocurrency was in retreat by the start of the week, down 6% to $56,366 by lunchtime in London. The price decline came amid reports that India could ban cryptocurrencies altogether, potentially cutting off one of the biggest markets in the world. Reuters reported on Sunday evening that senior government officials in India were working on a law banning cryptocurrencies. People could be penalised for mining or owning cryptocurrencies under the proposals, according to the report. The broader cryptocurrency ecosystem was in decline on Monday morning. The crypto market was down 4.5% over 24 hours, according to CoinMarketCap.com. Ethereum (ETH-USD), the world\\'s second largest cryptocurrency, was trading 5.2% lower against the dollar to $1,777.37 on Monday. Nigel Green, chief executive and founder of financial advisory group deVere, said regulation was likely to become an increasing concern for bitcoin and the wider cryptocurrency market. READ MORE: Deliveroo announces £1bn London IPO \"Whether crypto cynics like it or not, there’s no getting away from the fact that bitcoin is becoming an increasingly important part of the global financial system,\" he said. \"The move towards digital currencies is going to increase - and at pace - over the next few years. This is why financial regulators must now make regulation of the crypto sector a major priority. “With a growing dominance, bitcoin and other cryptocurrencies must be held to the same standards as the rest of the financial system with a robust, workable international framework.\" Watch: What is bitcoin? While the cryptocurrencies were under pressure on Monday morning, the market is still far higher than it was six months ago. Bitcoin has rallied over 400% amid a surge of interest from institutional players like Square (SQ) and Tesla (TSLA). The surge has helped spark a broader rally for the market. \"While the bitcoin flow picture was dominated by institutional',\n",
       "  'Seems obvious, right? Well, there’s a common misconception among new crypto market participants that bitcoin is a company stock. While its price activity can correlate with traditional markets on occasion, it is, in fact, an entirely separate asset class.\\xa0 Bitcoin is a cryptocurrency – a type of digital asset secured by cryptography that can be used to make electronic payments over the internet or act as a store of value like gold or silver.\\xa0 Think of cryptocurrencies as the emails of the currency world. They do not exist in physical form, they can be sent in minutes and they do not require multiple intermediaries to handle the payment. Related: Pseudonymous $69M Beeple NFT Buyer MetaKovan Reveals True Identity Unlike fiat currencies like the U.S dollar or euro that store all card and wire transactions on a central ledger maintained by a single authority, bitcoin and other cryptocurrencies use a technology called “blockchain.” This is a globally distributed ledger that can be maintained and copied by anyone on the planet and ensures total immutability and transparency. Traded on traditional stock exchanges such as Nasdaq, London Stock Exchange, Deutsche Börse, etc. Can only be traded Monday to Friday. Market opening and closing times vary between stock exchanges Regulated financial products Purchasers receive share certificates to show legal proof of ownership Companies can produce new shares after publicly launching, though there is a finite limit Brokerages maintain their own record of stock trades that they execute on behalf of clients. In the United States, this information is not publicly available unless an investor purchases over 5% of a listed company Traded on centralized and decentralized crypto exchanges Crypto markets do not close so bitcoin can be traded at any time on any day Bitcoin is not a regulated investment vehicle; however, most international jurisdictions recognize it as property Purchasers can hold their own bitcoin or delegate safe storage to third-party custodians There will only ever be 21 million bitcoins. No new coins can be created The Bitcoin blockchain publicly records all transactions and can be viewed or downloaded by anyone at any time',\n",
       "  'Bill Gates has a bone to pick with Bitcoin (BTC) – and any cryptocurrency, for that matter. Unlike some of his billionaire counterparts, the Microsoft co-founder and climate activist isn\\'t a fan of the digital coin. Why? The energy required to process it is too heavy on the world\\'s resources, the self-described \"Bitcoin skeptic\" argues. \"Bitcoin uses more electricity per transaction than any other method known to mankind,\" Gates said in an interview on audio-based social network platform Clubhouse with New York Times. \"It\\'s not a great climate thing.\" But he isn\\'t against it on principle: if it isn\\'t so bad if it uses cleaner sources of power. “If it’s green electricity and it’s not crowding out other uses, eventually, you know, maybe that’s OK,” Gates added. The resource-intensiveness of Bitcoin has been documented: Bitcoin mining reportedly generates 37 million tonnes of carbon dioxide every single year. WATCH ABOVE: Why Bitcoin is so bad for the planet A recent study from Cambridge University indicated that Bitcoin uses more electricity per year than the entire country of Argentina or Norway. Other voices have also spoken against Bitcoin\\'s environmental damage, with Société Générale bank Kleinwort Hambros\\' chief investment officer describing bitcoin\\'s energy use as \"staggering\". Indeed, the process of mining a single Bitcoin isn\\'t easy and can\\'t be done on a typical laptop: it requires the might of \\'super-computers\\' that are hard at work coming up with complex computational solutions. The cryptocurrency, which skyrocketed in popularity and investment recently, is currently worth more than $73,000. Gates is well-known for his climate work, stepping down from the Microsoft board shortly after the COVID-19 pandemic struck to focus on climate challenges. He published a new book in mid-February titled \\'How to Avoid a Climate\\' which outlines his solutions for eliminating greenhouse emissions. The billionaire has also described climate change as a \"much bigger\" global problem than the COVID-19 pandemic. Follow Yahoo Finance on Facebook, LinkedIn, Instagram and Twitter, and subscribe to the free Fully Briefed daily newsletter. The rugby league community is mourning the death of Manly legend Fred Jones. Patrick Dangerfield is in',\n",
       "  'Bitcoin (BTC) trading around $57,745.58 as of 20:00 UTC (4 p.m. ET). Climbing 3.68% over the previous 24 hours. Bitcoin’s 24-hour range: $54,201.70-$58,078.51 (CoinDesk 20) BTC trades above its 10-hour and 50-hour averages on the hourly chart, a bullish signal for market technicians. Bitcoin’s price flipped to green after Federal Reserve officials on Wednesday reaffirmed their expectations to keep interest rates close to zero at least through 2023, potentially bolstering the cryptocurrency’s appeal as a hedge against faster inflation.\\xa0 As of press time, bitcoin was changing hands around $58,000, up from about $55,500 just before the Fed announced its decision around 18:00 coordinated universal time (2 p.m. ET).\\xa0 The price has doubled this year, partly because of demand from institutional investors who are looking for an asset that might hold its worth if the dollar’s purchasing power declines. Central banks around the world have pumped trillions of dollars of freshly created money into global financial markets to stimulate their coronavirus-wrecked economies. Related: Kentucky Approves Bills Providing Incentives for Crypto Miners Wall Street firm Morgan Stanley’s wealth management unit on Wednesday published a research report arguing the “threshold is being reached” for cryptocurrency to become an investable asset class. On the same day, Morgan Stanley said it will offer its clients exposure to three bitcoin funds, while Hong Kong-listed software firm Meitu made additional investments in bitcoin and ether. “This is a bullish step to further awareness and acceptance of bitcoin, and shows the organic underlying demand as investors look to seek alternatives to existing investment classes,” said Jason Lau, chief operating officer at San Francisco-based crypto exchange OKCoin.\\xa0 Read More: Morgan Stanley Sees Cryptocurrencies on Path to Investable Asset Class Ether (ETH) was up on Wednesday, trading around $1,824.79 and climbing 2.24% in 24 hours as of 20:00 UTC (4:00 p.m. ET). Related: Crypto Lender Hodlnaut Teams With Insurance Alternative Nexus Mutual “Ether and bitcoin are still moving tightly together,” OKCoin’s Lau said. At the same time, the number of BTC locked in the Ethereum blockchain saw a sharp rise on Wednesday after dropping for more than a month, according',\n",
       "  'Over the past year, crypto mining stocks have outperformed bitcoin (BTC), and the trend has accelerated since the cryptocurrency climbed past $20,000 a few months ago, according to the financial research firm FundStrat. The dynamic might hold if bitcoin stays in a bull market, the firm predicts. “Bitcoin and the wider crypto market are the modern-age digital gold rush,” wrote FundStrat, which means crypto mining stocks could see further upside. Because “miners play such a critical role in ensuring the Bitcoin network functions properly, investors have sought opportunities to gain exposure to mining companies,” which generate revenue in the form of mined bitcoin. The largest publicly listed mining companies include Riot Blockchain (NASDAQ: RIOT), Hive Blockchain (OTCMKTS: HVBTF), and Marathon Patent Group (NASDAQ: MARA). As the bitcoin price increases, miners spin up new rigs or upgrade hardware in pursuit of higher block rewards. And FundStrat expects more-efficient mining machines will help some firms remain competitive, which could boost profit margins. But buyer beware: “Mining company equities may serve as a high-beta play on bitcoin … [and when the cryptocurrency] enters a bear cycle, we would expect mining equities to have greater downside volatility than bitcoin,” according to FundStrat. Crypto Mining Stocks Could Keep Beating Bitcoin in ‘Modern-Age Digital Gold Rush’ Crypto Mining Stocks Could Keep Beating Bitcoin in ‘Modern-Age Digital Gold Rush’ Crypto Mining Stocks Could Keep Beating Bitcoin in ‘Modern-Age Digital Gold Rush’ Crypto Mining Stocks Could Keep Beating Bitcoin in ‘Modern-Age Digital Gold Rush’ Related Quotes What Happened: Ryan Watkins, an analyst at cryptocurrency research firm Messari, believes Ethereum (CRYPTO: ETH) could surpass Bitcoin (CRYPTO: BTC) to become the most valuable cryptocurrency. In a recent interview with Fintech Today, Watkins said that the shift towards Ethereum 2.0 would bring about some changes in the coin’s monetary policy, which could lead to Ether (ETH) taking over as the leading cryptocurrency in the future. Why It Matters: According to Watkins, Bitcoin’s unique selling point as a “store of value” asset is the fact that its monetary policy is very predictable. “I think that the shift to Ethereum 2.0 and proof',\n",
       "  'Bitcoin believers may have new reason to rejoice following the stimulus checks, but Ethereum has use cases on its side. U.S. President Joe Biden\\'s $1.9 trillion COVID Relief Bill has passed congress and stimulus checks are soon to be distributed. Early signs indicate recipients are ready to buy Bitcoin. A survey by Mizuho Securities showed that out of 235 participants who expect to receive stimulus checks from the COVID Relief Bill, 10% are interested in investing in Bitcoin. It\\'s a small sample size, but according to the survey investing in Bitcoin was a more popular response than investing in traditional stocks. If that kind of runaway popularity doesn\\'t move you in itself, consider that it could translate into $40 billion dollars running like a river directly from Biden\\'s $1.9 trillion stimulus package into Bitcoin. In the same week, Bank of America strategists suggested to Bloomberg that the price of BTC can be moved 1% for just $93 million. Bank of America strategists said in a note to Bloomberg on Wednesday: \"Bitcoin is extremely sensitive to increased dollar demand. We estimate a net inflow into Bitcoin of just $93 million would result in price appreciation of 1%, while the similar figure for gold would be closer to $2 billion or 20 times higher. In contrast, the same analysis for the 20-year-plus Treasuries shows that multibillion money flows do not have a significant impact on price, pointing to the much larger and stable nature of the U.S. Treasuries markets,\" If you take the survey and projections on face value, you could surmise Bitcoin prices will be moved by over 430% by the influx of $40,000,000 flowing in from invested U.S. COVID Relief money. See also: How to Buy Bitcoin (BTC) It seems reasonable to expect the 12 month Bitcoin bull run to continue, making it the crypto success story of 2021, right? DeFi Could Steal Bitcoin\\'s Thunder Before the Bitcoin bull run, DeFi was a strong competitor as the most dominant story in crypto. BTC\\'s new price heights have made the world\\'s most famous cryptocurrency again the center of attention. Bitcoin may',\n",
       "  'Stay in the loop every day with Yahoo Finance\\'s free Fully Briefed newsletter. Bitcoin passed the $60,000 mark for the first time on Saturday, with analysts saying the giant US stimulus package helped boost the world\\'s most popular virtual currency on its record-breaking run. The cryptocurrency hit $60,197 at 1234 GMT and continued to hover around $60,000, according to the website CoinMarketCap. Bitcoin has tripled in value over the last three months -- it was worth $20,000 in December -- bolstered by increasing backing from corporate heavyweights. Markets.com analyst Neil Wilson said that in recent days \"Bitcoin went up as investors looked to the imminent arrival of stimulus cheques\". Individuals in the US earning up to $75,000 will receive a cheque for $1,400 from this weekend, after President Joe Biden signed his $1.9 trillion Covid-19 rescue plan into law this week. Bitcoin has been on a meteoric rise since March last year, when it stood at $5,000, spurred by online payments giant PayPal saying it would allow account holders to use cryptocurrency. Last month Elon Musk\\'s electric carmaker Tesla invested $1.5 billion in the virtual unit, while Twitter chief Jack Dorsey and rap mogul Jay-Z said they are creating a fund aimed at making Bitcoin \"the internet\\'s currency\". Others jumping on the bandwagon include Wall Street player BNY Mellon, investment fund giant BlackRock and credit card titan Mastercard. Bitcoin, which was launched back in 2009, hit the headlines in 2017 after soaring from less than $1,000 in January to almost $20,000 in December of the same year. The virtual bubble then burst in subsequent days, with bitcoin\\'s value fluctuating wildly before sinking below $5,000 by October 2018. However the last year\\'s rise has been more steady, with investors and Wall Street finance giants wooed by dizzying growth, the opportunity for profit and asset diversification, and a safe store of value to guard against inflation. Bitcoins are traded via a decentralised registry system known as a blockchain. The system requires massive computer processing power in order to manage and implement transactions. That power is provided by \"miners\", who do so in',\n",
       "  \"Bitcoin’s price has nearly doubled this year, but the rally could have room to run. That’s based on a new report by Coin Metrics, a cryptocurrency data firm, which shows bitcoin (BTC) is not at an extreme relative to the previous market top in 2018. The MVRV ratio is a measure of bitcoin’s market value relative to its realized value. The gauge represents the difference between the cryptocurrency’s current price and the average price at which bitcoins were acquired. When it reaches an extreme, the thinking goes, traders might be inclined to take profits, creating sell pressure that could push price down. The near 20% bitcoin sell-off from an all-time-high around $60,000 last week triggered a decline in the MVRV ratio to 0.88. “Historically, the periods that MVRV has dropped below 1.0 have been some of the best times to invest in BTC,” according to Coin Metrics. The MVRV indicator reached an extreme around 4 in 2018, and near 6 in 2014, just prior to the start of bear markets. This Blockchain Indicator Might Show Bitcoin Rally Has Legs This Blockchain Indicator Might Show Bitcoin Rally Has Legs This Blockchain Indicator Might Show Bitcoin Rally Has Legs This Blockchain Indicator Might Show Bitcoin Rally Has Legs Related Quotes The central bank warned a Thai baht-denominated stablecoin is a threat to the stability of the currency system. Thai police used water cannon and charged toward protesters who had gathered near the King's Palace in Bangkok on Saturday to call for the release of protest leaders and demand reform of the monarchy.  Hundreds of police in riot gear and shields advanced on different fronts against protesters to push people away from the Grand Palace.  In some places they faced off with protesters who threw firecrackers. The U.S. Department of Justice accused Google of dragging its feet in providing documents in preparation for a trial on allegations that it broke antitrust law while the search and advertising giant said the government was being unreasonable.  In a joint filing late Thursday, the Justice Department said that Alphabet's Google had balked at\",\n",
       "  \"Stay in the loop every day with Yahoo Finance's free Fully Briefed newsletter. Bitcoin (BTC) appears set to challenge record highs in the wake of this week’s dovish Federal Reserve meeting. One expert, however, is calling caution, based on his observation of price charts as bitcoin rose from lows near $43,000 seen earlier this month. The chart pattern has taken the shape of what’s known as a rising wedge, a sign of uptrend fatigue. “My concern is growing that we might run into a rising wedge scenario,” Patrick Heusser, head of trading at Swiss-based Crypto Finance AG, told CoinDesk in a Telegram chat. The wedge’s support line is pretty strong, with more than four touchpoints, and that does give me some confidence, though, if we break lower through the trendline, which is when things could get ugly.” Related: Financial Watchdogs Have DeFi in Their Sights, Alter Wording Around NFTs The rising wedge comprises converging trendlines connecting higher lows and higher highs. The converging nature of the trendline indicates the waning of upside momentum. Hence, a breakdown – a move below the lower end of the rising wedge – is considered a sign of bullish-to-bearish trend change. According to Heusser, a move below $54,000 would confirm the rising wedge breakdown and open the doors for a drop to $47,000. The immediate bias will remain bullish while the wedge support is held intact. At press time, bitcoin is changing hands near $58,900, having put in lows under $56,500 early Friday, according to CoinDesk 20 data. The cryptocurrency jumped from $55,000 to $60,000 earlier this week after the Fed signaled no interest rate hike until at least 2024, pushing back against growing fears of an early unwinding monetary stimulus. Related: Coinbase Delays Highly Anticipated Direct Listing to April: Report Also read: Nexo: $100K BTC Is Inevitable but Won’t Be a Smooth Ride Some analysts say the Fed’s dovish tone has put the cryptocurrency on the path to new record highs above $62,000. Patrick voiced similar opinion, while pointing to the rising wedge. “In terms of the bigger picture, I see no change. We\",\n",
       "  'First Trust Advisors and SkyBridge Capital, the hedge fund run by former White House Communications Director and recent bitcoin convert Anthony Scaramucci, have become the latest firms to seek to offer a bitcoin exchange-traded fund (ETF). In an S-1 filing with U.S. Securities and Exchange Commission (SEC), the companies applied to be able to offer the “First Trust SkyBridge Bitcoin ETF Trust.” First Advisor would be the advisor to the ETF while SkyBridge would serve as the sub-advisor. Shares would trade on NYSE Arca, the filing said. The two companies are just the latest to file for an ETF. This bull run’s regulatory rush has seen WisdomTree file for a bitcoin ETF in March, NYDIG in February, Valkyrie in January, and VanEck in December of last year. Grayscale appears to be gearing up for an ETF product of its own. The crypto asset manager might apply for a new one or convert its existing bitcoin Trust into an ETF. The digital asset investment firm is owned by CoinDesk parent company Digital Currency Group. The flood of applications comes as the SEC is widely expected to approve the first bitcoin ETF this year. First Advisor, Scaramucci-Led SkyBridge Team Up to File for Bitcoin ETF First Advisor, Scaramucci-Led SkyBridge Team Up to File for Bitcoin ETF First Advisor, Scaramucci-Led SkyBridge Team Up to File for Bitcoin ETF First Advisor, Scaramucci-Led SkyBridge Team Up to File for Bitcoin ETF Related Quotes With bitcoins trading near $60,000, buying a piece of the action is getting easier with the proliferation of digital currency machines. Anderson, who helped lead the Scottish firm’s investments in Tesla, Alibaba, Moderna, and other public and private companies, will step down in April 2022. Coinbase will pay a $6.5 million fine to settle allegations it self-traded cryptocurrencies between 2015 and 2018. Paris-based cryptocurrency market makers, Woorton, participated in the first ever Bitcoin auction in France. The event saw the French State auction off 611 Bitcoin that had been recovered by the Agency for the Recovery of Seized and Confiscated Assets (AGRASC). New U.S. Trade Representative Katherine Tai vowed on Friday to']}"
      ]
     },
     "execution_count": 64,
     "metadata": {},
     "output_type": "execute_result"
    }
   ],
   "source": [
    "articles = {ticker:scrape_and_process(cleaned_urls[ticker]) for ticker in monitored_tickers}\n",
    "articles"
   ]
  },
  {
   "cell_type": "code",
   "execution_count": 73,
   "metadata": {},
   "outputs": [
    {
     "data": {
      "text/plain": [
       "'Delta Electronics Inc., a producer of power components for Tesla Inc. (NASDAQ: TSLA) and Apple Inc. (NASDAQ: AAPL), has cut its workforce in China by about half, the Financial Times reported Thursday. What Happened: Yancey Hai, Delta’s chairman, told Financial Times in an interview that the company’s target is to cut its direct labor force in China by 90 percent. Delta is a Taiwanese electronics company that manufactures power components such as cooling fans for notebook computers, solar inverters and motors for electric cars. In 2019, Delta relocated the production of telecom power equipment to Thailand and Taiwan after the U.S. imposed a 25% tax on such goods made in China as part of the trade war, according to FT. The company is now reportedly building four large factories in India to make photovoltaic inverters, industrial automation equipment, and information technology and communications gear. Why It Matters: The fallout from the U.S.-China trade war and soaring production costs in China have forced Delta and other electronic companies with strong manufacturing bases in China to relocate production to other countries in South-east Asia and India. Apple supplier Pegatron Corp. said in January that it planned to invest $150 million to set up an iPhone production facility in India. Apple had put the Taiwanese company on probation over labor violations in mainland China last November. See Also: Apple Looks To Make iPads in India This Year, In A Shift Away From China: Report Price Action: Apple shares closed almost 3.4% lower on Thursday at $120.53, while Tesla shares closed 6.9% lower at $653.16 and further declined 0.3% in the after-hours session. See more from Benzinga Click here for options trades from Benzinga Peloton Partners With Adidas To Create New Apparel Line: What You Need To Know Tesla Faces Federal Investigation Over Michigan State Police Vehicle Crash © 2021 Benzinga.com. Benzinga does not provide investment advice. All rights reserved. Related Quotes Now that CoinShares has gone public, more information about its shareholders is available. You get the best of both worlds: an electric SUV that can go anywhere, and a classic Range that'"
      ]
     },
     "execution_count": 73,
     "metadata": {},
     "output_type": "execute_result"
    }
   ],
   "source": [
    "articles['TSLA'][2]"
   ]
  },
  {
   "cell_type": "markdown",
   "metadata": {},
   "source": [
    "## 4.4. Summarise all Articles"
   ]
  },
  {
   "cell_type": "code",
   "execution_count": 69,
   "metadata": {},
   "outputs": [],
   "source": [
    "def summarize(articles):\n",
    "    summaries = []\n",
    "    for article in articles:\n",
    "        input_ids = tokenizer.encode(article, return_tensors='pt')\n",
    "        output = model.generate(input_ids, max_length=55, num_beams=5, early_stopping=True)\n",
    "        summary = tokenizer.decode(output[0], skip_special_tokens=True)\n",
    "        summaries.append(summary)\n",
    "    return summaries"
   ]
  },
  {
   "cell_type": "code",
   "execution_count": 74,
   "metadata": {
    "collapsed": true
   },
   "outputs": [
    {
     "data": {
      "text/plain": [
       "{'GME': ['Video game retailer has lost 68.7% over the past month. Heading into today, shares of the video game retailer had lost 68.7% over the past month.',\n",
       "  'Video-game retailer to report first-quarter results next week. Options market indicates volatility ahead of earnings',\n",
       "  'Video game retailer’s shares surge again, but not as much as in January',\n",
       "  'Video game retailer has gained 417.58% over the past month.',\n",
       "  'Short interest fell to $2.76 billion on Wednesday. Dusaniwsky says short sellers ‘are waiting in the wings’',\n",
       "  'Video game retailer is expected to report quarterly earnings of $1.46 per share.',\n",
       "  'Video game retailer’s stock has lost more than half its value in a decade. Investors need to finish the revolution they started.',\n",
       "  'Redditor ‘Roaring Kitty’ has been piling into the video game retailer.',\n",
       "  'Bill Gross says he made about $10 million shorting shares. He’s still selling call options at $250 and $300',\n",
       "  'Video game retailer has moved 320.11% in the past month.'],\n",
       " 'TSLA': ['Tensions between U.S. and China may have already had blowback. Tesla has a challenging road ahead in China, Bremmer says',\n",
       "  'Tesla has a bullish number of hedge fund positions at its all time high.',\n",
       "  'Taiwanese company is building factories in India. Delta’s workforce has been cut by about half, FT says',\n",
       "  'Tesla was one of the 15 biggest renewable energy stocks to buy now. In Q4 2020, number of bullish hedge fund positions on Tesla increased',\n",
       "  'Government plans to introduce a law on digital currency. Elon Musk’s Tesla is planning to open shop in India.',\n",
       "  'NHTSA previously sent at least 14 special crash teams. Michigan State Police said on Twitter a parked patrol car was struck',\n",
       "  'Electric car maker is expected to report earnings of $0.75 per share.',\n",
       "  'Tesla is one of the big winners in 2020.',\n",
       "  'Cathie Wood’s Ark sees 50% chance of self-drive service in 5 years. Carmaker’s insurance business also added to its model',\n",
       "  'NHTSA has launched a special crash investigation. Elon Musk’s automaker is also under investigation in South Korea'],\n",
       " 'BTC': ['Bitcoin falls 6% after hitting new record high over the weekend. Ethereum drops 4.5% amid reports India could ban cryptocurrencies',\n",
       "  'What is Bitcoin, is it a company stock, or is it a crypto asset?',\n",
       "  '‘It’s not a great climate thing,’ he says. Coin uses more electricity per transaction than any other method',\n",
       "  'Fed sees rates close to zero at least through 2023. Morgan Stanley sees cryptocurrency becoming an investable asset',\n",
       "  'FundStrat sees crypto mining stocks outperforming Bitcoin. ‘Modern-age digital gold rush’ could continue, analyst says',\n",
       "  'Bank of America says Bitcoin price can be moved 1% for just $93 million. Ethereum may Steal Bitcoin’s thunder before the bull run',\n",
       "  'Analysts say stimulus cheques helped boost value. Bitcoin has tripled in value over last three months',\n",
       "  'Bitcoin’s MVRV ratio is not at an extreme: Coin Metrics. Thai police use water cannon to break up protest',\n",
       "  'Patrick Heusser sees rising wedge as sign of trend fatigue. Bitcoin has climbed from lows near $43,000 earlier this month',\n",
       "  'Two firms seek to offer the ‘First Trust SkyBridge Bitcoin ETF Trust’. SEC widely expected to approve first bitcoin ETF this year']}"
      ]
     },
     "execution_count": 74,
     "metadata": {},
     "output_type": "execute_result"
    }
   ],
   "source": [
    "summaries = {ticker:summarize(articles[ticker]) for ticker in monitored_tickers}\n",
    "summaries"
   ]
  },
  {
   "cell_type": "code",
   "execution_count": 77,
   "metadata": {},
   "outputs": [
    {
     "data": {
      "text/plain": [
       "['Bitcoin falls 6% after hitting new record high over the weekend. Ethereum drops 4.5% amid reports India could ban cryptocurrencies',\n",
       " 'What is Bitcoin, is it a company stock, or is it a crypto asset?',\n",
       " '‘It’s not a great climate thing,’ he says. Coin uses more electricity per transaction than any other method',\n",
       " 'Fed sees rates close to zero at least through 2023. Morgan Stanley sees cryptocurrency becoming an investable asset',\n",
       " 'FundStrat sees crypto mining stocks outperforming Bitcoin. ‘Modern-age digital gold rush’ could continue, analyst says',\n",
       " 'Bank of America says Bitcoin price can be moved 1% for just $93 million. Ethereum may Steal Bitcoin’s thunder before the bull run',\n",
       " 'Analysts say stimulus cheques helped boost value. Bitcoin has tripled in value over last three months',\n",
       " 'Bitcoin’s MVRV ratio is not at an extreme: Coin Metrics. Thai police use water cannon to break up protest',\n",
       " 'Patrick Heusser sees rising wedge as sign of trend fatigue. Bitcoin has climbed from lows near $43,000 earlier this month',\n",
       " 'Two firms seek to offer the ‘First Trust SkyBridge Bitcoin ETF Trust’. SEC widely expected to approve first bitcoin ETF this year']"
      ]
     },
     "execution_count": 77,
     "metadata": {},
     "output_type": "execute_result"
    }
   ],
   "source": [
    "summaries['BTC']"
   ]
  },
  {
   "cell_type": "markdown",
   "metadata": {},
   "source": [
    "# 5. Adding Sentiment Analysis"
   ]
  },
  {
   "cell_type": "code",
   "execution_count": 78,
   "metadata": {},
   "outputs": [],
   "source": [
    "from transformers import pipeline\n",
    "sentiment = pipeline('sentiment-analysis')"
   ]
  },
  {
   "cell_type": "code",
   "execution_count": 80,
   "metadata": {},
   "outputs": [
    {
     "data": {
      "text/plain": [
       "[{'label': 'NEGATIVE', 'score': 0.9995866417884827},\n",
       " {'label': 'NEGATIVE', 'score': 0.998802125453949},\n",
       " {'label': 'NEGATIVE', 'score': 0.9996466040611267},\n",
       " {'label': 'NEGATIVE', 'score': 0.9548832178115845},\n",
       " {'label': 'NEGATIVE', 'score': 0.9773658514022827},\n",
       " {'label': 'NEGATIVE', 'score': 0.9890510439872742},\n",
       " {'label': 'POSITIVE', 'score': 0.9615785479545593},\n",
       " {'label': 'NEGATIVE', 'score': 0.9898933172225952},\n",
       " {'label': 'NEGATIVE', 'score': 0.9990748763084412},\n",
       " {'label': 'NEGATIVE', 'score': 0.9585254192352295}]"
      ]
     },
     "execution_count": 80,
     "metadata": {},
     "output_type": "execute_result"
    }
   ],
   "source": [
    "sentiment(summaries['BTC'])"
   ]
  },
  {
   "cell_type": "code",
   "execution_count": 97,
   "metadata": {
    "collapsed": true
   },
   "outputs": [
    {
     "data": {
      "text/plain": [
       "{'GME': [{'label': 'NEGATIVE', 'score': 0.9995605945587158},\n",
       "  {'label': 'NEGATIVE', 'score': 0.9946243166923523},\n",
       "  {'label': 'NEGATIVE', 'score': 0.9979138970375061},\n",
       "  {'label': 'NEGATIVE', 'score': 0.5935250520706177},\n",
       "  {'label': 'NEGATIVE', 'score': 0.9984415173530579},\n",
       "  {'label': 'NEGATIVE', 'score': 0.9877721071243286},\n",
       "  {'label': 'NEGATIVE', 'score': 0.9997414350509644},\n",
       "  {'label': 'NEGATIVE', 'score': 0.9411824345588684},\n",
       "  {'label': 'NEGATIVE', 'score': 0.9984729886054993},\n",
       "  {'label': 'POSITIVE', 'score': 0.8099527359008789}],\n",
       " 'TSLA': [{'label': 'POSITIVE', 'score': 0.9909717440605164},\n",
       "  {'label': 'NEGATIVE', 'score': 0.9971327185630798},\n",
       "  {'label': 'NEGATIVE', 'score': 0.9996765851974487},\n",
       "  {'label': 'POSITIVE', 'score': 0.9839766025543213},\n",
       "  {'label': 'POSITIVE', 'score': 0.9760032892227173},\n",
       "  {'label': 'NEGATIVE', 'score': 0.9987760186195374},\n",
       "  {'label': 'NEGATIVE', 'score': 0.9867169260978699},\n",
       "  {'label': 'POSITIVE', 'score': 0.9996755123138428},\n",
       "  {'label': 'POSITIVE', 'score': 0.997209370136261},\n",
       "  {'label': 'NEGATIVE', 'score': 0.9409452676773071}],\n",
       " 'BTC': [{'label': 'NEGATIVE', 'score': 0.9995866417884827},\n",
       "  {'label': 'NEGATIVE', 'score': 0.998802125453949},\n",
       "  {'label': 'NEGATIVE', 'score': 0.9996466040611267},\n",
       "  {'label': 'NEGATIVE', 'score': 0.9548832178115845},\n",
       "  {'label': 'NEGATIVE', 'score': 0.9773658514022827},\n",
       "  {'label': 'NEGATIVE', 'score': 0.9890510439872742},\n",
       "  {'label': 'POSITIVE', 'score': 0.9615785479545593},\n",
       "  {'label': 'NEGATIVE', 'score': 0.9898933172225952},\n",
       "  {'label': 'NEGATIVE', 'score': 0.9990748763084412},\n",
       "  {'label': 'NEGATIVE', 'score': 0.9585254192352295}]}"
      ]
     },
     "execution_count": 97,
     "metadata": {},
     "output_type": "execute_result"
    }
   ],
   "source": [
    "scores = {ticker:sentiment(summaries[ticker]) for ticker in monitored_tickers}\n",
    "scores"
   ]
  },
  {
   "cell_type": "code",
   "execution_count": 95,
   "metadata": {},
   "outputs": [
    {
     "name": "stdout",
     "output_type": "stream",
     "text": [
      "Video game retailer has gained 417.58% over the past month. NEGATIVE 0.5935250520706177\n"
     ]
    }
   ],
   "source": [
    "print(summaries['GME'][3], scores['GME'][3]['label'], scores['GME'][3]['score'])"
   ]
  },
  {
   "cell_type": "code",
   "execution_count": 88,
   "metadata": {},
   "outputs": [
    {
     "data": {
      "text/plain": [
       "0.9995866417884827"
      ]
     },
     "execution_count": 88,
     "metadata": {},
     "output_type": "execute_result"
    }
   ],
   "source": [
    "scores['BTC'][0]['score']"
   ]
  },
  {
   "cell_type": "markdown",
   "metadata": {},
   "source": [
    "# 6. Exporting Results to CSV"
   ]
  },
  {
   "cell_type": "code",
   "execution_count": 98,
   "metadata": {
    "collapsed": true
   },
   "outputs": [
    {
     "data": {
      "text/plain": [
       "{'GME': ['Video game retailer has lost 68.7% over the past month. Heading into today, shares of the video game retailer had lost 68.7% over the past month.',\n",
       "  'Video-game retailer to report first-quarter results next week. Options market indicates volatility ahead of earnings',\n",
       "  'Video game retailer’s shares surge again, but not as much as in January',\n",
       "  'Video game retailer has gained 417.58% over the past month.',\n",
       "  'Short interest fell to $2.76 billion on Wednesday. Dusaniwsky says short sellers ‘are waiting in the wings’',\n",
       "  'Video game retailer is expected to report quarterly earnings of $1.46 per share.',\n",
       "  'Video game retailer’s stock has lost more than half its value in a decade. Investors need to finish the revolution they started.',\n",
       "  'Redditor ‘Roaring Kitty’ has been piling into the video game retailer.',\n",
       "  'Bill Gross says he made about $10 million shorting shares. He’s still selling call options at $250 and $300',\n",
       "  'Video game retailer has moved 320.11% in the past month.'],\n",
       " 'TSLA': ['Tensions between U.S. and China may have already had blowback. Tesla has a challenging road ahead in China, Bremmer says',\n",
       "  'Tesla has a bullish number of hedge fund positions at its all time high.',\n",
       "  'Taiwanese company is building factories in India. Delta’s workforce has been cut by about half, FT says',\n",
       "  'Tesla was one of the 15 biggest renewable energy stocks to buy now. In Q4 2020, number of bullish hedge fund positions on Tesla increased',\n",
       "  'Government plans to introduce a law on digital currency. Elon Musk’s Tesla is planning to open shop in India.',\n",
       "  'NHTSA previously sent at least 14 special crash teams. Michigan State Police said on Twitter a parked patrol car was struck',\n",
       "  'Electric car maker is expected to report earnings of $0.75 per share.',\n",
       "  'Tesla is one of the big winners in 2020.',\n",
       "  'Cathie Wood’s Ark sees 50% chance of self-drive service in 5 years. Carmaker’s insurance business also added to its model',\n",
       "  'NHTSA has launched a special crash investigation. Elon Musk’s automaker is also under investigation in South Korea'],\n",
       " 'BTC': ['Bitcoin falls 6% after hitting new record high over the weekend. Ethereum drops 4.5% amid reports India could ban cryptocurrencies',\n",
       "  'What is Bitcoin, is it a company stock, or is it a crypto asset?',\n",
       "  '‘It’s not a great climate thing,’ he says. Coin uses more electricity per transaction than any other method',\n",
       "  'Fed sees rates close to zero at least through 2023. Morgan Stanley sees cryptocurrency becoming an investable asset',\n",
       "  'FundStrat sees crypto mining stocks outperforming Bitcoin. ‘Modern-age digital gold rush’ could continue, analyst says',\n",
       "  'Bank of America says Bitcoin price can be moved 1% for just $93 million. Ethereum may Steal Bitcoin’s thunder before the bull run',\n",
       "  'Analysts say stimulus cheques helped boost value. Bitcoin has tripled in value over last three months',\n",
       "  'Bitcoin’s MVRV ratio is not at an extreme: Coin Metrics. Thai police use water cannon to break up protest',\n",
       "  'Patrick Heusser sees rising wedge as sign of trend fatigue. Bitcoin has climbed from lows near $43,000 earlier this month',\n",
       "  'Two firms seek to offer the ‘First Trust SkyBridge Bitcoin ETF Trust’. SEC widely expected to approve first bitcoin ETF this year']}"
      ]
     },
     "execution_count": 98,
     "metadata": {},
     "output_type": "execute_result"
    }
   ],
   "source": [
    "summaries"
   ]
  },
  {
   "cell_type": "code",
   "execution_count": 99,
   "metadata": {
    "collapsed": true
   },
   "outputs": [
    {
     "data": {
      "text/plain": [
       "{'GME': [{'label': 'NEGATIVE', 'score': 0.9995605945587158},\n",
       "  {'label': 'NEGATIVE', 'score': 0.9946243166923523},\n",
       "  {'label': 'NEGATIVE', 'score': 0.9979138970375061},\n",
       "  {'label': 'NEGATIVE', 'score': 0.5935250520706177},\n",
       "  {'label': 'NEGATIVE', 'score': 0.9984415173530579},\n",
       "  {'label': 'NEGATIVE', 'score': 0.9877721071243286},\n",
       "  {'label': 'NEGATIVE', 'score': 0.9997414350509644},\n",
       "  {'label': 'NEGATIVE', 'score': 0.9411824345588684},\n",
       "  {'label': 'NEGATIVE', 'score': 0.9984729886054993},\n",
       "  {'label': 'POSITIVE', 'score': 0.8099527359008789}],\n",
       " 'TSLA': [{'label': 'POSITIVE', 'score': 0.9909717440605164},\n",
       "  {'label': 'NEGATIVE', 'score': 0.9971327185630798},\n",
       "  {'label': 'NEGATIVE', 'score': 0.9996765851974487},\n",
       "  {'label': 'POSITIVE', 'score': 0.9839766025543213},\n",
       "  {'label': 'POSITIVE', 'score': 0.9760032892227173},\n",
       "  {'label': 'NEGATIVE', 'score': 0.9987760186195374},\n",
       "  {'label': 'NEGATIVE', 'score': 0.9867169260978699},\n",
       "  {'label': 'POSITIVE', 'score': 0.9996755123138428},\n",
       "  {'label': 'POSITIVE', 'score': 0.997209370136261},\n",
       "  {'label': 'NEGATIVE', 'score': 0.9409452676773071}],\n",
       " 'BTC': [{'label': 'NEGATIVE', 'score': 0.9995866417884827},\n",
       "  {'label': 'NEGATIVE', 'score': 0.998802125453949},\n",
       "  {'label': 'NEGATIVE', 'score': 0.9996466040611267},\n",
       "  {'label': 'NEGATIVE', 'score': 0.9548832178115845},\n",
       "  {'label': 'NEGATIVE', 'score': 0.9773658514022827},\n",
       "  {'label': 'NEGATIVE', 'score': 0.9890510439872742},\n",
       "  {'label': 'POSITIVE', 'score': 0.9615785479545593},\n",
       "  {'label': 'NEGATIVE', 'score': 0.9898933172225952},\n",
       "  {'label': 'NEGATIVE', 'score': 0.9990748763084412},\n",
       "  {'label': 'NEGATIVE', 'score': 0.9585254192352295}]}"
      ]
     },
     "execution_count": 99,
     "metadata": {},
     "output_type": "execute_result"
    }
   ],
   "source": [
    "scores"
   ]
  },
  {
   "cell_type": "code",
   "execution_count": 100,
   "metadata": {
    "collapsed": true
   },
   "outputs": [
    {
     "data": {
      "text/plain": [
       "{'GME': ['https://finance.yahoo.com/news/gamestop-gme-dips-more-broader-224510835.html',\n",
       "  'https://finance.yahoo.com/news/gamestop-2-460-roller-coaster-131733513.html',\n",
       "  'https://au.finance.yahoo.com/news/gme-gamestop-surge-230431651.html',\n",
       "  'https://finance.yahoo.com/news/gamestop-gme-stock-sinks-market-224510746.html',\n",
       "  'https://au.finance.yahoo.com/news/we-should-see-the-gme-short-squeeze-continuing-s-3-partners-174542296.html',\n",
       "  'https://au.finance.yahoo.com/news/gamestop-gme-earnings-expected-grow-163004341.html',\n",
       "  'https://finance.yahoo.com/news/redditors-ryan-cohen-needs-help-183202679.html',\n",
       "  'https://finance.yahoo.com/news/gamestop-bull-roaring-kitty-isnt-060454056.html',\n",
       "  'https://finance.yahoo.com/news/bill-gross-says-made-10-184652396.html',\n",
       "  'https://finance.yahoo.com/news/gamestop-gme-outpaces-stock-market-214509325.html'],\n",
       " 'TSLA': ['https://au.finance.yahoo.com/news/china-restricting-tesla-use-uncovers-a-significant-challenge-for-elon-musk-expert-161921664.html',\n",
       "  'https://finance.yahoo.com/news/tesla-tsla-stock-buy-sell-165650439.html',\n",
       "  'https://finance.yahoo.com/news/tesla-apple-power-component-supplier-061042699.html',\n",
       "  'https://finance.yahoo.com/news/buy-tesla-tsla-stock-too-173026416.html',\n",
       "  'https://finance.yahoo.com/news/proposed-bitcoin-ban-becomes-x-060853701.html',\n",
       "  'https://finance.yahoo.com/news/u-investigating-suspected-autopilot-tesla-234850458.html',\n",
       "  'https://finance.yahoo.com/news/tesla-tsla-gains-market-dips-214509034.html',\n",
       "  'https://finance.yahoo.com/video/getting-technical-dont-buy-tesla-171230741.html',\n",
       "  'https://finance.yahoo.com/news/cathie-wood-ark-price-target-171141755.html',\n",
       "  'https://finance.yahoo.com/news/tesla-faces-yet-another-nhtsa-005645804.html'],\n",
       " 'BTC': ['https://au.finance.yahoo.com/news/bitcoin-price-15-march-india-ban-094151343.html',\n",
       "  'https://finance.yahoo.com/news/bitcoin-not-stock-171335224.html',\n",
       "  'https://au.sports.yahoo.com/bill-gates-bitcoin-025753416.html',\n",
       "  'https://finance.yahoo.com/news/market-wrap-bitcoin-near-58k-202428527.html',\n",
       "  'https://finance.yahoo.com/news/crypto-mining-stocks-could-keep-182757647.html',\n",
       "  'https://finance.yahoo.com/news/bitcoin-could-boom-430-ethereum-133606997.html',\n",
       "  'https://au.finance.yahoo.com/news/bitcoin-passes-60-000-first-121821843.html',\n",
       "  'https://finance.yahoo.com/news/blockchain-indicator-might-show-bitcoin-200359598.html',\n",
       "  'https://au.finance.yahoo.com/news/bitcoin-price-chart-shows-bull-175628828.html',\n",
       "  'https://finance.yahoo.com/news/first-advisor-scaramucci-led-skybridge-221535694.html']}"
      ]
     },
     "execution_count": 100,
     "metadata": {},
     "output_type": "execute_result"
    }
   ],
   "source": [
    "cleaned_urls"
   ]
  },
  {
   "cell_type": "code",
   "execution_count": 105,
   "metadata": {},
   "outputs": [
    {
     "data": {
      "text/plain": [
       "range(0, 10)"
      ]
     },
     "execution_count": 105,
     "metadata": {},
     "output_type": "execute_result"
    }
   ],
   "source": [
    "range(len(summaries['GME']))"
   ]
  },
  {
   "cell_type": "code",
   "execution_count": 109,
   "metadata": {},
   "outputs": [
    {
     "data": {
      "text/plain": [
       "'Video game retailer has gained 417.58% over the past month.'"
      ]
     },
     "execution_count": 109,
     "metadata": {},
     "output_type": "execute_result"
    }
   ],
   "source": [
    "summaries['GME'][3]"
   ]
  },
  {
   "cell_type": "code",
   "execution_count": 112,
   "metadata": {},
   "outputs": [],
   "source": [
    "def create_output_array(summaries, scores, urls):\n",
    "    output = []\n",
    "    for ticker in monitored_tickers:\n",
    "        for counter in range(len(summaries[ticker])):\n",
    "            output_this = [\n",
    "                ticker,\n",
    "                summaries[ticker][counter],\n",
    "                scores[ticker][counter]['label'],\n",
    "                scores[ticker][counter]['score'],\n",
    "                urls[ticker][counter]\n",
    "            ]\n",
    "            output.append(output_this)\n",
    "    return output"
   ]
  },
  {
   "cell_type": "code",
   "execution_count": 113,
   "metadata": {
    "collapsed": true
   },
   "outputs": [
    {
     "data": {
      "text/plain": [
       "[['GME',\n",
       "  'Video game retailer has lost 68.7% over the past month. Heading into today, shares of the video game retailer had lost 68.7% over the past month.',\n",
       "  'NEGATIVE',\n",
       "  0.9995605945587158,\n",
       "  'https://finance.yahoo.com/news/gamestop-gme-dips-more-broader-224510835.html'],\n",
       " ['GME',\n",
       "  'Video-game retailer to report first-quarter results next week. Options market indicates volatility ahead of earnings',\n",
       "  'NEGATIVE',\n",
       "  0.9946243166923523,\n",
       "  'https://finance.yahoo.com/news/gamestop-2-460-roller-coaster-131733513.html'],\n",
       " ['GME',\n",
       "  'Video game retailer’s shares surge again, but not as much as in January',\n",
       "  'NEGATIVE',\n",
       "  0.9979138970375061,\n",
       "  'https://au.finance.yahoo.com/news/gme-gamestop-surge-230431651.html'],\n",
       " ['GME',\n",
       "  'Video game retailer has gained 417.58% over the past month.',\n",
       "  'NEGATIVE',\n",
       "  0.5935250520706177,\n",
       "  'https://finance.yahoo.com/news/gamestop-gme-stock-sinks-market-224510746.html'],\n",
       " ['GME',\n",
       "  'Short interest fell to $2.76 billion on Wednesday. Dusaniwsky says short sellers ‘are waiting in the wings’',\n",
       "  'NEGATIVE',\n",
       "  0.9984415173530579,\n",
       "  'https://au.finance.yahoo.com/news/we-should-see-the-gme-short-squeeze-continuing-s-3-partners-174542296.html'],\n",
       " ['GME',\n",
       "  'Video game retailer is expected to report quarterly earnings of $1.46 per share.',\n",
       "  'NEGATIVE',\n",
       "  0.9877721071243286,\n",
       "  'https://au.finance.yahoo.com/news/gamestop-gme-earnings-expected-grow-163004341.html'],\n",
       " ['GME',\n",
       "  'Video game retailer’s stock has lost more than half its value in a decade. Investors need to finish the revolution they started.',\n",
       "  'NEGATIVE',\n",
       "  0.9997414350509644,\n",
       "  'https://finance.yahoo.com/news/redditors-ryan-cohen-needs-help-183202679.html'],\n",
       " ['GME',\n",
       "  'Redditor ‘Roaring Kitty’ has been piling into the video game retailer.',\n",
       "  'NEGATIVE',\n",
       "  0.9411824345588684,\n",
       "  'https://finance.yahoo.com/news/gamestop-bull-roaring-kitty-isnt-060454056.html'],\n",
       " ['GME',\n",
       "  'Bill Gross says he made about $10 million shorting shares. He’s still selling call options at $250 and $300',\n",
       "  'NEGATIVE',\n",
       "  0.9984729886054993,\n",
       "  'https://finance.yahoo.com/news/bill-gross-says-made-10-184652396.html'],\n",
       " ['GME',\n",
       "  'Video game retailer has moved 320.11% in the past month.',\n",
       "  'POSITIVE',\n",
       "  0.8099527359008789,\n",
       "  'https://finance.yahoo.com/news/gamestop-gme-outpaces-stock-market-214509325.html'],\n",
       " ['TSLA',\n",
       "  'Tensions between U.S. and China may have already had blowback. Tesla has a challenging road ahead in China, Bremmer says',\n",
       "  'POSITIVE',\n",
       "  0.9909717440605164,\n",
       "  'https://au.finance.yahoo.com/news/china-restricting-tesla-use-uncovers-a-significant-challenge-for-elon-musk-expert-161921664.html'],\n",
       " ['TSLA',\n",
       "  'Tesla has a bullish number of hedge fund positions at its all time high.',\n",
       "  'NEGATIVE',\n",
       "  0.9971327185630798,\n",
       "  'https://finance.yahoo.com/news/tesla-tsla-stock-buy-sell-165650439.html'],\n",
       " ['TSLA',\n",
       "  'Taiwanese company is building factories in India. Delta’s workforce has been cut by about half, FT says',\n",
       "  'NEGATIVE',\n",
       "  0.9996765851974487,\n",
       "  'https://finance.yahoo.com/news/tesla-apple-power-component-supplier-061042699.html'],\n",
       " ['TSLA',\n",
       "  'Tesla was one of the 15 biggest renewable energy stocks to buy now. In Q4 2020, number of bullish hedge fund positions on Tesla increased',\n",
       "  'POSITIVE',\n",
       "  0.9839766025543213,\n",
       "  'https://finance.yahoo.com/news/buy-tesla-tsla-stock-too-173026416.html'],\n",
       " ['TSLA',\n",
       "  'Government plans to introduce a law on digital currency. Elon Musk’s Tesla is planning to open shop in India.',\n",
       "  'POSITIVE',\n",
       "  0.9760032892227173,\n",
       "  'https://finance.yahoo.com/news/proposed-bitcoin-ban-becomes-x-060853701.html'],\n",
       " ['TSLA',\n",
       "  'NHTSA previously sent at least 14 special crash teams. Michigan State Police said on Twitter a parked patrol car was struck',\n",
       "  'NEGATIVE',\n",
       "  0.9987760186195374,\n",
       "  'https://finance.yahoo.com/news/u-investigating-suspected-autopilot-tesla-234850458.html'],\n",
       " ['TSLA',\n",
       "  'Electric car maker is expected to report earnings of $0.75 per share.',\n",
       "  'NEGATIVE',\n",
       "  0.9867169260978699,\n",
       "  'https://finance.yahoo.com/news/tesla-tsla-gains-market-dips-214509034.html'],\n",
       " ['TSLA',\n",
       "  'Tesla is one of the big winners in 2020.',\n",
       "  'POSITIVE',\n",
       "  0.9996755123138428,\n",
       "  'https://finance.yahoo.com/video/getting-technical-dont-buy-tesla-171230741.html'],\n",
       " ['TSLA',\n",
       "  'Cathie Wood’s Ark sees 50% chance of self-drive service in 5 years. Carmaker’s insurance business also added to its model',\n",
       "  'POSITIVE',\n",
       "  0.997209370136261,\n",
       "  'https://finance.yahoo.com/news/cathie-wood-ark-price-target-171141755.html'],\n",
       " ['TSLA',\n",
       "  'NHTSA has launched a special crash investigation. Elon Musk’s automaker is also under investigation in South Korea',\n",
       "  'NEGATIVE',\n",
       "  0.9409452676773071,\n",
       "  'https://finance.yahoo.com/news/tesla-faces-yet-another-nhtsa-005645804.html'],\n",
       " ['BTC',\n",
       "  'Bitcoin falls 6% after hitting new record high over the weekend. Ethereum drops 4.5% amid reports India could ban cryptocurrencies',\n",
       "  'NEGATIVE',\n",
       "  0.9995866417884827,\n",
       "  'https://au.finance.yahoo.com/news/bitcoin-price-15-march-india-ban-094151343.html'],\n",
       " ['BTC',\n",
       "  'What is Bitcoin, is it a company stock, or is it a crypto asset?',\n",
       "  'NEGATIVE',\n",
       "  0.998802125453949,\n",
       "  'https://finance.yahoo.com/news/bitcoin-not-stock-171335224.html'],\n",
       " ['BTC',\n",
       "  '‘It’s not a great climate thing,’ he says. Coin uses more electricity per transaction than any other method',\n",
       "  'NEGATIVE',\n",
       "  0.9996466040611267,\n",
       "  'https://au.sports.yahoo.com/bill-gates-bitcoin-025753416.html'],\n",
       " ['BTC',\n",
       "  'Fed sees rates close to zero at least through 2023. Morgan Stanley sees cryptocurrency becoming an investable asset',\n",
       "  'NEGATIVE',\n",
       "  0.9548832178115845,\n",
       "  'https://finance.yahoo.com/news/market-wrap-bitcoin-near-58k-202428527.html'],\n",
       " ['BTC',\n",
       "  'FundStrat sees crypto mining stocks outperforming Bitcoin. ‘Modern-age digital gold rush’ could continue, analyst says',\n",
       "  'NEGATIVE',\n",
       "  0.9773658514022827,\n",
       "  'https://finance.yahoo.com/news/crypto-mining-stocks-could-keep-182757647.html'],\n",
       " ['BTC',\n",
       "  'Bank of America says Bitcoin price can be moved 1% for just $93 million. Ethereum may Steal Bitcoin’s thunder before the bull run',\n",
       "  'NEGATIVE',\n",
       "  0.9890510439872742,\n",
       "  'https://finance.yahoo.com/news/bitcoin-could-boom-430-ethereum-133606997.html'],\n",
       " ['BTC',\n",
       "  'Analysts say stimulus cheques helped boost value. Bitcoin has tripled in value over last three months',\n",
       "  'POSITIVE',\n",
       "  0.9615785479545593,\n",
       "  'https://au.finance.yahoo.com/news/bitcoin-passes-60-000-first-121821843.html'],\n",
       " ['BTC',\n",
       "  'Bitcoin’s MVRV ratio is not at an extreme: Coin Metrics. Thai police use water cannon to break up protest',\n",
       "  'NEGATIVE',\n",
       "  0.9898933172225952,\n",
       "  'https://finance.yahoo.com/news/blockchain-indicator-might-show-bitcoin-200359598.html'],\n",
       " ['BTC',\n",
       "  'Patrick Heusser sees rising wedge as sign of trend fatigue. Bitcoin has climbed from lows near $43,000 earlier this month',\n",
       "  'NEGATIVE',\n",
       "  0.9990748763084412,\n",
       "  'https://au.finance.yahoo.com/news/bitcoin-price-chart-shows-bull-175628828.html'],\n",
       " ['BTC',\n",
       "  'Two firms seek to offer the ‘First Trust SkyBridge Bitcoin ETF Trust’. SEC widely expected to approve first bitcoin ETF this year',\n",
       "  'NEGATIVE',\n",
       "  0.9585254192352295,\n",
       "  'https://finance.yahoo.com/news/first-advisor-scaramucci-led-skybridge-221535694.html']]"
      ]
     },
     "execution_count": 113,
     "metadata": {},
     "output_type": "execute_result"
    }
   ],
   "source": [
    "final_output = create_output_array(summaries, scores, cleaned_urls)\n",
    "final_output"
   ]
  },
  {
   "cell_type": "code",
   "execution_count": 118,
   "metadata": {},
   "outputs": [],
   "source": [
    "final_output.insert(0, ['Ticker', 'Summary', 'Label', 'Confidence', 'URL'])"
   ]
  },
  {
   "cell_type": "code",
   "execution_count": 119,
   "metadata": {
    "collapsed": true
   },
   "outputs": [
    {
     "data": {
      "text/plain": [
       "[['Ticker', 'Summary', 'Label', 'Confidence', 'URL'],\n",
       " ['GME',\n",
       "  'Video game retailer has lost 68.7% over the past month. Heading into today, shares of the video game retailer had lost 68.7% over the past month.',\n",
       "  'NEGATIVE',\n",
       "  0.9995605945587158,\n",
       "  'https://finance.yahoo.com/news/gamestop-gme-dips-more-broader-224510835.html'],\n",
       " ['GME',\n",
       "  'Video-game retailer to report first-quarter results next week. Options market indicates volatility ahead of earnings',\n",
       "  'NEGATIVE',\n",
       "  0.9946243166923523,\n",
       "  'https://finance.yahoo.com/news/gamestop-2-460-roller-coaster-131733513.html'],\n",
       " ['GME',\n",
       "  'Video game retailer’s shares surge again, but not as much as in January',\n",
       "  'NEGATIVE',\n",
       "  0.9979138970375061,\n",
       "  'https://au.finance.yahoo.com/news/gme-gamestop-surge-230431651.html'],\n",
       " ['GME',\n",
       "  'Video game retailer has gained 417.58% over the past month.',\n",
       "  'NEGATIVE',\n",
       "  0.5935250520706177,\n",
       "  'https://finance.yahoo.com/news/gamestop-gme-stock-sinks-market-224510746.html'],\n",
       " ['GME',\n",
       "  'Short interest fell to $2.76 billion on Wednesday. Dusaniwsky says short sellers ‘are waiting in the wings’',\n",
       "  'NEGATIVE',\n",
       "  0.9984415173530579,\n",
       "  'https://au.finance.yahoo.com/news/we-should-see-the-gme-short-squeeze-continuing-s-3-partners-174542296.html'],\n",
       " ['GME',\n",
       "  'Video game retailer is expected to report quarterly earnings of $1.46 per share.',\n",
       "  'NEGATIVE',\n",
       "  0.9877721071243286,\n",
       "  'https://au.finance.yahoo.com/news/gamestop-gme-earnings-expected-grow-163004341.html'],\n",
       " ['GME',\n",
       "  'Video game retailer’s stock has lost more than half its value in a decade. Investors need to finish the revolution they started.',\n",
       "  'NEGATIVE',\n",
       "  0.9997414350509644,\n",
       "  'https://finance.yahoo.com/news/redditors-ryan-cohen-needs-help-183202679.html'],\n",
       " ['GME',\n",
       "  'Redditor ‘Roaring Kitty’ has been piling into the video game retailer.',\n",
       "  'NEGATIVE',\n",
       "  0.9411824345588684,\n",
       "  'https://finance.yahoo.com/news/gamestop-bull-roaring-kitty-isnt-060454056.html'],\n",
       " ['GME',\n",
       "  'Bill Gross says he made about $10 million shorting shares. He’s still selling call options at $250 and $300',\n",
       "  'NEGATIVE',\n",
       "  0.9984729886054993,\n",
       "  'https://finance.yahoo.com/news/bill-gross-says-made-10-184652396.html'],\n",
       " ['GME',\n",
       "  'Video game retailer has moved 320.11% in the past month.',\n",
       "  'POSITIVE',\n",
       "  0.8099527359008789,\n",
       "  'https://finance.yahoo.com/news/gamestop-gme-outpaces-stock-market-214509325.html'],\n",
       " ['TSLA',\n",
       "  'Tensions between U.S. and China may have already had blowback. Tesla has a challenging road ahead in China, Bremmer says',\n",
       "  'POSITIVE',\n",
       "  0.9909717440605164,\n",
       "  'https://au.finance.yahoo.com/news/china-restricting-tesla-use-uncovers-a-significant-challenge-for-elon-musk-expert-161921664.html'],\n",
       " ['TSLA',\n",
       "  'Tesla has a bullish number of hedge fund positions at its all time high.',\n",
       "  'NEGATIVE',\n",
       "  0.9971327185630798,\n",
       "  'https://finance.yahoo.com/news/tesla-tsla-stock-buy-sell-165650439.html'],\n",
       " ['TSLA',\n",
       "  'Taiwanese company is building factories in India. Delta’s workforce has been cut by about half, FT says',\n",
       "  'NEGATIVE',\n",
       "  0.9996765851974487,\n",
       "  'https://finance.yahoo.com/news/tesla-apple-power-component-supplier-061042699.html'],\n",
       " ['TSLA',\n",
       "  'Tesla was one of the 15 biggest renewable energy stocks to buy now. In Q4 2020, number of bullish hedge fund positions on Tesla increased',\n",
       "  'POSITIVE',\n",
       "  0.9839766025543213,\n",
       "  'https://finance.yahoo.com/news/buy-tesla-tsla-stock-too-173026416.html'],\n",
       " ['TSLA',\n",
       "  'Government plans to introduce a law on digital currency. Elon Musk’s Tesla is planning to open shop in India.',\n",
       "  'POSITIVE',\n",
       "  0.9760032892227173,\n",
       "  'https://finance.yahoo.com/news/proposed-bitcoin-ban-becomes-x-060853701.html'],\n",
       " ['TSLA',\n",
       "  'NHTSA previously sent at least 14 special crash teams. Michigan State Police said on Twitter a parked patrol car was struck',\n",
       "  'NEGATIVE',\n",
       "  0.9987760186195374,\n",
       "  'https://finance.yahoo.com/news/u-investigating-suspected-autopilot-tesla-234850458.html'],\n",
       " ['TSLA',\n",
       "  'Electric car maker is expected to report earnings of $0.75 per share.',\n",
       "  'NEGATIVE',\n",
       "  0.9867169260978699,\n",
       "  'https://finance.yahoo.com/news/tesla-tsla-gains-market-dips-214509034.html'],\n",
       " ['TSLA',\n",
       "  'Tesla is one of the big winners in 2020.',\n",
       "  'POSITIVE',\n",
       "  0.9996755123138428,\n",
       "  'https://finance.yahoo.com/video/getting-technical-dont-buy-tesla-171230741.html'],\n",
       " ['TSLA',\n",
       "  'Cathie Wood’s Ark sees 50% chance of self-drive service in 5 years. Carmaker’s insurance business also added to its model',\n",
       "  'POSITIVE',\n",
       "  0.997209370136261,\n",
       "  'https://finance.yahoo.com/news/cathie-wood-ark-price-target-171141755.html'],\n",
       " ['TSLA',\n",
       "  'NHTSA has launched a special crash investigation. Elon Musk’s automaker is also under investigation in South Korea',\n",
       "  'NEGATIVE',\n",
       "  0.9409452676773071,\n",
       "  'https://finance.yahoo.com/news/tesla-faces-yet-another-nhtsa-005645804.html'],\n",
       " ['BTC',\n",
       "  'Bitcoin falls 6% after hitting new record high over the weekend. Ethereum drops 4.5% amid reports India could ban cryptocurrencies',\n",
       "  'NEGATIVE',\n",
       "  0.9995866417884827,\n",
       "  'https://au.finance.yahoo.com/news/bitcoin-price-15-march-india-ban-094151343.html'],\n",
       " ['BTC',\n",
       "  'What is Bitcoin, is it a company stock, or is it a crypto asset?',\n",
       "  'NEGATIVE',\n",
       "  0.998802125453949,\n",
       "  'https://finance.yahoo.com/news/bitcoin-not-stock-171335224.html'],\n",
       " ['BTC',\n",
       "  '‘It’s not a great climate thing,’ he says. Coin uses more electricity per transaction than any other method',\n",
       "  'NEGATIVE',\n",
       "  0.9996466040611267,\n",
       "  'https://au.sports.yahoo.com/bill-gates-bitcoin-025753416.html'],\n",
       " ['BTC',\n",
       "  'Fed sees rates close to zero at least through 2023. Morgan Stanley sees cryptocurrency becoming an investable asset',\n",
       "  'NEGATIVE',\n",
       "  0.9548832178115845,\n",
       "  'https://finance.yahoo.com/news/market-wrap-bitcoin-near-58k-202428527.html'],\n",
       " ['BTC',\n",
       "  'FundStrat sees crypto mining stocks outperforming Bitcoin. ‘Modern-age digital gold rush’ could continue, analyst says',\n",
       "  'NEGATIVE',\n",
       "  0.9773658514022827,\n",
       "  'https://finance.yahoo.com/news/crypto-mining-stocks-could-keep-182757647.html'],\n",
       " ['BTC',\n",
       "  'Bank of America says Bitcoin price can be moved 1% for just $93 million. Ethereum may Steal Bitcoin’s thunder before the bull run',\n",
       "  'NEGATIVE',\n",
       "  0.9890510439872742,\n",
       "  'https://finance.yahoo.com/news/bitcoin-could-boom-430-ethereum-133606997.html'],\n",
       " ['BTC',\n",
       "  'Analysts say stimulus cheques helped boost value. Bitcoin has tripled in value over last three months',\n",
       "  'POSITIVE',\n",
       "  0.9615785479545593,\n",
       "  'https://au.finance.yahoo.com/news/bitcoin-passes-60-000-first-121821843.html'],\n",
       " ['BTC',\n",
       "  'Bitcoin’s MVRV ratio is not at an extreme: Coin Metrics. Thai police use water cannon to break up protest',\n",
       "  'NEGATIVE',\n",
       "  0.9898933172225952,\n",
       "  'https://finance.yahoo.com/news/blockchain-indicator-might-show-bitcoin-200359598.html'],\n",
       " ['BTC',\n",
       "  'Patrick Heusser sees rising wedge as sign of trend fatigue. Bitcoin has climbed from lows near $43,000 earlier this month',\n",
       "  'NEGATIVE',\n",
       "  0.9990748763084412,\n",
       "  'https://au.finance.yahoo.com/news/bitcoin-price-chart-shows-bull-175628828.html'],\n",
       " ['BTC',\n",
       "  'Two firms seek to offer the ‘First Trust SkyBridge Bitcoin ETF Trust’. SEC widely expected to approve first bitcoin ETF this year',\n",
       "  'NEGATIVE',\n",
       "  0.9585254192352295,\n",
       "  'https://finance.yahoo.com/news/first-advisor-scaramucci-led-skybridge-221535694.html']]"
      ]
     },
     "execution_count": 119,
     "metadata": {},
     "output_type": "execute_result"
    }
   ],
   "source": [
    "final_output"
   ]
  },
  {
   "cell_type": "code",
   "execution_count": 121,
   "metadata": {},
   "outputs": [],
   "source": [
    "import csv\n",
    "with open('assetsummaries.csv', mode='w', newline='') as f:\n",
    "    csv_writer = csv.writer(f, delimiter=',', quotechar='\"', quoting=csv.QUOTE_MINIMAL)\n",
    "    csv_writer.writerows(final_output)"
   ]
  },
  {
   "cell_type": "code",
   "execution_count": null,
   "metadata": {},
   "outputs": [],
   "source": []
  },
  {
   "cell_type": "code",
   "execution_count": null,
   "metadata": {},
   "outputs": [],
   "source": []
  },
  {
   "cell_type": "code",
   "execution_count": null,
   "metadata": {},
   "outputs": [],
   "source": []
  }
 ],
 "metadata": {
  "kernelspec": {
   "display_name": "Python 3",
   "language": "python",
   "name": "python3"
  },
  "language_info": {
   "codemirror_mode": {
    "name": "ipython",
    "version": 3
   },
   "file_extension": ".py",
   "mimetype": "text/x-python",
   "name": "python",
   "nbconvert_exporter": "python",
   "pygments_lexer": "ipython3",
   "version": "3.9.12"
  }
 },
 "nbformat": 4,
 "nbformat_minor": 2
}
