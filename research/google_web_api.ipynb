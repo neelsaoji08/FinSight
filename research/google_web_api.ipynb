{
 "cells": [
  {
   "cell_type": "code",
   "execution_count": 1,
   "metadata": {},
   "outputs": [],
   "source": [
    "import requests\n",
    "import os"
   ]
  },
  {
   "cell_type": "code",
   "execution_count": 2,
   "metadata": {},
   "outputs": [],
   "source": [
    "api_key=os.environ['GOOGLE_API_KEY']\n",
    "search_engine_id=os.environ['SEARCH_ENGINE_ID']"
   ]
  },
  {
   "cell_type": "code",
   "execution_count": 37,
   "metadata": {},
   "outputs": [
    {
     "data": {
      "text/plain": [
       "<Response [200]>"
      ]
     },
     "execution_count": 37,
     "metadata": {},
     "output_type": "execute_result"
    }
   ],
   "source": [
    "search_quey='yahoo finance latentview'\n",
    "\n",
    "url='https://www.googleapis.com/customsearch/v1'\n",
    "\n",
    "params={\n",
    "    'q':search_quey,\n",
    "    'key':api_key,\n",
    "    'cx':search_engine_id,\n",
    "    \"tbm\": \"nws\",\n",
    "}\n",
    "\n",
    "respose=requests.get(url,params=params)\n",
    "respose"
   ]
  },
  {
   "cell_type": "code",
   "execution_count": 38,
   "metadata": {},
   "outputs": [],
   "source": [
    "result=respose.json()"
   ]
  },
  {
   "cell_type": "code",
   "execution_count": 39,
   "metadata": {},
   "outputs": [
    {
     "name": "stdout",
     "output_type": "stream",
     "text": [
      "https://finance.yahoo.com/quote/LATENTVIEW.NS/\n"
     ]
    }
   ],
   "source": [
    "if 'items' in result:\n",
    "    print(result['items'][0]['link'])"
   ]
  },
  {
   "cell_type": "code",
   "execution_count": 35,
   "metadata": {},
   "outputs": [],
   "source": [
    "\n",
    "urls=[]\n",
    "if 'items' in result:\n",
    "    for i in result['items']:\n",
    "        urls.append(i['link'])"
   ]
  },
  {
   "cell_type": "code",
   "execution_count": 36,
   "metadata": {},
   "outputs": [
    {
     "data": {
      "text/plain": [
       "['https://finance.yahoo.com/quote/TCS.NS/',\n",
       " 'https://ca.finance.yahoo.com/quote/TCS.TO/',\n",
       " 'https://finance.yahoo.com/quote/TCS/',\n",
       " 'https://sg.finance.yahoo.com/quote/TCS.NS/',\n",
       " 'https://uk.finance.yahoo.com/quote/TCS.BO/',\n",
       " 'https://www.reuters.com/markets/deals/yahoo-acquires-instagram-co-founders-ai-news-platform-artifact-2024-04-02/',\n",
       " 'https://uk.finance.yahoo.com/news/tesco-ms-whitbread-tata-trending-tickers-095506962.html',\n",
       " 'https://www.bloomberg.com/news/articles/2017-08-14/from-google-to-yahoo-tech-grapples-with-white-male-discontent',\n",
       " 'https://uk.finance.yahoo.com/quote/TCS.IL/',\n",
       " 'https://au.finance.yahoo.com/quote/TCS.SG/news?ncid=yahooproperties_peoplealso_km0o32z3jzm']"
      ]
     },
     "execution_count": 36,
     "metadata": {},
     "output_type": "execute_result"
    }
   ],
   "source": [
    "urls"
   ]
  },
  {
   "cell_type": "code",
   "execution_count": null,
   "metadata": {},
   "outputs": [],
   "source": []
  }
 ],
 "metadata": {
  "kernelspec": {
   "display_name": "base",
   "language": "python",
   "name": "python3"
  },
  "language_info": {
   "codemirror_mode": {
    "name": "ipython",
    "version": 3
   },
   "file_extension": ".py",
   "mimetype": "text/x-python",
   "name": "python",
   "nbconvert_exporter": "python",
   "pygments_lexer": "ipython3",
   "version": "3.9.12"
  }
 },
 "nbformat": 4,
 "nbformat_minor": 2
}
