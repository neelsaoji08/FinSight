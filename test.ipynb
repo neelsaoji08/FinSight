{
 "cells": [
  {
   "cell_type": "code",
   "execution_count": 6,
   "metadata": {},
   "outputs": [],
   "source": [
    "import requests\n",
    "from bs4 import BeautifulSoup\n",
    "news_page_url='https://www.livemint.com/market/market-stats/stocks-tata-consultancy-services-share-price-nse-bse-s0003051'"
   ]
  },
  {
   "cell_type": "code",
   "execution_count": 16,
   "metadata": {},
   "outputs": [],
   "source": [
    "r = requests.get(news_page_url)\n",
    "soup = BeautifulSoup(r.text, 'html.parser')\n",
    "d=soup.find(id='stock_news')\n",
    "news_links=[a.get('href') for a in d.find_all('a') ]\n",
    "news_links=list(set(news_links))"
   ]
  },
  {
   "cell_type": "code",
   "execution_count": 17,
   "metadata": {},
   "outputs": [
    {
     "data": {
      "text/plain": [
       "['https://www.livemint.com/market/stock-market-news/dividend-stocks-tcs-pcbl-cesc-among-others-to-trade-ex-dividend-next-week-full-list-11736644399690.html',\n",
       " 'https://www.livemint.com/tata-consultancy-services/news/companyid-s0003051',\n",
       " 'https://www.livemint.com/market/stock-market-news/tcs-dividend-should-you-buy-tcs-stock-ahead-of-dividend-record-date-on-january-17-11737015412847.html',\n",
       " 'https://www.livemint.com/market/stock-market-news/market-cap-of-five-of-top-10-most-valued-firms-tumbles-1-85-lakh-crore-hdfc-bank-hit-hard-11736659947705.html',\n",
       " 'https://www.livemint.com/market/stock-market-news/amara-raja-bel-to-bharat-forge-why-are-ev-stocks-rising-today-experts-link-it-to-this-tcs-study-11736834951373.html',\n",
       " 'https://www.livemint.com/companies/infosys-q3-results-5-things-to-watch-out-for-information-technology-tata-consultancy-services-hcl-tech-it-services-11736913373674.html']"
      ]
     },
     "execution_count": 17,
     "metadata": {},
     "output_type": "execute_result"
    }
   ],
   "source": [
    "news_links"
   ]
  },
  {
   "cell_type": "code",
   "execution_count": null,
   "metadata": {},
   "outputs": [],
   "source": []
  },
  {
   "cell_type": "code",
   "execution_count": null,
   "metadata": {},
   "outputs": [],
   "source": []
  }
 ],
 "metadata": {
  "kernelspec": {
   "display_name": "base",
   "language": "python",
   "name": "python3"
  },
  "language_info": {
   "codemirror_mode": {
    "name": "ipython",
    "version": 3
   },
   "file_extension": ".py",
   "mimetype": "text/x-python",
   "name": "python",
   "nbconvert_exporter": "python",
   "pygments_lexer": "ipython3",
   "version": "3.9.12"
  }
 },
 "nbformat": 4,
 "nbformat_minor": 2
}
